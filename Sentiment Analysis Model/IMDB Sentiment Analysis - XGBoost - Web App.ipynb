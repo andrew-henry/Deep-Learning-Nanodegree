{
 "cells": [
  {
   "cell_type": "markdown",
   "metadata": {},
   "source": [
    "# Sentiment Analysis Web App\n",
    "\n",
    "_Deep Learning Nanodegree Program | Deployment_\n",
    "\n",
    "---\n",
    "\n",
    "In this notebook we will use Amazon's SageMaker service to construct a random tree model to predict the sentiment of a movie review. In addition, we will deploy this model to an endpoint and construct a very simple web app which will interact with our model's deployed endpoint.\n",
    "\n",
    "## General Outline\n",
    "\n",
    "Typically, when using a notebook instance with SageMaker, you will proceed through the following steps. Of course, not every step will need to be done with each project. Also, there is quite a lot of room for variation in many of the steps, as you will see throughout these lessons.\n",
    "\n",
    "1. Download or otherwise retrieve the data.\n",
    "2. Process / Prepare the data.\n",
    "3. Upload the processed data to S3.\n",
    "4. Train a chosen model.\n",
    "5. Test the trained model (typically using a batch transform job).\n",
    "6. Deploy the trained model.\n",
    "7. Use the deployed model.\n",
    "\n",
    "In this notebook we will progress through each of the steps above. We will also see that the final step, using the deployed model, can be quite challenging."
   ]
  },
  {
   "cell_type": "markdown",
   "metadata": {},
   "source": [
    "## Step 1: Downloading the data\n",
    "\n",
    "The dataset we are going to use is very popular among researchers in Natural Language Processing, usually referred to as the [IMDb dataset](http://ai.stanford.edu/~amaas/data/sentiment/). It consists of movie reviews from the website [imdb.com](http://www.imdb.com/), each labeled as either '**pos**itive', if the reviewer enjoyed the film, or '**neg**ative' otherwise.\n",
    "\n",
    "> Maas, Andrew L., et al. [Learning Word Vectors for Sentiment Analysis](http://ai.stanford.edu/~amaas/data/sentiment/). In _Proceedings of the 49th Annual Meeting of the Association for Computational Linguistics: Human Language Technologies_. Association for Computational Linguistics, 2011.\n",
    "\n",
    "We begin by using some Jupyter Notebook magic to download and extract the dataset."
   ]
  },
  {
   "cell_type": "code",
   "execution_count": 1,
   "metadata": {},
   "outputs": [
    {
     "name": "stdout",
     "output_type": "stream",
     "text": [
      "mkdir: cannot create directory ‘../data’: File exists\n",
      "--2019-09-02 04:19:01--  http://ai.stanford.edu/~amaas/data/sentiment/aclImdb_v1.tar.gz\n",
      "Resolving ai.stanford.edu (ai.stanford.edu)... 171.64.68.10\n",
      "Connecting to ai.stanford.edu (ai.stanford.edu)|171.64.68.10|:80... connected.\n",
      "HTTP request sent, awaiting response... 200 OK\n",
      "Length: 84125825 (80M) [application/x-gzip]\n",
      "Saving to: ‘../data/aclImdb_v1.tar.gz’\n",
      "\n",
      "../data/aclImdb_v1. 100%[===================>]  80.23M  23.7MB/s    in 5.3s    \n",
      "\n",
      "2019-09-02 04:19:07 (15.1 MB/s) - ‘../data/aclImdb_v1.tar.gz’ saved [84125825/84125825]\n",
      "\n"
     ]
    }
   ],
   "source": [
    "%mkdir ../data\n",
    "!wget -O ../data/aclImdb_v1.tar.gz http://ai.stanford.edu/~amaas/data/sentiment/aclImdb_v1.tar.gz\n",
    "!tar -zxf ../data/aclImdb_v1.tar.gz -C ../data"
   ]
  },
  {
   "cell_type": "markdown",
   "metadata": {},
   "source": [
    "## Step 2: Preparing and Processing the data\n",
    "\n",
    "The data we have downloaded is split into various files, each of which contains a single review. It will be much easier going forward if we combine these individual files into two large files, one for training and one for testing."
   ]
  },
  {
   "cell_type": "code",
   "execution_count": 2,
   "metadata": {},
   "outputs": [],
   "source": [
    "import os\n",
    "import glob\n",
    "\n",
    "def read_imdb_data(data_dir='../data/aclImdb'):\n",
    "    data = {}\n",
    "    labels = {}\n",
    "    \n",
    "    for data_type in ['train', 'test']:\n",
    "        data[data_type] = {}\n",
    "        labels[data_type] = {}\n",
    "        \n",
    "        for sentiment in ['pos', 'neg']:\n",
    "            data[data_type][sentiment] = []\n",
    "            labels[data_type][sentiment] = []\n",
    "            \n",
    "            path = os.path.join(data_dir, data_type, sentiment, '*.txt')\n",
    "            files = glob.glob(path)\n",
    "            \n",
    "            for f in files:\n",
    "                with open(f) as review:\n",
    "                    data[data_type][sentiment].append(review.read())\n",
    "                    # Here we represent a positive review by '1' and a negative review by '0'\n",
    "                    labels[data_type][sentiment].append(1 if sentiment == 'pos' else 0)\n",
    "                    \n",
    "            assert len(data[data_type][sentiment]) == len(labels[data_type][sentiment]), \\\n",
    "                    \"{}/{} data size does not match labels size\".format(data_type, sentiment)\n",
    "                \n",
    "    return data, labels"
   ]
  },
  {
   "cell_type": "code",
   "execution_count": 3,
   "metadata": {},
   "outputs": [
    {
     "name": "stdout",
     "output_type": "stream",
     "text": [
      "IMDB reviews: train = 12500 pos / 12500 neg, test = 12500 pos / 12500 neg\n"
     ]
    }
   ],
   "source": [
    "data, labels = read_imdb_data()\n",
    "print(\"IMDB reviews: train = {} pos / {} neg, test = {} pos / {} neg\".format(\n",
    "            len(data['train']['pos']), len(data['train']['neg']),\n",
    "            len(data['test']['pos']), len(data['test']['neg'])))"
   ]
  },
  {
   "cell_type": "code",
   "execution_count": 4,
   "metadata": {},
   "outputs": [],
   "source": [
    "from sklearn.utils import shuffle\n",
    "\n",
    "def prepare_imdb_data(data, labels):\n",
    "    \"\"\"Prepare training and test sets from IMDb movie reviews.\"\"\"\n",
    "    \n",
    "    #Combine positive and negative reviews and labels\n",
    "    data_train = data['train']['pos'] + data['train']['neg']\n",
    "    data_test = data['test']['pos'] + data['test']['neg']\n",
    "    labels_train = labels['train']['pos'] + labels['train']['neg']\n",
    "    labels_test = labels['test']['pos'] + labels['test']['neg']\n",
    "    \n",
    "    #Shuffle reviews and corresponding labels within training and test sets\n",
    "    data_train, labels_train = shuffle(data_train, labels_train)\n",
    "    data_test, labels_test = shuffle(data_test, labels_test)\n",
    "    \n",
    "    # Return a unified training data, test data, training labels, test labets\n",
    "    return data_train, data_test, labels_train, labels_test"
   ]
  },
  {
   "cell_type": "code",
   "execution_count": 5,
   "metadata": {},
   "outputs": [
    {
     "name": "stdout",
     "output_type": "stream",
     "text": [
      "IMDb reviews (combined): train = 25000, test = 25000\n"
     ]
    }
   ],
   "source": [
    "train_X, test_X, train_y, test_y = prepare_imdb_data(data, labels)\n",
    "print(\"IMDb reviews (combined): train = {}, test = {}\".format(len(train_X), len(test_X)))"
   ]
  },
  {
   "cell_type": "code",
   "execution_count": 6,
   "metadata": {},
   "outputs": [
    {
     "data": {
      "text/plain": [
       "\"This is the moving tale of Scotland's legendary hero, Rob Roy, and his battles with the feudal landowners. Like Braveheart to which it is frequently compared, it is not very historical. Despite their primarily fictional nature, I rate both of these movies highly and would be hard pressed to choose between the two. The 13 Century William Wallace is, as others have noted, a larger than life national figure, while the early 18th Century Rob Roy comes across as an honourable but ordinary Scotsman.<br /><br />The story revolves around a clan chieftain, Robert Roy McGregor, who lives in a Scottish highland cottage with his wife Mary and their two young sons. As the movie begins, he and his fellow clansmen are hunting down some thieves who have stolen the local lord's cattle. Rob Roy then wishes to improve the living conditions of his people so arranges to borrow one thousand Scottish pounds from a local noble, the Marquis of Montrose, in order to buy cattle to herd to market. He temporarily entrusts this money to his friend, Alan McDonald. When both McDonald and the money turn up missing, Rob Roy finds himself in conflict with Montrose as well as his despicable protégé, Archibald Cunningham, and his sleazy factor, Killearn. Rob Roy's honour is also tested when Montrose seeks to involve him in false testimony against his rival, the Duke of Argyle, whom he wishes to accuse of being a Jacobite.<br /><br />The charismatic Liam Leeson is brilliant as the kilted highlander Rob Roy, an intelligent, virile, and noble hero and a man whose sense of honour is pivotal to this tale. Personally, I feel that this is Neeson's best performance, his brogue (albeit Irish) adding authenticity for the average viewer. Rob Roy is a stubborn, proud, courageous, and honest man whose word can be trusted. He is a loving husband & father, and also touchingly loyal to his friend, McDonald, who is accused of robbing him. <br /><br />Tim Roth masterfully portrays his major adversary and surely one of the most heinous and sadistic cinematic villains, Archibald Cunningham, an egotistical, ruthless strutting peacock. He is very effeminate for someone who makes it his major business to ravish the local women, whether willing or otherwise. The pathetic Cunningham himself constantly refers to the fact that he is a bastard unaware of his own father's identity, though this hardly justifies his horrendous misdeeds of murder, rape, and thievery. Also, he mercilessly casts aside the young servant girl, Betty, after she becomes pregnant with his child, resulting in her suicide. John Hurt plays the arrogant and foppish Montrose, who is eventually implied to be Cunningham's father.<br /><br />The movie is essentially the very believable love story between an ordinary man and his wife, beautifully depicting the passionate relationship between Rob Roy and Mary. Those who question the presence of passion within marriage should watch this husband and wife! I think the phrase used by this pair, 'How fine you are to me...' is surely one of the most beautiful expressions of love in all cinema. <br /><br />The most compelling performance is possibly by Jessica Lange as Rob's wife, Mary McGregor. Lacking make up, she has the pretty but natural look of a sturdy peasant wife and mother. The actress brings great courage and dignity to her role when she is brutally raped by the despicable Cunningham, while the disgusting Killearn looks on. Her dialogue is plain spoken but filled with pride and grace. I give Hollywood its due that for once they showed just enough in the rape scene to reveal its cruelty as well as Mary's pain and humiliation, but nothing intended to sensationalize. Their kinsman, Alastair McGregor, shows emotional anguish when he learns of Mary's rape, and further torment when she swears him to secrecy never to reveal to her husband her violation by Cunningham. <br /><br />Of course this film features the beautiful scenery of the Scottish highlands, also lavish period costumes and appropriate musical scoring. There are no grand battle scenes as in Braveheart, but continuous engaging action and a particularly gripping sword fight in the final duel between Rob Roy and Cunningham. This is a captivating movie featuring both tense action and a beautiful love tale.\""
      ]
     },
     "execution_count": 6,
     "metadata": {},
     "output_type": "execute_result"
    }
   ],
   "source": [
    "train_X[100]"
   ]
  },
  {
   "cell_type": "markdown",
   "metadata": {},
   "source": [
    "## Processing the data\n",
    "\n",
    "Now that we have our training and testing datasets merged and ready to use, we need to start processing the raw data into something that will be useable by our machine learning algorithm. To begin with, we remove any html formatting and any non-alpha numeric characters that may appear in the reviews. We will do this in a very simplistic way using Python's regular expression module. We will discuss the reason for this rather simplistic pre-processing later on."
   ]
  },
  {
   "cell_type": "code",
   "execution_count": 7,
   "metadata": {},
   "outputs": [],
   "source": [
    "import re\n",
    "\n",
    "REPLACE_NO_SPACE = re.compile(\"(\\.)|(\\;)|(\\:)|(\\!)|(\\')|(\\?)|(\\,)|(\\\")|(\\()|(\\))|(\\[)|(\\])\")\n",
    "REPLACE_WITH_SPACE = re.compile(\"(<br\\s*/><br\\s*/>)|(\\-)|(\\/)\")\n",
    "\n",
    "def review_to_words(review):\n",
    "    words = REPLACE_NO_SPACE.sub(\"\", review.lower())\n",
    "    words = REPLACE_WITH_SPACE.sub(\" \", words)\n",
    "    return words"
   ]
  },
  {
   "cell_type": "code",
   "execution_count": 8,
   "metadata": {},
   "outputs": [
    {
     "data": {
      "text/plain": [
       "'this is the moving tale of scotlands legendary hero rob roy and his battles with the feudal landowners like braveheart to which it is frequently compared it is not very historical despite their primarily fictional nature i rate both of these movies highly and would be hard pressed to choose between the two the 13 century william wallace is as others have noted a larger than life national figure while the early 18th century rob roy comes across as an honourable but ordinary scotsman the story revolves around a clan chieftain robert roy mcgregor who lives in a scottish highland cottage with his wife mary and their two young sons as the movie begins he and his fellow clansmen are hunting down some thieves who have stolen the local lords cattle rob roy then wishes to improve the living conditions of his people so arranges to borrow one thousand scottish pounds from a local noble the marquis of montrose in order to buy cattle to herd to market he temporarily entrusts this money to his friend alan mcdonald when both mcdonald and the money turn up missing rob roy finds himself in conflict with montrose as well as his despicable protégé archibald cunningham and his sleazy factor killearn rob roys honour is also tested when montrose seeks to involve him in false testimony against his rival the duke of argyle whom he wishes to accuse of being a jacobite the charismatic liam leeson is brilliant as the kilted highlander rob roy an intelligent virile and noble hero and a man whose sense of honour is pivotal to this tale personally i feel that this is neesons best performance his brogue albeit irish adding authenticity for the average viewer rob roy is a stubborn proud courageous and honest man whose word can be trusted he is a loving husband & father and also touchingly loyal to his friend mcdonald who is accused of robbing him  tim roth masterfully portrays his major adversary and surely one of the most heinous and sadistic cinematic villains archibald cunningham an egotistical ruthless strutting peacock he is very effeminate for someone who makes it his major business to ravish the local women whether willing or otherwise the pathetic cunningham himself constantly refers to the fact that he is a bastard unaware of his own fathers identity though this hardly justifies his horrendous misdeeds of murder rape and thievery also he mercilessly casts aside the young servant girl betty after she becomes pregnant with his child resulting in her suicide john hurt plays the arrogant and foppish montrose who is eventually implied to be cunninghams father the movie is essentially the very believable love story between an ordinary man and his wife beautifully depicting the passionate relationship between rob roy and mary those who question the presence of passion within marriage should watch this husband and wife i think the phrase used by this pair how fine you are to me is surely one of the most beautiful expressions of love in all cinema  the most compelling performance is possibly by jessica lange as robs wife mary mcgregor lacking make up she has the pretty but natural look of a sturdy peasant wife and mother the actress brings great courage and dignity to her role when she is brutally raped by the despicable cunningham while the disgusting killearn looks on her dialogue is plain spoken but filled with pride and grace i give hollywood its due that for once they showed just enough in the rape scene to reveal its cruelty as well as marys pain and humiliation but nothing intended to sensationalize their kinsman alastair mcgregor shows emotional anguish when he learns of marys rape and further torment when she swears him to secrecy never to reveal to her husband her violation by cunningham  of course this film features the beautiful scenery of the scottish highlands also lavish period costumes and appropriate musical scoring there are no grand battle scenes as in braveheart but continuous engaging action and a particularly gripping sword fight in the final duel between rob roy and cunningham this is a captivating movie featuring both tense action and a beautiful love tale'"
      ]
     },
     "execution_count": 8,
     "metadata": {},
     "output_type": "execute_result"
    }
   ],
   "source": [
    "review_to_words(train_X[100])"
   ]
  },
  {
   "cell_type": "code",
   "execution_count": 9,
   "metadata": {},
   "outputs": [],
   "source": [
    "import pickle\n",
    "\n",
    "cache_dir = os.path.join(\"../cache\", \"sentiment_web_app\")  # where to store cache files\n",
    "os.makedirs(cache_dir, exist_ok=True)  # ensure cache directory exists\n",
    "\n",
    "def preprocess_data(data_train, data_test, labels_train, labels_test,\n",
    "                    cache_dir=cache_dir, cache_file=\"preprocessed_data.pkl\"):\n",
    "    \"\"\"Convert each review to words; read from cache if available.\"\"\"\n",
    "\n",
    "    # If cache_file is not None, try to read from it first\n",
    "    cache_data = None\n",
    "    if cache_file is not None:\n",
    "        try:\n",
    "            with open(os.path.join(cache_dir, cache_file), \"rb\") as f:\n",
    "                cache_data = pickle.load(f)\n",
    "            print(\"Read preprocessed data from cache file:\", cache_file)\n",
    "        except:\n",
    "            pass  # unable to read from cache, but that's okay\n",
    "    \n",
    "    # If cache is missing, then do the heavy lifting\n",
    "    if cache_data is None:\n",
    "        # Preprocess training and test data to obtain words for each review\n",
    "        #words_train = list(map(review_to_words, data_train))\n",
    "        #words_test = list(map(review_to_words, data_test))\n",
    "        words_train = [review_to_words(review) for review in data_train]\n",
    "        words_test = [review_to_words(review) for review in data_test]\n",
    "        \n",
    "        # Write to cache file for future runs\n",
    "        if cache_file is not None:\n",
    "            cache_data = dict(words_train=words_train, words_test=words_test,\n",
    "                              labels_train=labels_train, labels_test=labels_test)\n",
    "            with open(os.path.join(cache_dir, cache_file), \"wb\") as f:\n",
    "                pickle.dump(cache_data, f)\n",
    "            print(\"Wrote preprocessed data to cache file:\", cache_file)\n",
    "    else:\n",
    "        # Unpack data loaded from cache file\n",
    "        words_train, words_test, labels_train, labels_test = (cache_data['words_train'],\n",
    "                cache_data['words_test'], cache_data['labels_train'], cache_data['labels_test'])\n",
    "    \n",
    "    return words_train, words_test, labels_train, labels_test"
   ]
  },
  {
   "cell_type": "code",
   "execution_count": 10,
   "metadata": {},
   "outputs": [
    {
     "name": "stdout",
     "output_type": "stream",
     "text": [
      "Wrote preprocessed data to cache file: preprocessed_data.pkl\n"
     ]
    }
   ],
   "source": [
    "# Preprocess data\n",
    "train_X, test_X, train_y, test_y = preprocess_data(train_X, test_X, train_y, test_y)"
   ]
  },
  {
   "cell_type": "markdown",
   "metadata": {},
   "source": [
    "### Extract Bag-of-Words features\n",
    "\n",
    "For the model we will be implementing, rather than using the reviews directly, we are going to transform each review into a Bag-of-Words feature representation. Keep in mind that 'in the wild' we will only have access to the training set so our transformer can only use the training set to construct a representation."
   ]
  },
  {
   "cell_type": "code",
   "execution_count": 11,
   "metadata": {},
   "outputs": [],
   "source": [
    "import numpy as np\n",
    "from sklearn.feature_extraction.text import CountVectorizer\n",
    "from sklearn.externals import joblib\n",
    "# joblib is an enhanced version of pickle that is more efficient for storing NumPy arrays\n",
    "\n",
    "def extract_BoW_features(words_train, words_test, vocabulary_size=5000,\n",
    "                         cache_dir=cache_dir, cache_file=\"bow_features.pkl\"):\n",
    "    \"\"\"Extract Bag-of-Words for a given set of documents, already preprocessed into words.\"\"\"\n",
    "    \n",
    "    # If cache_file is not None, try to read from it first\n",
    "    cache_data = None\n",
    "    if cache_file is not None:\n",
    "        try:\n",
    "            with open(os.path.join(cache_dir, cache_file), \"rb\") as f:\n",
    "                cache_data = joblib.load(f)\n",
    "            print(\"Read features from cache file:\", cache_file)\n",
    "        except:\n",
    "            pass  # unable to read from cache, but that's okay\n",
    "    \n",
    "    # If cache is missing, then do the heavy lifting\n",
    "    if cache_data is None:\n",
    "        # Fit a vectorizer to training documents and use it to transform them\n",
    "        # NOTE: Training documents have already been preprocessed and tokenized into words;\n",
    "        #       pass in dummy functions to skip those steps, e.g. preprocessor=lambda x: x\n",
    "        vectorizer = CountVectorizer(max_features=vocabulary_size)\n",
    "        features_train = vectorizer.fit_transform(words_train).toarray()\n",
    "\n",
    "        # Apply the same vectorizer to transform the test documents (ignore unknown words)\n",
    "        features_test = vectorizer.transform(words_test).toarray()\n",
    "        \n",
    "        # NOTE: Remember to convert the features using .toarray() for a compact representation\n",
    "        \n",
    "        # Write to cache file for future runs (store vocabulary as well)\n",
    "        if cache_file is not None:\n",
    "            vocabulary = vectorizer.vocabulary_\n",
    "            cache_data = dict(features_train=features_train, features_test=features_test,\n",
    "                             vocabulary=vocabulary)\n",
    "            with open(os.path.join(cache_dir, cache_file), \"wb\") as f:\n",
    "                joblib.dump(cache_data, f)\n",
    "            print(\"Wrote features to cache file:\", cache_file)\n",
    "    else:\n",
    "        # Unpack data loaded from cache file\n",
    "        features_train, features_test, vocabulary = (cache_data['features_train'],\n",
    "                cache_data['features_test'], cache_data['vocabulary'])\n",
    "    \n",
    "    # Return both the extracted features as well as the vocabulary\n",
    "    return features_train, features_test, vocabulary"
   ]
  },
  {
   "cell_type": "code",
   "execution_count": 12,
   "metadata": {},
   "outputs": [
    {
     "name": "stdout",
     "output_type": "stream",
     "text": [
      "Wrote features to cache file: bow_features.pkl\n"
     ]
    }
   ],
   "source": [
    "# Extract Bag of Words features for both training and test datasets\n",
    "train_X, test_X, vocabulary = extract_BoW_features(train_X, test_X)"
   ]
  },
  {
   "cell_type": "code",
   "execution_count": 13,
   "metadata": {},
   "outputs": [
    {
     "data": {
      "text/plain": [
       "5000"
      ]
     },
     "execution_count": 13,
     "metadata": {},
     "output_type": "execute_result"
    }
   ],
   "source": [
    "len(train_X[100])"
   ]
  },
  {
   "cell_type": "markdown",
   "metadata": {},
   "source": [
    "## Step 3: Upload data to S3\n",
    "\n",
    "Now that we have created the feature representation of our training (and testing) data, it is time to start setting up and using the XGBoost classifier provided by SageMaker.\n",
    "\n",
    "### Writing the datasets\n",
    "\n",
    "The XGBoost classifier that we will be using requires the dataset to be written to a file and stored using Amazon S3. To do this, we will start by splitting the training dataset into two parts, the data we will train the model with and a validation set. Then, we will write those datasets to a file locally and then upload the files to S3. In addition, we will write the test set to a file and upload that file to S3. This is so that we can use SageMakers Batch Transform functionality to test our model once we've fit it."
   ]
  },
  {
   "cell_type": "code",
   "execution_count": 14,
   "metadata": {},
   "outputs": [],
   "source": [
    "import pandas as pd\n",
    "\n",
    "# Earlier we shuffled the training dataset so to make things simple we can just assign\n",
    "# the first 10 000 reviews to the validation set and use the remaining reviews for training.\n",
    "val_X = pd.DataFrame(train_X[:10000])\n",
    "train_X = pd.DataFrame(train_X[10000:])\n",
    "\n",
    "val_y = pd.DataFrame(train_y[:10000])\n",
    "train_y = pd.DataFrame(train_y[10000:])"
   ]
  },
  {
   "cell_type": "markdown",
   "metadata": {},
   "source": [
    "The documentation for the XGBoost algorithm in SageMaker requires that the training and validation datasets should contain no headers or index and that the label should occur first for each sample.\n",
    "\n",
    "For more information about this and other algorithms, the SageMaker developer documentation can be found on __[Amazon's website.](https://docs.aws.amazon.com/sagemaker/latest/dg/)__"
   ]
  },
  {
   "cell_type": "code",
   "execution_count": 15,
   "metadata": {},
   "outputs": [],
   "source": [
    "# First we make sure that the local directory in which we'd like to store the training and validation csv files exists.\n",
    "data_dir = '../data/sentiment_web_app'\n",
    "if not os.path.exists(data_dir):\n",
    "    os.makedirs(data_dir)"
   ]
  },
  {
   "cell_type": "code",
   "execution_count": 16,
   "metadata": {},
   "outputs": [],
   "source": [
    "pd.DataFrame(test_X).to_csv(os.path.join(data_dir, 'test.csv'), header=False, index=False)\n",
    "\n",
    "pd.concat([val_y, val_X], axis=1).to_csv(os.path.join(data_dir, 'validation.csv'), header=False, index=False)\n",
    "pd.concat([train_y, train_X], axis=1).to_csv(os.path.join(data_dir, 'train.csv'), header=False, index=False)"
   ]
  },
  {
   "cell_type": "code",
   "execution_count": 17,
   "metadata": {},
   "outputs": [],
   "source": [
    "# To save a bit of memory we can set text_X, train_X, val_X, train_y and val_y to None.\n",
    "\n",
    "test_X = train_X = val_X = train_y = val_y = None"
   ]
  },
  {
   "cell_type": "markdown",
   "metadata": {},
   "source": [
    "### Uploading Training / Validation files to S3\n",
    "\n",
    "Amazon's S3 service allows us to store files that can be accessed by both the built-in training models such as the XGBoost model we will be using as well as custom models such as the one we will see a little later.\n",
    "\n",
    "For this and most other tasks we will be doing using SageMaker, there are two methods we could use. The first is to use the low level functionality of SageMaker which requires knowing each of the objects involved in the SageMaker environment. The second is to use the high level functionality in which certain choices have been made on the user's behalf. The low level approach benefits from allowing the user a great deal of flexibility while the high level approach makes development much quicker. For our purposes we will opt to use the high level approach although using the low-level approach is certainly an option.\n",
    "\n",
    "Recall the method `upload_data()` which is a member of the object representing our current SageMaker session. What this method does is upload the data to the default bucket (which is created if it does not exist) into the path described by the key_prefix variable. To see this for yourself, once you have uploaded the data files, go to the S3 console and look to see where the files have been uploaded.\n",
    "\n",
    "For additional resources, see the __[SageMaker API documentation](http://sagemaker.readthedocs.io/en/latest/)__ and in addition the __[SageMaker Developer Guide.](https://docs.aws.amazon.com/sagemaker/latest/dg/)__"
   ]
  },
  {
   "cell_type": "code",
   "execution_count": 18,
   "metadata": {},
   "outputs": [],
   "source": [
    "import sagemaker\n",
    "\n",
    "session = sagemaker.Session() # Store the current SageMaker session\n",
    "\n",
    "# S3 prefix (which folder will we use)\n",
    "prefix = 'sentiment-web-app'\n",
    "\n",
    "test_location = session.upload_data(os.path.join(data_dir, 'test.csv'), key_prefix=prefix)\n",
    "val_location = session.upload_data(os.path.join(data_dir, 'validation.csv'), key_prefix=prefix)\n",
    "train_location = session.upload_data(os.path.join(data_dir, 'train.csv'), key_prefix=prefix)"
   ]
  },
  {
   "cell_type": "markdown",
   "metadata": {},
   "source": [
    "## Step 4: Creating the XGBoost model\n",
    "\n",
    "Now that the data has been uploaded it is time to create the XGBoost model. To begin with, we need to do some setup. At this point it is worth discussing what a model is in SageMaker. It is easiest to think of a model of comprising three different objects in the SageMaker ecosystem, which interact with one another.\n",
    "\n",
    "- Model Artifacts\n",
    "- Training Code (Container)\n",
    "- Inference Code (Container)\n",
    "\n",
    "The Model Artifacts are what you might think of as the actual model itself. For example, if you were building a neural network, the model artifacts would be the weights of the various layers. In our case, for an XGBoost model, the artifacts are the actual trees that are created during training.\n",
    "\n",
    "The other two objects, the training code and the inference code are then used to manipulate the training artifacts. More precisely, the training code uses the training data that is provided and creates the model artifacts, while the inference code uses the model artifacts to make predictions on new data.\n",
    "\n",
    "The way that SageMaker runs the training and inference code is by making use of Docker containers. For now, think of a container as being a way of packaging code up so that dependencies aren't an issue."
   ]
  },
  {
   "cell_type": "code",
   "execution_count": 19,
   "metadata": {},
   "outputs": [],
   "source": [
    "from sagemaker import get_execution_role\n",
    "\n",
    "# Our current execution role is required when creating the model as the training\n",
    "# and inference code will need to access the model artifacts.\n",
    "role = get_execution_role()"
   ]
  },
  {
   "cell_type": "code",
   "execution_count": 20,
   "metadata": {},
   "outputs": [],
   "source": [
    "# We need to retrieve the location of the container which is provided by Amazon for using XGBoost.\n",
    "# As a matter of convenience, the training and inference code both use the same container.\n",
    "from sagemaker.amazon.amazon_estimator import get_image_uri\n",
    "\n",
    "container = get_image_uri(session.boto_region_name, 'xgboost')"
   ]
  },
  {
   "cell_type": "code",
   "execution_count": 21,
   "metadata": {},
   "outputs": [],
   "source": [
    "# First we create a SageMaker estimator object for our model.\n",
    "xgb = sagemaker.estimator.Estimator(container, # The location of the container we wish to use\n",
    "                                    role,                                    # What is our current IAM Role\n",
    "                                    train_instance_count=1,                  # How many compute instances\n",
    "                                    train_instance_type='ml.m4.xlarge',      # What kind of compute instances\n",
    "                                    output_path='s3://{}/{}/output'.format(session.default_bucket(), prefix),\n",
    "                                    sagemaker_session=session)\n",
    "\n",
    "# And then set the algorithm specific parameters.\n",
    "xgb.set_hyperparameters(max_depth=5,\n",
    "                        eta=0.2,\n",
    "                        gamma=4,\n",
    "                        min_child_weight=6,\n",
    "                        subsample=0.8,\n",
    "                        silent=0,\n",
    "                        objective='binary:logistic',\n",
    "                        early_stopping_rounds=10,\n",
    "                        num_round=500)"
   ]
  },
  {
   "cell_type": "markdown",
   "metadata": {},
   "source": [
    "### Fit the XGBoost model\n",
    "\n",
    "Now that our model has been set up we simply need to attach the training and validation datasets and then ask SageMaker to set up the computation."
   ]
  },
  {
   "cell_type": "code",
   "execution_count": 22,
   "metadata": {},
   "outputs": [],
   "source": [
    "s3_input_train = sagemaker.s3_input(s3_data=train_location, content_type='csv')\n",
    "s3_input_validation = sagemaker.s3_input(s3_data=val_location, content_type='csv')"
   ]
  },
  {
   "cell_type": "code",
   "execution_count": 23,
   "metadata": {},
   "outputs": [
    {
     "name": "stdout",
     "output_type": "stream",
     "text": [
      "2019-09-02 04:28:41 Starting - Starting the training job...\n",
      "2019-09-02 04:28:47 Starting - Launching requested ML instances......\n",
      "2019-09-02 04:29:50 Starting - Preparing the instances for training......\n",
      "2019-09-02 04:30:45 Downloading - Downloading input data...\n",
      "2019-09-02 04:31:37 Training - Training image download completed. Training in progress..\n",
      "\u001b[31mArguments: train\u001b[0m\n",
      "\u001b[31m[2019-09-02:04:31:38:INFO] Running standalone xgboost training.\u001b[0m\n",
      "\u001b[31m[2019-09-02:04:31:38:INFO] File size need to be processed in the node: 238.5mb. Available memory size in the node: 8591.75mb\u001b[0m\n",
      "\u001b[31m[2019-09-02:04:31:38:INFO] Determined delimiter of CSV input is ','\u001b[0m\n",
      "\u001b[31m[04:31:38] S3DistributionType set as FullyReplicated\u001b[0m\n",
      "\u001b[31m[04:31:39] 15000x5000 matrix with 75000000 entries loaded from /opt/ml/input/data/train?format=csv&label_column=0&delimiter=,\u001b[0m\n",
      "\u001b[31m[2019-09-02:04:31:39:INFO] Determined delimiter of CSV input is ','\u001b[0m\n",
      "\u001b[31m[04:31:39] S3DistributionType set as FullyReplicated\u001b[0m\n",
      "\u001b[31m[04:31:41] 10000x5000 matrix with 50000000 entries loaded from /opt/ml/input/data/validation?format=csv&label_column=0&delimiter=,\u001b[0m\n",
      "\u001b[31m[04:31:44] src/tree/updater_prune.cc:74: tree pruning end, 1 roots, 40 extra nodes, 12 pruned nodes, max_depth=5\u001b[0m\n",
      "\u001b[31m[0]#011train-error:0.3072#011validation-error:0.308\u001b[0m\n",
      "\u001b[31mMultiple eval metrics have been passed: 'validation-error' will be used for early stopping.\n",
      "\u001b[0m\n",
      "\u001b[31mWill train until validation-error hasn't improved in 10 rounds.\u001b[0m\n",
      "\u001b[31m[04:31:45] src/tree/updater_prune.cc:74: tree pruning end, 1 roots, 32 extra nodes, 8 pruned nodes, max_depth=5\u001b[0m\n",
      "\u001b[31m[1]#011train-error:0.3032#011validation-error:0.3075\u001b[0m\n",
      "\u001b[31m[04:31:47] src/tree/updater_prune.cc:74: tree pruning end, 1 roots, 32 extra nodes, 6 pruned nodes, max_depth=5\u001b[0m\n",
      "\u001b[31m[2]#011train-error:0.282867#011validation-error:0.2927\u001b[0m\n",
      "\u001b[31m[04:31:48] src/tree/updater_prune.cc:74: tree pruning end, 1 roots, 36 extra nodes, 2 pruned nodes, max_depth=5\u001b[0m\n",
      "\u001b[31m[3]#011train-error:0.279067#011validation-error:0.288\u001b[0m\n",
      "\u001b[31m[04:31:49] src/tree/updater_prune.cc:74: tree pruning end, 1 roots, 42 extra nodes, 6 pruned nodes, max_depth=5\u001b[0m\n",
      "\u001b[31m[4]#011train-error:0.2678#011validation-error:0.282\u001b[0m\n",
      "\u001b[31m[04:31:51] src/tree/updater_prune.cc:74: tree pruning end, 1 roots, 28 extra nodes, 10 pruned nodes, max_depth=5\u001b[0m\n",
      "\u001b[31m[5]#011train-error:0.257333#011validation-error:0.2707\u001b[0m\n",
      "\u001b[31m[04:31:52] src/tree/updater_prune.cc:74: tree pruning end, 1 roots, 36 extra nodes, 8 pruned nodes, max_depth=5\u001b[0m\n",
      "\u001b[31m[6]#011train-error:0.247067#011validation-error:0.2618\u001b[0m\n",
      "\u001b[31m[04:31:53] src/tree/updater_prune.cc:74: tree pruning end, 1 roots, 38 extra nodes, 12 pruned nodes, max_depth=5\u001b[0m\n",
      "\u001b[31m[7]#011train-error:0.246333#011validation-error:0.2595\u001b[0m\n",
      "\u001b[31m[04:31:55] src/tree/updater_prune.cc:74: tree pruning end, 1 roots, 42 extra nodes, 4 pruned nodes, max_depth=5\u001b[0m\n",
      "\u001b[31m[8]#011train-error:0.2402#011validation-error:0.2537\u001b[0m\n",
      "\u001b[31m[04:31:56] src/tree/updater_prune.cc:74: tree pruning end, 1 roots, 30 extra nodes, 6 pruned nodes, max_depth=5\u001b[0m\n",
      "\u001b[31m[9]#011train-error:0.2358#011validation-error:0.2494\u001b[0m\n",
      "\u001b[31m[04:31:57] src/tree/updater_prune.cc:74: tree pruning end, 1 roots, 22 extra nodes, 14 pruned nodes, max_depth=5\u001b[0m\n",
      "\u001b[31m[10]#011train-error:0.2316#011validation-error:0.2465\u001b[0m\n",
      "\u001b[31m[04:31:58] src/tree/updater_prune.cc:74: tree pruning end, 1 roots, 44 extra nodes, 8 pruned nodes, max_depth=5\u001b[0m\n",
      "\u001b[31m[11]#011train-error:0.223067#011validation-error:0.2376\u001b[0m\n",
      "\u001b[31m[04:32:00] src/tree/updater_prune.cc:74: tree pruning end, 1 roots, 34 extra nodes, 6 pruned nodes, max_depth=5\u001b[0m\n",
      "\u001b[31m[12]#011train-error:0.215533#011validation-error:0.2327\u001b[0m\n",
      "\u001b[31m[04:32:01] src/tree/updater_prune.cc:74: tree pruning end, 1 roots, 34 extra nodes, 2 pruned nodes, max_depth=5\u001b[0m\n",
      "\u001b[31m[13]#011train-error:0.2116#011validation-error:0.2283\u001b[0m\n",
      "\u001b[31m[04:32:02] src/tree/updater_prune.cc:74: tree pruning end, 1 roots, 34 extra nodes, 2 pruned nodes, max_depth=5\u001b[0m\n",
      "\u001b[31m[14]#011train-error:0.207733#011validation-error:0.2233\u001b[0m\n",
      "\u001b[31m[04:32:03] src/tree/updater_prune.cc:74: tree pruning end, 1 roots, 24 extra nodes, 14 pruned nodes, max_depth=5\u001b[0m\n",
      "\u001b[31m[15]#011train-error:0.206667#011validation-error:0.2229\u001b[0m\n",
      "\u001b[31m[04:32:05] src/tree/updater_prune.cc:74: tree pruning end, 1 roots, 26 extra nodes, 8 pruned nodes, max_depth=5\u001b[0m\n",
      "\u001b[31m[16]#011train-error:0.202333#011validation-error:0.2204\u001b[0m\n",
      "\u001b[31m[04:32:06] src/tree/updater_prune.cc:74: tree pruning end, 1 roots, 26 extra nodes, 10 pruned nodes, max_depth=5\u001b[0m\n",
      "\u001b[31m[17]#011train-error:0.199333#011validation-error:0.2187\u001b[0m\n",
      "\u001b[31m[04:32:07] src/tree/updater_prune.cc:74: tree pruning end, 1 roots, 26 extra nodes, 10 pruned nodes, max_depth=5\u001b[0m\n",
      "\u001b[31m[18]#011train-error:0.1974#011validation-error:0.2185\u001b[0m\n",
      "\u001b[31m[04:32:08] src/tree/updater_prune.cc:74: tree pruning end, 1 roots, 32 extra nodes, 6 pruned nodes, max_depth=5\u001b[0m\n",
      "\u001b[31m[19]#011train-error:0.194467#011validation-error:0.2151\u001b[0m\n",
      "\u001b[31m[04:32:10] src/tree/updater_prune.cc:74: tree pruning end, 1 roots, 28 extra nodes, 12 pruned nodes, max_depth=5\u001b[0m\n",
      "\u001b[31m[20]#011train-error:0.191667#011validation-error:0.2103\u001b[0m\n",
      "\u001b[31m[04:32:11] src/tree/updater_prune.cc:74: tree pruning end, 1 roots, 38 extra nodes, 8 pruned nodes, max_depth=5\u001b[0m\n",
      "\u001b[31m[21]#011train-error:0.189867#011validation-error:0.2085\u001b[0m\n",
      "\u001b[31m[04:32:12] src/tree/updater_prune.cc:74: tree pruning end, 1 roots, 22 extra nodes, 14 pruned nodes, max_depth=5\u001b[0m\n",
      "\u001b[31m[22]#011train-error:0.1874#011validation-error:0.2063\u001b[0m\n",
      "\u001b[31m[04:32:13] src/tree/updater_prune.cc:74: tree pruning end, 1 roots, 34 extra nodes, 8 pruned nodes, max_depth=5\u001b[0m\n",
      "\u001b[31m[23]#011train-error:0.185133#011validation-error:0.2052\u001b[0m\n",
      "\u001b[31m[04:32:15] src/tree/updater_prune.cc:74: tree pruning end, 1 roots, 18 extra nodes, 14 pruned nodes, max_depth=5\u001b[0m\n",
      "\u001b[31m[24]#011train-error:0.182533#011validation-error:0.2039\u001b[0m\n",
      "\u001b[31m[04:32:16] src/tree/updater_prune.cc:74: tree pruning end, 1 roots, 22 extra nodes, 8 pruned nodes, max_depth=5\u001b[0m\n",
      "\u001b[31m[25]#011train-error:0.181267#011validation-error:0.2008\u001b[0m\n",
      "\u001b[31m[04:32:17] src/tree/updater_prune.cc:74: tree pruning end, 1 roots, 44 extra nodes, 4 pruned nodes, max_depth=5\u001b[0m\n",
      "\u001b[31m[26]#011train-error:0.178133#011validation-error:0.1977\u001b[0m\n",
      "\u001b[31m[04:32:19] src/tree/updater_prune.cc:74: tree pruning end, 1 roots, 34 extra nodes, 4 pruned nodes, max_depth=5\u001b[0m\n",
      "\u001b[31m[27]#011train-error:0.1742#011validation-error:0.196\u001b[0m\n",
      "\u001b[31m[04:32:20] src/tree/updater_prune.cc:74: tree pruning end, 1 roots, 18 extra nodes, 8 pruned nodes, max_depth=5\u001b[0m\n",
      "\u001b[31m[28]#011train-error:0.173467#011validation-error:0.1943\u001b[0m\n",
      "\u001b[31m[04:32:21] src/tree/updater_prune.cc:74: tree pruning end, 1 roots, 34 extra nodes, 10 pruned nodes, max_depth=5\u001b[0m\n",
      "\u001b[31m[29]#011train-error:0.171733#011validation-error:0.1923\u001b[0m\n",
      "\u001b[31m[04:32:22] src/tree/updater_prune.cc:74: tree pruning end, 1 roots, 26 extra nodes, 14 pruned nodes, max_depth=5\u001b[0m\n",
      "\u001b[31m[30]#011train-error:0.169333#011validation-error:0.1919\u001b[0m\n",
      "\u001b[31m[04:32:24] src/tree/updater_prune.cc:74: tree pruning end, 1 roots, 16 extra nodes, 12 pruned nodes, max_depth=5\u001b[0m\n",
      "\u001b[31m[31]#011train-error:0.167533#011validation-error:0.1917\u001b[0m\n",
      "\u001b[31m[04:32:25] src/tree/updater_prune.cc:74: tree pruning end, 1 roots, 20 extra nodes, 12 pruned nodes, max_depth=5\u001b[0m\n",
      "\u001b[31m[32]#011train-error:0.165267#011validation-error:0.1896\u001b[0m\n",
      "\u001b[31m[04:32:26] src/tree/updater_prune.cc:74: tree pruning end, 1 roots, 16 extra nodes, 10 pruned nodes, max_depth=5\u001b[0m\n",
      "\u001b[31m[33]#011train-error:0.1636#011validation-error:0.1882\u001b[0m\n",
      "\u001b[31m[04:32:27] src/tree/updater_prune.cc:74: tree pruning end, 1 roots, 22 extra nodes, 2 pruned nodes, max_depth=5\u001b[0m\n",
      "\u001b[31m[34]#011train-error:0.163533#011validation-error:0.1879\u001b[0m\n",
      "\u001b[31m[04:32:29] src/tree/updater_prune.cc:74: tree pruning end, 1 roots, 24 extra nodes, 10 pruned nodes, max_depth=5\u001b[0m\n",
      "\u001b[31m[35]#011train-error:0.1616#011validation-error:0.1857\u001b[0m\n",
      "\u001b[31m[04:32:30] src/tree/updater_prune.cc:74: tree pruning end, 1 roots, 34 extra nodes, 8 pruned nodes, max_depth=5\u001b[0m\n",
      "\u001b[31m[36]#011train-error:0.1594#011validation-error:0.1841\u001b[0m\n",
      "\u001b[31m[04:32:31] src/tree/updater_prune.cc:74: tree pruning end, 1 roots, 42 extra nodes, 8 pruned nodes, max_depth=5\u001b[0m\n",
      "\u001b[31m[37]#011train-error:0.158133#011validation-error:0.1837\u001b[0m\n",
      "\u001b[31m[04:32:32] src/tree/updater_prune.cc:74: tree pruning end, 1 roots, 36 extra nodes, 2 pruned nodes, max_depth=5\u001b[0m\n",
      "\u001b[31m[38]#011train-error:0.156133#011validation-error:0.1823\u001b[0m\n",
      "\u001b[31m[04:32:34] src/tree/updater_prune.cc:74: tree pruning end, 1 roots, 28 extra nodes, 10 pruned nodes, max_depth=5\u001b[0m\n",
      "\u001b[31m[39]#011train-error:0.153467#011validation-error:0.1816\u001b[0m\n",
      "\u001b[31m[04:32:35] src/tree/updater_prune.cc:74: tree pruning end, 1 roots, 26 extra nodes, 8 pruned nodes, max_depth=5\u001b[0m\n",
      "\u001b[31m[40]#011train-error:0.1528#011validation-error:0.1814\u001b[0m\n",
      "\u001b[31m[04:32:36] src/tree/updater_prune.cc:74: tree pruning end, 1 roots, 24 extra nodes, 6 pruned nodes, max_depth=5\u001b[0m\n",
      "\u001b[31m[41]#011train-error:0.150467#011validation-error:0.1804\u001b[0m\n",
      "\u001b[31m[04:32:37] src/tree/updater_prune.cc:74: tree pruning end, 1 roots, 28 extra nodes, 6 pruned nodes, max_depth=5\u001b[0m\n",
      "\u001b[31m[42]#011train-error:0.149333#011validation-error:0.1797\u001b[0m\n",
      "\u001b[31m[04:32:39] src/tree/updater_prune.cc:74: tree pruning end, 1 roots, 30 extra nodes, 12 pruned nodes, max_depth=5\u001b[0m\n",
      "\u001b[31m[43]#011train-error:0.148#011validation-error:0.1772\u001b[0m\n"
     ]
    },
    {
     "name": "stdout",
     "output_type": "stream",
     "text": [
      "\u001b[31m[04:32:40] src/tree/updater_prune.cc:74: tree pruning end, 1 roots, 14 extra nodes, 8 pruned nodes, max_depth=5\u001b[0m\n",
      "\u001b[31m[44]#011train-error:0.146733#011validation-error:0.1768\u001b[0m\n",
      "\u001b[31m[04:32:41] src/tree/updater_prune.cc:74: tree pruning end, 1 roots, 18 extra nodes, 8 pruned nodes, max_depth=5\u001b[0m\n",
      "\u001b[31m[45]#011train-error:0.146267#011validation-error:0.1766\u001b[0m\n",
      "\u001b[31m[04:32:42] src/tree/updater_prune.cc:74: tree pruning end, 1 roots, 26 extra nodes, 8 pruned nodes, max_depth=5\u001b[0m\n",
      "\u001b[31m[46]#011train-error:0.145667#011validation-error:0.1765\u001b[0m\n",
      "\u001b[31m[04:32:44] src/tree/updater_prune.cc:74: tree pruning end, 1 roots, 14 extra nodes, 14 pruned nodes, max_depth=5\u001b[0m\n",
      "\u001b[31m[47]#011train-error:0.1446#011validation-error:0.1755\u001b[0m\n",
      "\u001b[31m[04:32:45] src/tree/updater_prune.cc:74: tree pruning end, 1 roots, 22 extra nodes, 4 pruned nodes, max_depth=5\u001b[0m\n",
      "\u001b[31m[48]#011train-error:0.1424#011validation-error:0.1752\u001b[0m\n",
      "\u001b[31m[04:32:46] src/tree/updater_prune.cc:74: tree pruning end, 1 roots, 24 extra nodes, 6 pruned nodes, max_depth=5\u001b[0m\n",
      "\u001b[31m[49]#011train-error:0.139933#011validation-error:0.1735\u001b[0m\n",
      "\u001b[31m[04:32:47] src/tree/updater_prune.cc:74: tree pruning end, 1 roots, 18 extra nodes, 12 pruned nodes, max_depth=5\u001b[0m\n",
      "\u001b[31m[50]#011train-error:0.139133#011validation-error:0.1729\u001b[0m\n",
      "\u001b[31m[04:32:49] src/tree/updater_prune.cc:74: tree pruning end, 1 roots, 34 extra nodes, 8 pruned nodes, max_depth=5\u001b[0m\n",
      "\u001b[31m[51]#011train-error:0.1386#011validation-error:0.172\u001b[0m\n",
      "\u001b[31m[04:32:50] src/tree/updater_prune.cc:74: tree pruning end, 1 roots, 24 extra nodes, 8 pruned nodes, max_depth=5\u001b[0m\n",
      "\u001b[31m[52]#011train-error:0.137333#011validation-error:0.1714\u001b[0m\n",
      "\u001b[31m[04:32:51] src/tree/updater_prune.cc:74: tree pruning end, 1 roots, 32 extra nodes, 12 pruned nodes, max_depth=5\u001b[0m\n",
      "\u001b[31m[53]#011train-error:0.135933#011validation-error:0.171\u001b[0m\n",
      "\u001b[31m[04:32:52] src/tree/updater_prune.cc:74: tree pruning end, 1 roots, 34 extra nodes, 14 pruned nodes, max_depth=5\u001b[0m\n",
      "\u001b[31m[54]#011train-error:0.135933#011validation-error:0.1714\u001b[0m\n",
      "\u001b[31m[04:32:54] src/tree/updater_prune.cc:74: tree pruning end, 1 roots, 20 extra nodes, 8 pruned nodes, max_depth=5\u001b[0m\n",
      "\u001b[31m[55]#011train-error:0.135467#011validation-error:0.172\u001b[0m\n",
      "\u001b[31m[04:32:55] src/tree/updater_prune.cc:74: tree pruning end, 1 roots, 36 extra nodes, 2 pruned nodes, max_depth=5\u001b[0m\n",
      "\u001b[31m[56]#011train-error:0.1328#011validation-error:0.1698\u001b[0m\n",
      "\u001b[31m[04:32:56] src/tree/updater_prune.cc:74: tree pruning end, 1 roots, 16 extra nodes, 6 pruned nodes, max_depth=5\u001b[0m\n",
      "\u001b[31m[57]#011train-error:0.132467#011validation-error:0.1688\u001b[0m\n",
      "\u001b[31m[04:32:57] src/tree/updater_prune.cc:74: tree pruning end, 1 roots, 16 extra nodes, 12 pruned nodes, max_depth=5\u001b[0m\n",
      "\u001b[31m[58]#011train-error:0.132533#011validation-error:0.1681\u001b[0m\n",
      "\u001b[31m[04:32:59] src/tree/updater_prune.cc:74: tree pruning end, 1 roots, 28 extra nodes, 8 pruned nodes, max_depth=5\u001b[0m\n",
      "\u001b[31m[59]#011train-error:0.130933#011validation-error:0.1679\u001b[0m\n",
      "\u001b[31m[04:33:00] src/tree/updater_prune.cc:74: tree pruning end, 1 roots, 18 extra nodes, 14 pruned nodes, max_depth=5\u001b[0m\n",
      "\u001b[31m[60]#011train-error:0.1306#011validation-error:0.1669\u001b[0m\n",
      "\u001b[31m[04:33:01] src/tree/updater_prune.cc:74: tree pruning end, 1 roots, 16 extra nodes, 4 pruned nodes, max_depth=5\u001b[0m\n",
      "\u001b[31m[61]#011train-error:0.130267#011validation-error:0.1665\u001b[0m\n",
      "\u001b[31m[04:33:02] src/tree/updater_prune.cc:74: tree pruning end, 1 roots, 16 extra nodes, 0 pruned nodes, max_depth=5\u001b[0m\n",
      "\u001b[31m[62]#011train-error:0.1302#011validation-error:0.1652\u001b[0m\n",
      "\u001b[31m[04:33:04] src/tree/updater_prune.cc:74: tree pruning end, 1 roots, 12 extra nodes, 4 pruned nodes, max_depth=5\u001b[0m\n",
      "\u001b[31m[63]#011train-error:0.1294#011validation-error:0.1653\u001b[0m\n",
      "\u001b[31m[04:33:05] src/tree/updater_prune.cc:74: tree pruning end, 1 roots, 28 extra nodes, 12 pruned nodes, max_depth=5\u001b[0m\n",
      "\u001b[31m[64]#011train-error:0.126933#011validation-error:0.1651\u001b[0m\n",
      "\u001b[31m[04:33:06] src/tree/updater_prune.cc:74: tree pruning end, 1 roots, 24 extra nodes, 10 pruned nodes, max_depth=5\u001b[0m\n",
      "\u001b[31m[65]#011train-error:0.1262#011validation-error:0.1647\u001b[0m\n",
      "\u001b[31m[04:33:07] src/tree/updater_prune.cc:74: tree pruning end, 1 roots, 30 extra nodes, 10 pruned nodes, max_depth=5\u001b[0m\n",
      "\u001b[31m[66]#011train-error:0.124667#011validation-error:0.1632\u001b[0m\n",
      "\u001b[31m[04:33:09] src/tree/updater_prune.cc:74: tree pruning end, 1 roots, 22 extra nodes, 8 pruned nodes, max_depth=5\u001b[0m\n",
      "\u001b[31m[67]#011train-error:0.123133#011validation-error:0.1639\u001b[0m\n",
      "\u001b[31m[04:33:10] src/tree/updater_prune.cc:74: tree pruning end, 1 roots, 14 extra nodes, 12 pruned nodes, max_depth=5\u001b[0m\n",
      "\u001b[31m[68]#011train-error:0.122067#011validation-error:0.1631\u001b[0m\n",
      "\u001b[31m[04:33:11] src/tree/updater_prune.cc:74: tree pruning end, 1 roots, 18 extra nodes, 6 pruned nodes, max_depth=5\u001b[0m\n",
      "\u001b[31m[69]#011train-error:0.122067#011validation-error:0.1621\u001b[0m\n",
      "\u001b[31m[04:33:12] src/tree/updater_prune.cc:74: tree pruning end, 1 roots, 24 extra nodes, 8 pruned nodes, max_depth=5\u001b[0m\n",
      "\u001b[31m[70]#011train-error:0.121933#011validation-error:0.1614\u001b[0m\n",
      "\u001b[31m[04:33:14] src/tree/updater_prune.cc:74: tree pruning end, 1 roots, 18 extra nodes, 2 pruned nodes, max_depth=5\u001b[0m\n",
      "\u001b[31m[71]#011train-error:0.1212#011validation-error:0.1613\u001b[0m\n",
      "\u001b[31m[04:33:15] src/tree/updater_prune.cc:74: tree pruning end, 1 roots, 14 extra nodes, 2 pruned nodes, max_depth=5\u001b[0m\n",
      "\u001b[31m[72]#011train-error:0.120533#011validation-error:0.1617\u001b[0m\n",
      "\u001b[31m[04:33:16] src/tree/updater_prune.cc:74: tree pruning end, 1 roots, 28 extra nodes, 2 pruned nodes, max_depth=5\u001b[0m\n",
      "\u001b[31m[73]#011train-error:0.120133#011validation-error:0.1588\u001b[0m\n",
      "\u001b[31m[04:33:17] src/tree/updater_prune.cc:74: tree pruning end, 1 roots, 22 extra nodes, 10 pruned nodes, max_depth=5\u001b[0m\n",
      "\u001b[31m[74]#011train-error:0.1198#011validation-error:0.1598\u001b[0m\n",
      "\u001b[31m[04:33:19] src/tree/updater_prune.cc:74: tree pruning end, 1 roots, 16 extra nodes, 12 pruned nodes, max_depth=5\u001b[0m\n",
      "\u001b[31m[75]#011train-error:0.119867#011validation-error:0.1586\u001b[0m\n",
      "\u001b[31m[04:33:20] src/tree/updater_prune.cc:74: tree pruning end, 1 roots, 14 extra nodes, 12 pruned nodes, max_depth=5\u001b[0m\n",
      "\u001b[31m[76]#011train-error:0.118867#011validation-error:0.1591\u001b[0m\n",
      "\u001b[31m[04:33:21] src/tree/updater_prune.cc:74: tree pruning end, 1 roots, 16 extra nodes, 10 pruned nodes, max_depth=5\u001b[0m\n",
      "\u001b[31m[77]#011train-error:0.119#011validation-error:0.158\u001b[0m\n",
      "\u001b[31m[04:33:22] src/tree/updater_prune.cc:74: tree pruning end, 1 roots, 24 extra nodes, 12 pruned nodes, max_depth=5\u001b[0m\n",
      "\u001b[31m[78]#011train-error:0.118#011validation-error:0.1575\u001b[0m\n",
      "\u001b[31m[04:33:24] src/tree/updater_prune.cc:74: tree pruning end, 1 roots, 14 extra nodes, 10 pruned nodes, max_depth=5\u001b[0m\n",
      "\u001b[31m[79]#011train-error:0.117533#011validation-error:0.1578\u001b[0m\n",
      "\u001b[31m[04:33:25] src/tree/updater_prune.cc:74: tree pruning end, 1 roots, 28 extra nodes, 12 pruned nodes, max_depth=5\u001b[0m\n",
      "\u001b[31m[80]#011train-error:0.1178#011validation-error:0.1578\u001b[0m\n",
      "\u001b[31m[04:33:26] src/tree/updater_prune.cc:74: tree pruning end, 1 roots, 20 extra nodes, 4 pruned nodes, max_depth=5\u001b[0m\n",
      "\u001b[31m[81]#011train-error:0.1168#011validation-error:0.1577\u001b[0m\n",
      "\u001b[31m[04:33:27] src/tree/updater_prune.cc:74: tree pruning end, 1 roots, 28 extra nodes, 6 pruned nodes, max_depth=5\u001b[0m\n",
      "\u001b[31m[82]#011train-error:0.1158#011validation-error:0.1565\u001b[0m\n",
      "\u001b[31m[04:33:29] src/tree/updater_prune.cc:74: tree pruning end, 1 roots, 18 extra nodes, 18 pruned nodes, max_depth=5\u001b[0m\n",
      "\u001b[31m[83]#011train-error:0.115333#011validation-error:0.1558\u001b[0m\n",
      "\u001b[31m[04:33:30] src/tree/updater_prune.cc:74: tree pruning end, 1 roots, 14 extra nodes, 2 pruned nodes, max_depth=5\u001b[0m\n",
      "\u001b[31m[84]#011train-error:0.114333#011validation-error:0.156\u001b[0m\n",
      "\u001b[31m[04:33:31] src/tree/updater_prune.cc:74: tree pruning end, 1 roots, 10 extra nodes, 14 pruned nodes, max_depth=5\u001b[0m\n",
      "\u001b[31m[85]#011train-error:0.113667#011validation-error:0.1554\u001b[0m\n",
      "\u001b[31m[04:33:32] src/tree/updater_prune.cc:74: tree pruning end, 1 roots, 20 extra nodes, 12 pruned nodes, max_depth=5\u001b[0m\n",
      "\u001b[31m[86]#011train-error:0.112933#011validation-error:0.1547\u001b[0m\n",
      "\u001b[31m[04:33:34] src/tree/updater_prune.cc:74: tree pruning end, 1 roots, 14 extra nodes, 2 pruned nodes, max_depth=5\u001b[0m\n",
      "\u001b[31m[87]#011train-error:0.1124#011validation-error:0.1538\u001b[0m\n",
      "\u001b[31m[04:33:35] src/tree/updater_prune.cc:74: tree pruning end, 1 roots, 16 extra nodes, 10 pruned nodes, max_depth=5\u001b[0m\n",
      "\u001b[31m[88]#011train-error:0.112867#011validation-error:0.1533\u001b[0m\n",
      "\u001b[31m[04:33:36] src/tree/updater_prune.cc:74: tree pruning end, 1 roots, 16 extra nodes, 10 pruned nodes, max_depth=5\u001b[0m\n",
      "\u001b[31m[89]#011train-error:0.112533#011validation-error:0.1524\u001b[0m\n",
      "\u001b[31m[04:33:37] src/tree/updater_prune.cc:74: tree pruning end, 1 roots, 14 extra nodes, 10 pruned nodes, max_depth=5\u001b[0m\n",
      "\u001b[31m[90]#011train-error:0.1122#011validation-error:0.1526\u001b[0m\n",
      "\u001b[31m[04:33:39] src/tree/updater_prune.cc:74: tree pruning end, 1 roots, 24 extra nodes, 2 pruned nodes, max_depth=5\u001b[0m\n",
      "\u001b[31m[91]#011train-error:0.111133#011validation-error:0.1518\u001b[0m\n"
     ]
    },
    {
     "name": "stdout",
     "output_type": "stream",
     "text": [
      "\u001b[31m[04:33:40] src/tree/updater_prune.cc:74: tree pruning end, 1 roots, 44 extra nodes, 10 pruned nodes, max_depth=5\u001b[0m\n",
      "\u001b[31m[92]#011train-error:0.109267#011validation-error:0.1521\u001b[0m\n",
      "\u001b[31m[04:33:41] src/tree/updater_prune.cc:74: tree pruning end, 1 roots, 14 extra nodes, 4 pruned nodes, max_depth=5\u001b[0m\n",
      "\u001b[31m[93]#011train-error:0.109067#011validation-error:0.1514\u001b[0m\n",
      "\u001b[31m[04:33:42] src/tree/updater_prune.cc:74: tree pruning end, 1 roots, 16 extra nodes, 8 pruned nodes, max_depth=5\u001b[0m\n",
      "\u001b[31m[94]#011train-error:0.108267#011validation-error:0.151\u001b[0m\n",
      "\u001b[31m[04:33:44] src/tree/updater_prune.cc:74: tree pruning end, 1 roots, 30 extra nodes, 10 pruned nodes, max_depth=5\u001b[0m\n",
      "\u001b[31m[95]#011train-error:0.107733#011validation-error:0.1504\u001b[0m\n",
      "\u001b[31m[04:33:45] src/tree/updater_prune.cc:74: tree pruning end, 1 roots, 10 extra nodes, 6 pruned nodes, max_depth=5\u001b[0m\n",
      "\u001b[31m[96]#011train-error:0.1076#011validation-error:0.1505\u001b[0m\n",
      "\u001b[31m[04:33:46] src/tree/updater_prune.cc:74: tree pruning end, 1 roots, 28 extra nodes, 10 pruned nodes, max_depth=5\u001b[0m\n",
      "\u001b[31m[97]#011train-error:0.1066#011validation-error:0.1504\u001b[0m\n",
      "\u001b[31m[04:33:47] src/tree/updater_prune.cc:74: tree pruning end, 1 roots, 22 extra nodes, 6 pruned nodes, max_depth=5\u001b[0m\n",
      "\u001b[31m[98]#011train-error:0.105533#011validation-error:0.1503\u001b[0m\n",
      "\u001b[31m[04:33:49] src/tree/updater_prune.cc:74: tree pruning end, 1 roots, 28 extra nodes, 6 pruned nodes, max_depth=5\u001b[0m\n",
      "\u001b[31m[99]#011train-error:0.104667#011validation-error:0.1507\u001b[0m\n",
      "\u001b[31m[04:33:50] src/tree/updater_prune.cc:74: tree pruning end, 1 roots, 14 extra nodes, 20 pruned nodes, max_depth=5\u001b[0m\n",
      "\u001b[31m[100]#011train-error:0.105133#011validation-error:0.1503\u001b[0m\n",
      "\u001b[31m[04:33:51] src/tree/updater_prune.cc:74: tree pruning end, 1 roots, 12 extra nodes, 10 pruned nodes, max_depth=5\u001b[0m\n",
      "\u001b[31m[101]#011train-error:0.1046#011validation-error:0.1503\u001b[0m\n",
      "\u001b[31m[04:33:52] src/tree/updater_prune.cc:74: tree pruning end, 1 roots, 20 extra nodes, 10 pruned nodes, max_depth=5\u001b[0m\n",
      "\u001b[31m[102]#011train-error:0.104533#011validation-error:0.1495\u001b[0m\n",
      "\u001b[31m[04:33:54] src/tree/updater_prune.cc:74: tree pruning end, 1 roots, 24 extra nodes, 12 pruned nodes, max_depth=5\u001b[0m\n",
      "\u001b[31m[103]#011train-error:0.103467#011validation-error:0.1492\u001b[0m\n",
      "\u001b[31m[04:33:55] src/tree/updater_prune.cc:74: tree pruning end, 1 roots, 24 extra nodes, 10 pruned nodes, max_depth=5\u001b[0m\n",
      "\u001b[31m[104]#011train-error:0.102867#011validation-error:0.1487\u001b[0m\n",
      "\u001b[31m[04:33:56] src/tree/updater_prune.cc:74: tree pruning end, 1 roots, 12 extra nodes, 14 pruned nodes, max_depth=5\u001b[0m\n",
      "\u001b[31m[105]#011train-error:0.102533#011validation-error:0.1483\u001b[0m\n",
      "\u001b[31m[04:33:57] src/tree/updater_prune.cc:74: tree pruning end, 1 roots, 22 extra nodes, 8 pruned nodes, max_depth=5\u001b[0m\n",
      "\u001b[31m[106]#011train-error:0.101867#011validation-error:0.1478\u001b[0m\n",
      "\u001b[31m[04:33:59] src/tree/updater_prune.cc:74: tree pruning end, 1 roots, 14 extra nodes, 4 pruned nodes, max_depth=5\u001b[0m\n",
      "\u001b[31m[107]#011train-error:0.101133#011validation-error:0.1483\u001b[0m\n",
      "\u001b[31m[04:34:00] src/tree/updater_prune.cc:74: tree pruning end, 1 roots, 12 extra nodes, 12 pruned nodes, max_depth=5\u001b[0m\n",
      "\u001b[31m[108]#011train-error:0.101133#011validation-error:0.1477\u001b[0m\n",
      "\u001b[31m[04:34:01] src/tree/updater_prune.cc:74: tree pruning end, 1 roots, 10 extra nodes, 2 pruned nodes, max_depth=5\u001b[0m\n",
      "\u001b[31m[109]#011train-error:0.100733#011validation-error:0.1465\u001b[0m\n",
      "\u001b[31m[04:34:03] src/tree/updater_prune.cc:74: tree pruning end, 1 roots, 36 extra nodes, 14 pruned nodes, max_depth=5\u001b[0m\n",
      "\u001b[31m[110]#011train-error:0.098533#011validation-error:0.1475\u001b[0m\n",
      "\u001b[31m[04:34:04] src/tree/updater_prune.cc:74: tree pruning end, 1 roots, 32 extra nodes, 14 pruned nodes, max_depth=5\u001b[0m\n",
      "\u001b[31m[111]#011train-error:0.097933#011validation-error:0.1472\u001b[0m\n",
      "\u001b[31m[04:34:05] src/tree/updater_prune.cc:74: tree pruning end, 1 roots, 12 extra nodes, 10 pruned nodes, max_depth=5\u001b[0m\n",
      "\u001b[31m[112]#011train-error:0.098267#011validation-error:0.1472\u001b[0m\n",
      "\u001b[31m[04:34:06] src/tree/updater_prune.cc:74: tree pruning end, 1 roots, 12 extra nodes, 12 pruned nodes, max_depth=5\u001b[0m\n",
      "\u001b[31m[113]#011train-error:0.097333#011validation-error:0.1479\u001b[0m\n",
      "\u001b[31m[04:34:08] src/tree/updater_prune.cc:74: tree pruning end, 1 roots, 20 extra nodes, 16 pruned nodes, max_depth=5\u001b[0m\n",
      "\u001b[31m[114]#011train-error:0.096667#011validation-error:0.1488\u001b[0m\n",
      "\u001b[31m[04:34:09] src/tree/updater_prune.cc:74: tree pruning end, 1 roots, 22 extra nodes, 10 pruned nodes, max_depth=5\u001b[0m\n",
      "\u001b[31m[115]#011train-error:0.096533#011validation-error:0.1481\u001b[0m\n",
      "\u001b[31m[04:34:10] src/tree/updater_prune.cc:74: tree pruning end, 1 roots, 10 extra nodes, 8 pruned nodes, max_depth=5\u001b[0m\n",
      "\u001b[31m[116]#011train-error:0.095867#011validation-error:0.1479\u001b[0m\n",
      "\u001b[31m[04:34:12] src/tree/updater_prune.cc:74: tree pruning end, 1 roots, 12 extra nodes, 6 pruned nodes, max_depth=5\u001b[0m\n",
      "\u001b[31m[117]#011train-error:0.096#011validation-error:0.1471\u001b[0m\n",
      "\u001b[31m[04:34:13] src/tree/updater_prune.cc:74: tree pruning end, 1 roots, 18 extra nodes, 4 pruned nodes, max_depth=5\u001b[0m\n",
      "\u001b[31m[118]#011train-error:0.095333#011validation-error:0.1453\u001b[0m\n",
      "\u001b[31m[04:34:14] src/tree/updater_prune.cc:74: tree pruning end, 1 roots, 32 extra nodes, 8 pruned nodes, max_depth=5\u001b[0m\n",
      "\u001b[31m[119]#011train-error:0.094533#011validation-error:0.1464\u001b[0m\n",
      "\u001b[31m[04:34:15] src/tree/updater_prune.cc:74: tree pruning end, 1 roots, 22 extra nodes, 8 pruned nodes, max_depth=5\u001b[0m\n",
      "\u001b[31m[120]#011train-error:0.0936#011validation-error:0.1468\u001b[0m\n",
      "\u001b[31m[04:34:17] src/tree/updater_prune.cc:74: tree pruning end, 1 roots, 12 extra nodes, 6 pruned nodes, max_depth=5\u001b[0m\n",
      "\u001b[31m[121]#011train-error:0.093533#011validation-error:0.1463\u001b[0m\n",
      "\u001b[31m[04:34:18] src/tree/updater_prune.cc:74: tree pruning end, 1 roots, 18 extra nodes, 12 pruned nodes, max_depth=5\u001b[0m\n",
      "\u001b[31m[122]#011train-error:0.092867#011validation-error:0.1449\u001b[0m\n",
      "\u001b[31m[04:34:19] src/tree/updater_prune.cc:74: tree pruning end, 1 roots, 10 extra nodes, 10 pruned nodes, max_depth=5\u001b[0m\n",
      "\u001b[31m[123]#011train-error:0.092733#011validation-error:0.1443\u001b[0m\n",
      "\u001b[31m[04:34:20] src/tree/updater_prune.cc:74: tree pruning end, 1 roots, 32 extra nodes, 8 pruned nodes, max_depth=5\u001b[0m\n",
      "\u001b[31m[124]#011train-error:0.091867#011validation-error:0.1442\u001b[0m\n",
      "\u001b[31m[04:34:22] src/tree/updater_prune.cc:74: tree pruning end, 1 roots, 12 extra nodes, 16 pruned nodes, max_depth=5\u001b[0m\n",
      "\u001b[31m[125]#011train-error:0.091467#011validation-error:0.1445\u001b[0m\n",
      "\u001b[31m[04:34:23] src/tree/updater_prune.cc:74: tree pruning end, 1 roots, 36 extra nodes, 8 pruned nodes, max_depth=5\u001b[0m\n",
      "\u001b[31m[126]#011train-error:0.0906#011validation-error:0.1442\u001b[0m\n",
      "\u001b[31m[04:34:24] src/tree/updater_prune.cc:74: tree pruning end, 1 roots, 12 extra nodes, 8 pruned nodes, max_depth=5\u001b[0m\n",
      "\u001b[31m[127]#011train-error:0.090667#011validation-error:0.1441\u001b[0m\n",
      "\u001b[31m[04:34:25] src/tree/updater_prune.cc:74: tree pruning end, 1 roots, 16 extra nodes, 8 pruned nodes, max_depth=5\u001b[0m\n",
      "\u001b[31m[128]#011train-error:0.089467#011validation-error:0.1443\u001b[0m\n",
      "\u001b[31m[04:34:27] src/tree/updater_prune.cc:74: tree pruning end, 1 roots, 24 extra nodes, 8 pruned nodes, max_depth=5\u001b[0m\n",
      "\u001b[31m[129]#011train-error:0.089533#011validation-error:0.1443\u001b[0m\n",
      "\u001b[31m[04:34:28] src/tree/updater_prune.cc:74: tree pruning end, 1 roots, 20 extra nodes, 12 pruned nodes, max_depth=5\u001b[0m\n",
      "\u001b[31m[130]#011train-error:0.0886#011validation-error:0.1438\u001b[0m\n",
      "\u001b[31m[04:34:29] src/tree/updater_prune.cc:74: tree pruning end, 1 roots, 18 extra nodes, 12 pruned nodes, max_depth=5\u001b[0m\n",
      "\u001b[31m[131]#011train-error:0.088133#011validation-error:0.1442\u001b[0m\n",
      "\u001b[31m[04:34:31] src/tree/updater_prune.cc:74: tree pruning end, 1 roots, 10 extra nodes, 6 pruned nodes, max_depth=5\u001b[0m\n",
      "\u001b[31m[132]#011train-error:0.087533#011validation-error:0.1442\u001b[0m\n",
      "\u001b[31m[04:34:32] src/tree/updater_prune.cc:74: tree pruning end, 1 roots, 28 extra nodes, 10 pruned nodes, max_depth=5\u001b[0m\n",
      "\u001b[31m[133]#011train-error:0.087867#011validation-error:0.1437\u001b[0m\n",
      "\u001b[31m[04:34:33] src/tree/updater_prune.cc:74: tree pruning end, 1 roots, 10 extra nodes, 4 pruned nodes, max_depth=5\u001b[0m\n",
      "\u001b[31m[134]#011train-error:0.087733#011validation-error:0.1435\u001b[0m\n",
      "\u001b[31m[04:34:34] src/tree/updater_prune.cc:74: tree pruning end, 1 roots, 20 extra nodes, 12 pruned nodes, max_depth=5\u001b[0m\n",
      "\u001b[31m[135]#011train-error:0.087867#011validation-error:0.1424\u001b[0m\n",
      "\u001b[31m[04:34:36] src/tree/updater_prune.cc:74: tree pruning end, 1 roots, 10 extra nodes, 8 pruned nodes, max_depth=5\u001b[0m\n",
      "\u001b[31m[136]#011train-error:0.087533#011validation-error:0.1424\u001b[0m\n",
      "\u001b[31m[04:34:37] src/tree/updater_prune.cc:74: tree pruning end, 1 roots, 28 extra nodes, 2 pruned nodes, max_depth=5\u001b[0m\n",
      "\u001b[31m[137]#011train-error:0.087133#011validation-error:0.1421\u001b[0m\n",
      "\u001b[31m[04:34:38] src/tree/updater_prune.cc:74: tree pruning end, 1 roots, 22 extra nodes, 4 pruned nodes, max_depth=5\u001b[0m\n",
      "\u001b[31m[138]#011train-error:0.0858#011validation-error:0.1419\u001b[0m\n",
      "\u001b[31m[04:34:39] src/tree/updater_prune.cc:74: tree pruning end, 1 roots, 10 extra nodes, 12 pruned nodes, max_depth=5\u001b[0m\n",
      "\u001b[31m[139]#011train-error:0.0854#011validation-error:0.1422\u001b[0m\n"
     ]
    },
    {
     "name": "stdout",
     "output_type": "stream",
     "text": [
      "\u001b[31m[04:34:41] src/tree/updater_prune.cc:74: tree pruning end, 1 roots, 14 extra nodes, 6 pruned nodes, max_depth=5\u001b[0m\n",
      "\u001b[31m[140]#011train-error:0.084733#011validation-error:0.1425\u001b[0m\n",
      "\u001b[31m[04:34:42] src/tree/updater_prune.cc:74: tree pruning end, 1 roots, 12 extra nodes, 4 pruned nodes, max_depth=5\u001b[0m\n",
      "\u001b[31m[141]#011train-error:0.084667#011validation-error:0.1425\u001b[0m\n",
      "\u001b[31m[04:34:43] src/tree/updater_prune.cc:74: tree pruning end, 1 roots, 14 extra nodes, 6 pruned nodes, max_depth=5\u001b[0m\n",
      "\u001b[31m[142]#011train-error:0.084533#011validation-error:0.1421\u001b[0m\n",
      "\u001b[31m[04:34:44] src/tree/updater_prune.cc:74: tree pruning end, 1 roots, 22 extra nodes, 6 pruned nodes, max_depth=5\u001b[0m\n",
      "\u001b[31m[143]#011train-error:0.083733#011validation-error:0.1416\u001b[0m\n",
      "\u001b[31m[04:34:46] src/tree/updater_prune.cc:74: tree pruning end, 1 roots, 22 extra nodes, 10 pruned nodes, max_depth=5\u001b[0m\n",
      "\u001b[31m[144]#011train-error:0.083667#011validation-error:0.1414\u001b[0m\n",
      "\u001b[31m[04:34:47] src/tree/updater_prune.cc:74: tree pruning end, 1 roots, 24 extra nodes, 8 pruned nodes, max_depth=5\u001b[0m\n",
      "\u001b[31m[145]#011train-error:0.0832#011validation-error:0.1411\u001b[0m\n",
      "\u001b[31m[04:34:48] src/tree/updater_prune.cc:74: tree pruning end, 1 roots, 16 extra nodes, 6 pruned nodes, max_depth=5\u001b[0m\n",
      "\u001b[31m[146]#011train-error:0.083267#011validation-error:0.1408\u001b[0m\n",
      "\u001b[31m[04:34:49] src/tree/updater_prune.cc:74: tree pruning end, 1 roots, 16 extra nodes, 14 pruned nodes, max_depth=5\u001b[0m\n",
      "\u001b[31m[147]#011train-error:0.082867#011validation-error:0.1405\u001b[0m\n",
      "\u001b[31m[04:34:51] src/tree/updater_prune.cc:74: tree pruning end, 1 roots, 12 extra nodes, 6 pruned nodes, max_depth=5\u001b[0m\n",
      "\u001b[31m[148]#011train-error:0.0834#011validation-error:0.1398\u001b[0m\n",
      "\u001b[31m[04:34:52] src/tree/updater_prune.cc:74: tree pruning end, 1 roots, 14 extra nodes, 14 pruned nodes, max_depth=5\u001b[0m\n",
      "\u001b[31m[149]#011train-error:0.082867#011validation-error:0.1401\u001b[0m\n",
      "\u001b[31m[04:34:53] src/tree/updater_prune.cc:74: tree pruning end, 1 roots, 10 extra nodes, 12 pruned nodes, max_depth=5\u001b[0m\n",
      "\u001b[31m[150]#011train-error:0.082333#011validation-error:0.1397\u001b[0m\n",
      "\u001b[31m[04:34:54] src/tree/updater_prune.cc:74: tree pruning end, 1 roots, 10 extra nodes, 6 pruned nodes, max_depth=5\u001b[0m\n",
      "\u001b[31m[151]#011train-error:0.082467#011validation-error:0.1396\u001b[0m\n",
      "\u001b[31m[04:34:56] src/tree/updater_prune.cc:74: tree pruning end, 1 roots, 14 extra nodes, 10 pruned nodes, max_depth=5\u001b[0m\n",
      "\u001b[31m[152]#011train-error:0.081933#011validation-error:0.1395\u001b[0m\n",
      "\u001b[31m[04:34:57] src/tree/updater_prune.cc:74: tree pruning end, 1 roots, 12 extra nodes, 6 pruned nodes, max_depth=5\u001b[0m\n",
      "\u001b[31m[153]#011train-error:0.0812#011validation-error:0.1395\u001b[0m\n",
      "\u001b[31m[04:34:58] src/tree/updater_prune.cc:74: tree pruning end, 1 roots, 14 extra nodes, 4 pruned nodes, max_depth=5\u001b[0m\n",
      "\u001b[31m[154]#011train-error:0.081#011validation-error:0.1389\u001b[0m\n",
      "\u001b[31m[04:35:00] src/tree/updater_prune.cc:74: tree pruning end, 1 roots, 28 extra nodes, 4 pruned nodes, max_depth=5\u001b[0m\n",
      "\u001b[31m[155]#011train-error:0.080933#011validation-error:0.1386\u001b[0m\n",
      "\n",
      "2019-09-02 04:35:15 Uploading - Uploading generated training model\u001b[31m[04:35:01] src/tree/updater_prune.cc:74: tree pruning end, 1 roots, 12 extra nodes, 0 pruned nodes, max_depth=5\u001b[0m\n",
      "\u001b[31m[156]#011train-error:0.080267#011validation-error:0.1387\u001b[0m\n",
      "\u001b[31m[04:35:02] src/tree/updater_prune.cc:74: tree pruning end, 1 roots, 10 extra nodes, 6 pruned nodes, max_depth=5\u001b[0m\n",
      "\u001b[31m[157]#011train-error:0.079867#011validation-error:0.1386\u001b[0m\n",
      "\u001b[31m[04:35:03] src/tree/updater_prune.cc:74: tree pruning end, 1 roots, 10 extra nodes, 4 pruned nodes, max_depth=5\u001b[0m\n",
      "\u001b[31m[158]#011train-error:0.079867#011validation-error:0.1394\u001b[0m\n",
      "\u001b[31m[04:35:05] src/tree/updater_prune.cc:74: tree pruning end, 1 roots, 12 extra nodes, 4 pruned nodes, max_depth=5\u001b[0m\n",
      "\u001b[31m[159]#011train-error:0.079533#011validation-error:0.1398\u001b[0m\n",
      "\u001b[31m[04:35:06] src/tree/updater_prune.cc:74: tree pruning end, 1 roots, 14 extra nodes, 6 pruned nodes, max_depth=5\u001b[0m\n",
      "\u001b[31m[160]#011train-error:0.079133#011validation-error:0.1393\u001b[0m\n",
      "\u001b[31m[04:35:07] src/tree/updater_prune.cc:74: tree pruning end, 1 roots, 10 extra nodes, 10 pruned nodes, max_depth=5\u001b[0m\n",
      "\u001b[31m[161]#011train-error:0.079#011validation-error:0.1395\u001b[0m\n",
      "\u001b[31m[04:35:08] src/tree/updater_prune.cc:74: tree pruning end, 1 roots, 10 extra nodes, 6 pruned nodes, max_depth=5\u001b[0m\n",
      "\u001b[31m[162]#011train-error:0.078733#011validation-error:0.1393\u001b[0m\n",
      "\u001b[31m[04:35:10] src/tree/updater_prune.cc:74: tree pruning end, 1 roots, 10 extra nodes, 8 pruned nodes, max_depth=5\u001b[0m\n",
      "\u001b[31m[163]#011train-error:0.078467#011validation-error:0.1387\u001b[0m\n",
      "\u001b[31m[04:35:11] src/tree/updater_prune.cc:74: tree pruning end, 1 roots, 14 extra nodes, 4 pruned nodes, max_depth=5\u001b[0m\n",
      "\u001b[31m[164]#011train-error:0.078333#011validation-error:0.1388\u001b[0m\n",
      "\u001b[31m[04:35:12] src/tree/updater_prune.cc:74: tree pruning end, 1 roots, 10 extra nodes, 4 pruned nodes, max_depth=5\u001b[0m\n",
      "\u001b[31m[165]#011train-error:0.078267#011validation-error:0.1388\u001b[0m\n",
      "\u001b[31mStopping. Best iteration:\u001b[0m\n",
      "\u001b[31m[155]#011train-error:0.080933#011validation-error:0.1386\n",
      "\u001b[0m\n",
      "\n",
      "2019-09-02 04:35:22 Completed - Training job completed\n",
      "Billable seconds: 277\n"
     ]
    }
   ],
   "source": [
    "xgb.fit({'train': s3_input_train, 'validation': s3_input_validation})"
   ]
  },
  {
   "cell_type": "markdown",
   "metadata": {},
   "source": [
    "## Step 5: Testing the model\n",
    "\n",
    "Now that we've fit our XGBoost model, it's time to see how well it performs. To do this we will use SageMakers Batch Transform functionality. Batch Transform is a convenient way to perform inference on a large dataset in a way that is not realtime. That is, we don't necessarily need to use our model's results immediately and instead we can perform inference on a large number of samples. An example of this in industry might be performing an end of month report. This method of inference can also be useful to us as it means that we can perform inference on our entire test set. \n",
    "\n",
    "To perform a Batch Transformation we need to first create a transformer objects from our trained estimator object."
   ]
  },
  {
   "cell_type": "code",
   "execution_count": 24,
   "metadata": {},
   "outputs": [],
   "source": [
    "xgb_transformer = xgb.transformer(instance_count = 1, instance_type = 'ml.m4.xlarge')"
   ]
  },
  {
   "cell_type": "markdown",
   "metadata": {},
   "source": [
    "Next we actually perform the transform job. When doing so we need to make sure to specify the type of data we are sending so that it is serialized correctly in the background. In our case we are providing our model with csv data so we specify `text/csv`. Also, if the test data that we have provided is too large to process all at once then we need to specify how the data file should be split up. Since each line is a single entry in our data set we tell SageMaker that it can split the input on each line."
   ]
  },
  {
   "cell_type": "code",
   "execution_count": 25,
   "metadata": {},
   "outputs": [],
   "source": [
    "xgb_transformer.transform(test_location, content_type='text/csv', split_type='Line')"
   ]
  },
  {
   "cell_type": "markdown",
   "metadata": {},
   "source": [
    "Currently the transform job is running but it is doing so in the background. Since we wish to wait until the transform job is done and we would like a bit of feedback we can run the `wait()` method."
   ]
  },
  {
   "cell_type": "code",
   "execution_count": 26,
   "metadata": {},
   "outputs": [
    {
     "name": "stdout",
     "output_type": "stream",
     "text": [
      "..............................................!\n"
     ]
    }
   ],
   "source": [
    "xgb_transformer.wait()"
   ]
  },
  {
   "cell_type": "markdown",
   "metadata": {},
   "source": [
    "Now the transform job has executed and the result, the estimated sentiment of each review, has been saved on S3. Since we would rather work on this file locally we can perform a bit of notebook magic to copy the file to the `data_dir`."
   ]
  },
  {
   "cell_type": "code",
   "execution_count": 27,
   "metadata": {},
   "outputs": [
    {
     "name": "stdout",
     "output_type": "stream",
     "text": [
      "Completed 256.0 KiB/369.9 KiB (2.0 MiB/s) with 1 file(s) remaining\r",
      "Completed 369.9 KiB/369.9 KiB (2.9 MiB/s) with 1 file(s) remaining\r",
      "download: s3://sagemaker-us-east-1-128542396258/xgboost-2019-09-02-04-36-31-350/test.csv.out to ../data/sentiment_web_app/test.csv.out\r\n"
     ]
    }
   ],
   "source": [
    "!aws s3 cp --recursive $xgb_transformer.output_path $data_dir"
   ]
  },
  {
   "cell_type": "markdown",
   "metadata": {},
   "source": [
    "The last step is now to read in the output from our model, convert the output to something a little more usable, in this case we want the sentiment to be either `1` (positive) or `0` (negative), and then compare to the ground truth labels."
   ]
  },
  {
   "cell_type": "code",
   "execution_count": 28,
   "metadata": {},
   "outputs": [],
   "source": [
    "predictions = pd.read_csv(os.path.join(data_dir, 'test.csv.out'), header=None)\n",
    "predictions = [round(num) for num in predictions.squeeze().values]"
   ]
  },
  {
   "cell_type": "code",
   "execution_count": 29,
   "metadata": {},
   "outputs": [
    {
     "data": {
      "text/plain": [
       "0.86064"
      ]
     },
     "execution_count": 29,
     "metadata": {},
     "output_type": "execute_result"
    }
   ],
   "source": [
    "from sklearn.metrics import accuracy_score\n",
    "accuracy_score(test_y, predictions)"
   ]
  },
  {
   "cell_type": "markdown",
   "metadata": {},
   "source": [
    "## Step 6: Deploying the model\n",
    "\n",
    "Once we construct and fit our model, SageMaker stores the resulting model artifacts and we can use those to deploy an endpoint (inference code). To see this, look in the SageMaker console and you should see that a model has been created along with a link to the S3 location where the model artifacts have been stored.\n",
    "\n",
    "Deploying an endpoint is a lot like training the model with a few important differences. The first is that a deployed model doesn't change the model artifacts, so as you send it various testing instances the model won't change. Another difference is that since we aren't performing a fixed computation, as we were in the training step or while performing a batch transform, the compute instance that gets started stays running until we tell it to stop. This is important to note as if we forget and leave it running we will be charged the entire time.\n",
    "\n",
    "In other words **If you are no longer using a deployed endpoint, shut it down!**"
   ]
  },
  {
   "cell_type": "code",
   "execution_count": 30,
   "metadata": {},
   "outputs": [
    {
     "name": "stderr",
     "output_type": "stream",
     "text": [
      "Using already existing model: xgboost-2019-09-02-04-28-41-515\n"
     ]
    },
    {
     "name": "stdout",
     "output_type": "stream",
     "text": [
      "-------------------------------------------------------------------------------------------------------------------!"
     ]
    }
   ],
   "source": [
    "xgb_predictor = xgb.deploy(initial_instance_count = 1, instance_type = 'ml.m4.xlarge')"
   ]
  },
  {
   "cell_type": "markdown",
   "metadata": {},
   "source": [
    "### Testing the model (again)\n",
    "\n",
    "Now that we have deployed our endpoint, we can send the testing data to it and get back the inference results. We already did this earlier using the batch transform functionality of SageMaker, however, we will test our model again using the newly deployed endpoint so that we can make sure that it works properly and to get a bit of a feel for how the endpoint works.\n",
    "\n",
    "When using the created endpoint it is important to know that we are limited in the amount of information we can send in each call so we need to break the testing data up into chunks and then send each chunk. Also, we need to serialize our data before we send it to the endpoint to ensure that our data is transmitted properly. Fortunately, SageMaker can do the serialization part for us provided we tell it the format of our data."
   ]
  },
  {
   "cell_type": "code",
   "execution_count": 31,
   "metadata": {},
   "outputs": [],
   "source": [
    "from sagemaker.predictor import csv_serializer\n",
    "\n",
    "# We need to tell the endpoint what format the data we are sending is in so that SageMaker can perform the serialization.\n",
    "xgb_predictor.content_type = 'text/csv'\n",
    "xgb_predictor.serializer = csv_serializer"
   ]
  },
  {
   "cell_type": "code",
   "execution_count": 32,
   "metadata": {},
   "outputs": [],
   "source": [
    "# We split the data into chunks and send each chunk seperately, accumulating the results.\n",
    "\n",
    "def predict(data, rows=512):\n",
    "    split_array = np.array_split(data, int(data.shape[0] / float(rows) + 1))\n",
    "    predictions = ''\n",
    "    for array in split_array:\n",
    "        predictions = ','.join([predictions, xgb_predictor.predict(array).decode('utf-8')])\n",
    "    \n",
    "    return np.fromstring(predictions[1:], sep=',')"
   ]
  },
  {
   "cell_type": "code",
   "execution_count": 33,
   "metadata": {},
   "outputs": [],
   "source": [
    "test_X = pd.read_csv(os.path.join(data_dir, 'test.csv'), header=None).values\n",
    "\n",
    "predictions = predict(test_X)\n",
    "predictions = [round(num) for num in predictions]"
   ]
  },
  {
   "cell_type": "markdown",
   "metadata": {},
   "source": [
    "Lastly, we check to see what the accuracy of our model is."
   ]
  },
  {
   "cell_type": "code",
   "execution_count": 34,
   "metadata": {},
   "outputs": [
    {
     "data": {
      "text/plain": [
       "0.86064"
      ]
     },
     "execution_count": 34,
     "metadata": {},
     "output_type": "execute_result"
    }
   ],
   "source": [
    "from sklearn.metrics import accuracy_score\n",
    "accuracy_score(test_y, predictions)"
   ]
  },
  {
   "cell_type": "markdown",
   "metadata": {},
   "source": [
    "And the results here should agree with the model testing that we did earlier using the batch transform job.\n",
    "\n",
    "### Cleaning up\n",
    "\n",
    "Now that we've determined that deploying our model works as expected, we are going to shut it down. Remember that the longer the endpoint is left running, the greater the cost and since we have a bit more work to do before we are able to use our endpoint with our simple web app, we should shut everything down."
   ]
  },
  {
   "cell_type": "code",
   "execution_count": null,
   "metadata": {},
   "outputs": [],
   "source": [
    "xgb_predictor.delete_endpoint()"
   ]
  },
  {
   "cell_type": "markdown",
   "metadata": {},
   "source": [
    "## Step 7: Putting our model to work\n",
    "\n",
    "As we've mentioned a few times now, our goal is to have our model deployed and then access it using a very simple web app. The intent is for this web app to take some user submitted data (a review), send it off to our endpoint (the model) and then display the result.\n",
    "\n",
    "However, there is a small catch. Currently the only way we can access the endpoint to send it data is using the SageMaker API. We can, if we wish, expose the actual URL that our model's endpoint is receiving data from, however, if we just send it data ourselves we will not get anything in return. This is because the endpoint created by SageMaker requires the entity accessing it have the correct permissions. So, we would need to somehow authenticate our web app with AWS.\n",
    "\n",
    "Having a website that authenticates to AWS seems a bit beyond the scope of this lesson so we will opt for an alternative approach. Namely, we will create a new endpoint which does not require authentication and which acts as a proxy for the SageMaker endpoint.\n",
    "\n",
    "As an additional constraint, we will try to avoid doing any data processing in the web app itself. Remember that when we constructed and tested our model we started with a movie review, then we simplified it by removing any html formatting and punctuation, then we constructed a bag of words embedding and the resulting vector is what we sent to our model. All of this needs to be done to our user input as well.\n",
    "\n",
    "Fortunately we can do all of this data processing in the backend, using Amazon's Lambda service.\n",
    "\n",
    "<img src=\"Web App Diagram.svg\">\n",
    "\n",
    "The diagram above gives an overview of how the various services will work together. On the far right is the model which we trained above and which will be deployed using SageMaker. On the far left is our web app that collects a user's movie review, sends it off and expects a positive or negative sentiment in return.\n",
    "\n",
    "In the middle is where some of the magic happens. We will construct a Lambda function, which you can think of as a straightforward Python function that can be executed whenever a specified event occurs. This Python function will do the data processing we need to perform on a user submitted review. In addition, we will give this function permission to send and recieve data from a SageMaker endpoint.\n",
    "\n",
    "Lastly, the method we will use to execute the Lambda function is a new endpoint that we will create using API Gateway. This endpoint will be a url that listens for data to be sent to it. Once it gets some data it will pass that data on to the Lambda function and then return whatever the Lambda function returns. Essentially it will act as an interface that lets our web app communicate with the Lambda function.\n",
    "\n",
    "### Processing a single review\n",
    "\n",
    "For now, suppose we are given a movie review by our user in the form of a string, like so:"
   ]
  },
  {
   "cell_type": "code",
   "execution_count": 35,
   "metadata": {},
   "outputs": [],
   "source": [
    "test_review = \"Nothing but a disgusting materialistic pageant of glistening abed remote control greed zombies, totally devoid of any heart or heat. A romantic comedy that has zero romantic chemestry and zero laughs!\""
   ]
  },
  {
   "cell_type": "markdown",
   "metadata": {},
   "source": [
    "How do we go from this string to the bag of words feature vector that is expected by our model?\n",
    "\n",
    "If we recall at the beginning of this notebook, the first step is to remove any unnecessary characters using the `review_to_words` method. Remember that we intentionally did this in a very simplistic way. This is because we are going to have to copy this method to our (eventual) Lambda function (we will go into more detail later) and this means it needs to be rather simplistic."
   ]
  },
  {
   "cell_type": "code",
   "execution_count": 36,
   "metadata": {},
   "outputs": [
    {
     "name": "stdout",
     "output_type": "stream",
     "text": [
      "nothing but a disgusting materialistic pageant of glistening abed remote control greed zombies totally devoid of any heart or heat a romantic comedy that has zero romantic chemestry and zero laughs\n"
     ]
    }
   ],
   "source": [
    "test_words = review_to_words(test_review)\n",
    "print(test_words)"
   ]
  },
  {
   "cell_type": "markdown",
   "metadata": {},
   "source": [
    "Next, we need to construct a bag of words embedding of the `test_words` string. To do this, remember that a bag of words embedding uses a `vocabulary` consisting of the most frequently appearing words in a set of documents. Then, for each word in the vocabulary we record the number of times that word appears in `test_words`. We constructed the `vocabulary` earlier using the training set for our problem so encoding `test_words` is relatively straightforward."
   ]
  },
  {
   "cell_type": "code",
   "execution_count": 37,
   "metadata": {},
   "outputs": [],
   "source": [
    "def bow_encoding(words, vocabulary):\n",
    "    bow = [0] * len(vocabulary) # Start by setting the count for each word in the vocabulary to zero.\n",
    "    for word in words.split():  # For each word in the string\n",
    "        if word in vocabulary:  # If the word is one that occurs in the vocabulary, increase its count.\n",
    "            bow[vocabulary[word]] += 1\n",
    "    return bow"
   ]
  },
  {
   "cell_type": "code",
   "execution_count": 38,
   "metadata": {},
   "outputs": [
    {
     "name": "stdout",
     "output_type": "stream",
     "text": [
      "[0, 0, 0, 0, 0, 0, 0, 0, 0, 0, 0, 0, 0, 0, 0, 0, 0, 0, 0, 0, 0, 0, 0, 0, 0, 0, 0, 0, 0, 0, 0, 0, 0, 0, 0, 0, 0, 0, 0, 0, 0, 0, 0, 0, 0, 0, 0, 0, 0, 0, 0, 0, 0, 0, 0, 0, 0, 0, 0, 0, 0, 0, 0, 0, 0, 0, 0, 0, 0, 0, 0, 0, 0, 0, 0, 0, 0, 0, 0, 0, 0, 0, 0, 0, 0, 0, 0, 0, 0, 0, 0, 0, 0, 0, 0, 0, 0, 0, 0, 0, 0, 0, 0, 0, 0, 0, 0, 0, 0, 0, 0, 0, 0, 0, 0, 0, 0, 0, 0, 0, 0, 0, 0, 0, 0, 0, 0, 0, 0, 0, 0, 0, 0, 0, 0, 0, 0, 0, 0, 0, 0, 0, 0, 0, 0, 0, 0, 0, 0, 0, 0, 0, 0, 0, 0, 0, 0, 0, 0, 0, 0, 0, 0, 0, 0, 0, 0, 0, 0, 0, 0, 0, 0, 0, 0, 0, 0, 0, 0, 0, 0, 0, 0, 0, 0, 0, 0, 0, 0, 0, 0, 0, 0, 0, 0, 0, 0, 0, 0, 0, 0, 0, 0, 0, 0, 0, 0, 0, 0, 0, 0, 0, 0, 0, 0, 0, 0, 0, 0, 0, 0, 0, 0, 0, 0, 0, 1, 0, 0, 0, 0, 0, 0, 0, 0, 0, 0, 0, 0, 0, 0, 0, 0, 0, 0, 0, 0, 0, 0, 0, 0, 0, 0, 0, 0, 0, 1, 0, 0, 0, 0, 0, 0, 0, 0, 0, 0, 0, 0, 0, 0, 0, 0, 0, 0, 0, 0, 0, 0, 0, 0, 0, 0, 0, 0, 0, 0, 0, 0, 0, 0, 0, 0, 0, 0, 0, 0, 0, 0, 0, 0, 0, 0, 0, 0, 0, 0, 0, 0, 0, 0, 0, 0, 0, 0, 0, 0, 0, 0, 0, 0, 0, 0, 0, 0, 0, 0, 0, 0, 0, 0, 0, 0, 0, 0, 0, 0, 0, 0, 0, 0, 0, 0, 0, 0, 0, 0, 0, 0, 0, 0, 0, 0, 0, 0, 0, 0, 0, 0, 0, 0, 0, 0, 0, 0, 0, 0, 0, 0, 0, 0, 0, 0, 0, 0, 0, 0, 0, 0, 0, 0, 0, 0, 0, 0, 0, 0, 0, 0, 0, 0, 0, 0, 0, 0, 0, 0, 0, 0, 0, 0, 0, 0, 0, 0, 0, 0, 0, 0, 0, 0, 0, 0, 0, 0, 0, 0, 0, 0, 0, 0, 0, 0, 0, 0, 0, 0, 0, 0, 0, 0, 0, 0, 0, 0, 0, 0, 0, 0, 0, 0, 0, 0, 0, 0, 0, 0, 0, 0, 0, 0, 0, 0, 0, 0, 0, 0, 0, 0, 0, 0, 0, 0, 0, 0, 0, 0, 0, 0, 0, 0, 0, 0, 0, 0, 0, 0, 0, 0, 0, 0, 0, 0, 0, 0, 0, 0, 0, 0, 0, 0, 0, 0, 0, 0, 0, 0, 0, 0, 0, 0, 0, 0, 0, 0, 0, 0, 0, 0, 0, 0, 0, 0, 0, 0, 0, 0, 0, 0, 0, 0, 0, 0, 0, 0, 0, 0, 0, 0, 0, 0, 0, 0, 0, 0, 0, 0, 0, 0, 0, 0, 0, 0, 0, 0, 0, 0, 0, 0, 0, 0, 0, 0, 0, 0, 0, 0, 0, 0, 0, 0, 0, 0, 0, 0, 0, 0, 0, 0, 0, 0, 0, 0, 0, 0, 0, 0, 0, 0, 0, 0, 0, 0, 0, 0, 0, 0, 0, 0, 0, 0, 0, 0, 0, 0, 0, 0, 0, 0, 0, 0, 0, 0, 0, 0, 0, 0, 0, 0, 0, 0, 0, 0, 0, 0, 0, 0, 0, 0, 0, 0, 0, 0, 0, 0, 0, 0, 0, 0, 0, 0, 0, 0, 0, 0, 0, 1, 0, 0, 0, 0, 0, 0, 0, 0, 0, 0, 0, 0, 0, 0, 0, 0, 0, 0, 0, 0, 0, 0, 0, 0, 0, 0, 0, 0, 0, 0, 0, 0, 0, 0, 0, 0, 0, 0, 0, 0, 0, 0, 0, 0, 0, 0, 0, 0, 0, 0, 0, 0, 0, 0, 0, 0, 0, 0, 0, 0, 0, 0, 0, 0, 0, 0, 0, 0, 0, 0, 0, 0, 0, 0, 0, 0, 0, 0, 0, 0, 0, 0, 0, 0, 0, 0, 0, 0, 0, 0, 0, 0, 0, 0, 0, 0, 0, 0, 0, 0, 0, 0, 0, 0, 0, 0, 0, 0, 0, 0, 0, 0, 0, 0, 0, 0, 0, 0, 0, 0, 0, 0, 0, 0, 0, 0, 0, 0, 0, 0, 0, 0, 0, 0, 0, 0, 0, 0, 0, 0, 0, 0, 0, 0, 0, 0, 0, 0, 0, 0, 0, 0, 0, 0, 0, 0, 0, 0, 0, 0, 0, 0, 0, 0, 0, 0, 0, 0, 0, 0, 0, 0, 0, 0, 0, 0, 0, 0, 0, 0, 0, 0, 0, 0, 0, 0, 0, 0, 0, 0, 0, 0, 0, 0, 0, 0, 0, 0, 0, 0, 0, 0, 0, 0, 0, 0, 0, 0, 0, 0, 0, 0, 0, 0, 0, 0, 0, 0, 0, 0, 0, 0, 0, 0, 0, 0, 0, 0, 0, 0, 0, 0, 0, 0, 0, 0, 0, 0, 0, 0, 0, 0, 0, 0, 0, 0, 0, 0, 0, 0, 0, 0, 0, 1, 0, 0, 0, 0, 0, 0, 0, 0, 0, 0, 0, 0, 0, 0, 0, 0, 0, 0, 0, 0, 0, 0, 0, 0, 0, 0, 0, 0, 0, 0, 0, 0, 0, 0, 0, 0, 0, 0, 0, 0, 0, 0, 0, 0, 0, 0, 0, 0, 0, 0, 0, 0, 0, 0, 0, 0, 0, 0, 0, 0, 0, 0, 0, 0, 0, 0, 0, 0, 0, 0, 0, 0, 0, 0, 0, 0, 0, 0, 0, 0, 0, 0, 0, 0, 0, 0, 1, 0, 0, 0, 0, 0, 0, 0, 0, 0, 0, 0, 0, 0, 0, 0, 0, 0, 0, 0, 0, 0, 0, 0, 0, 0, 0, 0, 0, 0, 0, 0, 0, 0, 0, 0, 0, 0, 0, 0, 0, 0, 0, 0, 0, 0, 0, 0, 0, 0, 0, 0, 0, 0, 0, 0, 0, 0, 0, 0, 0, 0, 0, 0, 0, 0, 0, 0, 0, 0, 0, 0, 0, 0, 0, 0, 0, 0, 0, 0, 0, 0, 0, 0, 0, 0, 0, 0, 0, 0, 0, 0, 0, 0, 0, 0, 0, 0, 0, 0, 0, 0, 0, 0, 0, 0, 0, 0, 0, 0, 0, 0, 0, 0, 0, 0, 0, 0, 0, 0, 0, 0, 0, 0, 0, 0, 0, 0, 0, 0, 0, 0, 0, 0, 0, 0, 0, 0, 0, 0, 0, 0, 0, 0, 0, 0, 0, 0, 0, 0, 0, 0, 0, 0, 0, 0, 0, 0, 0, 0, 0, 0, 0, 0, 0, 0, 0, 0, 0, 0, 0, 0, 0, 0, 0, 0, 0, 0, 0, 0, 0, 0, 0, 0, 0, 0, 0, 0, 0, 0, 0, 0, 0, 0, 0, 0, 0, 0, 0, 0, 0, 0, 0, 0, 0, 0, 0, 0, 0, 0, 0, 0, 0, 0, 0, 0, 0, 0, 0, 0, 0, 0, 0, 0, 0, 0, 0, 0, 0, 0, 0, 0, 0, 0, 0, 0, 0, 0, 0, 0, 0, 0, 0, 0, 0, 0, 0, 0, 0, 0, 0, 0, 0, 1, 0, 0, 0, 0, 0, 0, 0, 0, 0, 0, 0, 0, 0, 0, 0, 0, 0, 0, 0, 0, 0, 0, 0, 0, 0, 0, 0, 0, 0, 0, 0, 0, 0, 0, 0, 0, 0, 0, 0, 0, 0, 0, 0, 0, 0, 0, 0, 0, 0, 0, 0, 0, 0, 0, 0, 1, 0, 0, 0, 0, 0, 0, 0, 0, 0, 0, 0, 0, 0, 0, 0, 0, 0, 0, 0, 0, 0, 0, 0, 0, 0, 0, 0, 0, 0, 0, 0, 0, 0, 0, 0, 0, 0, 0, 0, 0, 0, 0, 0, 0, 0, 0, 0, 0, 0, 0, 0, 0, 0, 0, 0, 0, 0, 0, 0, 0, 0, 0, 0, 0, 0, 0, 0, 0, 0, 0, 0, 0, 0, 0, 0, 0, 0, 0, 0, 0, 0, 0, 0, 0, 0, 0, 0, 0, 0, 0, 0, 0, 0, 0, 0, 0, 0, 0, 0, 0, 0, 0, 0, 0, 0, 0, 0, 0, 0, 0, 0, 0, 0, 0, 0, 0, 0, 0, 0, 0, 0, 0, 0, 0, 0, 0, 0, 0, 0, 0, 0, 0, 0, 0, 0, 0, 0, 0, 0, 0, 0, 0, 0, 0, 0, 0, 0, 0, 0, 0, 0, 0, 0, 0, 0, 0, 0, 0, 0, 0, 0, 0, 0, 0, 0, 0, 0, 0, 0, 0, 0, 0, 0, 0, 0, 0, 0, 0, 0, 0, 0, 0, 0, 0, 0, 0, 0, 0, 0, 0, 0, 0, 0, 0, 0, 0, 0, 0, 0, 0, 0, 0, 0, 0, 0, 0, 0, 0, 0, 0, 0, 0, 0, 0, 0, 0, 0, 0, 0, 0, 0, 0, 0, 0, 0, 0, 0, 0, 0, 0, 0, 0, 0, 0, 0, 0, 0, 0, 0, 0, 0, 0, 0, 0, 0, 0, 0, 0, 0, 0, 0, 0, 0, 0, 0, 0, 0, 0, 0, 0, 0, 0, 0, 0, 0, 0, 0, 0, 0, 0, 0, 0, 0, 0, 0, 0, 0, 0, 0, 0, 0, 0, 0, 0, 0, 0, 0, 0, 0, 0, 0, 0, 0, 0, 0, 0, 0, 0, 0, 0, 0, 0, 0, 0, 0, 0, 0, 0, 0, 0, 0, 0, 0, 0, 0, 0, 0, 0, 0, 0, 0, 0, 0, 0, 0, 0, 0, 0, 0, 0, 0, 0, 0, 0, 0, 0, 0, 0, 0, 0, 0, 0, 0, 0, 0, 0, 0, 0, 0, 0, 0, 0, 0, 0, 0, 0, 0, 0, 0, 0, 0, 0, 0, 0, 0, 0, 0, 0, 0, 0, 0, 0, 0, 0, 0, 0, 0, 0, 0, 0, 0, 0, 0, 0, 0, 0, 0, 0, 0, 0, 0, 0, 0, 0, 0, 0, 0, 0, 0, 0, 0, 0, 0, 0, 0, 0, 0, 0, 0, 0, 0, 0, 0, 0, 0, 0, 0, 0, 0, 0, 0, 0, 0, 0, 0, 0, 0, 0, 0, 0, 0, 0, 0, 0, 0, 0, 0, 0, 0, 0, 0, 0, 0, 0, 0, 0, 0, 0, 0, 0, 0, 0, 0, 0, 0, 0, 0, 0, 0, 0, 0, 0, 0, 0, 0, 0, 0, 0, 0, 0, 0, 0, 0, 0, 0, 0, 0, 0, 0, 0, 0, 0, 0, 0, 0, 0, 0, 0, 0, 0, 0, 0, 0, 0, 0, 0, 0, 0, 0, 0, 0, 0, 0, 0, 0, 0, 0, 0, 0, 0, 0, 0, 0, 0, 0, 0, 0, 0, 0, 0, 0, 0, 0, 0, 0, 0, 0, 0, 0, 0, 0, 0, 0, 0, 0, 0, 0, 0, 0, 0, 0, 0, 0, 0, 0, 0, 0, 0, 0, 0, 0, 0, 0, 0, 0, 0, 0, 0, 0, 0, 0, 0, 0, 0, 0, 0, 0, 0, 0, 0, 0, 0, 0, 0, 0, 0, 0, 0, 0, 0, 0, 0, 0, 0, 0, 0, 0, 0, 0, 0, 0, 0, 0, 0, 0, 0, 0, 0, 0, 0, 0, 0, 0, 0, 0, 0, 0, 0, 0, 0, 0, 0, 0, 0, 0, 0, 0, 0, 0, 0, 0, 0, 0, 0, 0, 0, 0, 0, 0, 0, 0, 0, 0, 0, 0, 0, 0, 0, 0, 0, 0, 0, 0, 0, 0, 0, 0, 0, 0, 0, 0, 0, 0, 0, 0, 0, 0, 0, 0, 0, 0, 0, 0, 0, 0, 0, 0, 0, 0, 0, 0, 0, 0, 0, 0, 0, 0, 0, 0, 0, 0, 1, 0, 0, 0, 0, 0, 0, 0, 0, 0, 0, 0, 0, 0, 0, 0, 0, 0, 0, 0, 0, 0, 0, 0, 0, 0, 0, 0, 0, 0, 0, 0, 0, 0, 0, 0, 0, 0, 0, 0, 0, 0, 0, 0, 0, 0, 0, 0, 0, 0, 0, 0, 0, 0, 0, 0, 0, 0, 0, 0, 0, 0, 0, 0, 0, 0, 0, 0, 0, 0, 0, 0, 0, 0, 0, 1, 0, 0, 0, 0, 0, 0, 0, 0, 0, 0, 0, 0, 0, 0, 0, 0, 0, 0, 0, 0, 1, 0, 0, 1, 0, 0, 0, 0, 0, 0, 0, 0, 0, 0, 0, 0, 0, 0, 0, 0, 0, 0, 0, 0, 0, 0, 0, 0, 0, 0, 0, 0, 0, 0, 0, 0, 0, 0, 0, 0, 0, 0, 0, 0, 0, 0, 0, 0, 0, 0, 0, 0, 0, 0, 0, 0, 0, 0, 0, 0, 0, 0, 0, 0, 0, 0, 0, 0, 0, 0, 0, 0, 0, 0, 0, 0, 0, 0, 0, 0, 0, 0, 0, 0, 0, 0, 0, 0, 0, 0, 0, 0, 0, 0, 0, 0, 0, 0, 0, 0, 0, 0, 0, 0, 0, 0, 0, 0, 0, 0, 0, 0, 0, 0, 0, 0, 0, 0, 0, 0, 0, 0, 0, 0, 0, 0, 0, 0, 0, 0, 0, 0, 0, 0, 0, 0, 0, 0, 0, 0, 0, 0, 0, 0, 0, 0, 0, 0, 0, 0, 0, 0, 0, 0, 0, 0, 0, 0, 0, 0, 0, 0, 0, 0, 0, 0, 0, 0, 0, 0, 0, 0, 0, 0, 0, 0, 0, 0, 0, 0, 0, 0, 0, 0, 0, 0, 0, 0, 0, 0, 0, 0, 0, 0, 0, 0, 0, 0, 0, 0, 0, 0, 0, 0, 0, 0, 0, 0, 0, 0, 0, 0, 0, 0, 0, 0, 0, 0, 0, 0, 0, 0, 0, 0, 0, 0, 0, 0, 0, 0, 0, 0, 0, 0, 0, 0, 0, 0, 0, 0, 0, 0, 0, 0, 0, 0, 0, 0, 0, 0, 0, 0, 0, 0, 0, 0, 0, 0, 0, 0, 0, 0, 0, 0, 0, 0, 0, 0, 0, 0, 0, 0, 0, 0, 0, 0, 0, 0, 0, 0, 0, 0, 0, 0, 0, 0, 0, 0, 0, 0, 0, 0, 0, 0, 0, 0, 0, 0, 0, 0, 0, 0, 0, 0, 0, 0, 0, 0, 0, 0, 0, 0, 0, 0, 0, 0, 0, 0, 0, 0, 0, 0, 0, 0, 0, 0, 0, 0, 0, 0, 0, 0, 0, 0, 0, 0, 0, 0, 0, 0, 0, 0, 0, 0, 0, 0, 0, 0, 0, 0, 0, 0, 0, 0, 0, 0, 0, 0, 0, 0, 0, 0, 0, 0, 0, 0, 0, 0, 0, 0, 0, 0, 0, 0, 0, 0, 0, 0, 0, 0, 0, 0, 0, 0, 0, 0, 0, 0, 0, 0, 0, 0, 0, 0, 0, 0, 0, 0, 0, 0, 0, 0, 0, 0, 0, 0, 0, 0, 0, 0, 0, 0, 0, 0, 0, 0, 0, 0, 0, 0, 0, 0, 0, 0, 0, 0, 0, 0, 0, 0, 0, 0, 0, 0, 0, 0, 0, 0, 0, 0, 0, 0, 0, 0, 0, 0, 0, 0, 0, 0, 0, 0, 0, 0, 0, 0, 0, 0, 0, 0, 0, 0, 0, 0, 0, 0, 0, 0, 0, 0, 1, 0, 0, 0, 0, 0, 0, 0, 0, 0, 0, 0, 0, 0, 0, 0, 0, 0, 0, 0, 0, 0, 0, 0, 0, 0, 0, 0, 0, 0, 0, 0, 0, 0, 0, 0, 0, 0, 0, 0, 0, 0, 0, 0, 0, 0, 0, 0, 0, 0, 0, 0, 0, 0, 0, 0, 0, 0, 0, 0, 0, 0, 0, 0, 0, 0, 0, 0, 0, 0, 0, 0, 0, 0, 0, 0, 0, 0, 0, 0, 0, 0, 0, 0, 0, 0, 0, 0, 0, 0, 0, 0, 0, 0, 0, 0, 0, 0, 0, 0, 0, 0, 0, 0, 0, 0, 0, 0, 0, 0, 0, 0, 0, 0, 0, 0, 0, 0, 0, 0, 0, 0, 0, 0, 0, 0, 0, 0, 0, 0, 0, 0, 0, 0, 0, 0, 0, 0, 0, 0, 0, 0, 0, 0, 0, 0, 0, 0, 0, 0, 0, 0, 0, 0, 0, 0, 0, 0, 0, 0, 0, 0, 0, 0, 0, 0, 0, 0, 0, 0, 0, 0, 0, 0, 0, 0, 0, 0, 0, 0, 0, 0, 0, 0, 0, 0, 0, 0, 0, 0, 0, 0, 0, 0, 0, 0, 0, 0, 0, 0, 0, 0, 0, 0, 0, 0, 0, 0, 0, 0, 0, 0, 0, 0, 0, 0, 0, 0, 0, 0, 0, 0, 0, 0, 0, 0, 0, 0, 0, 0, 0, 0, 0, 0, 0, 0, 0, 0, 0, 0, 0, 0, 0, 0, 0, 0, 0, 0, 0, 0, 0, 0, 0, 0, 0, 0, 0, 0, 0, 0, 0, 0, 0, 0, 0, 0, 0, 0, 0, 0, 0, 0, 0, 0, 0, 0, 0, 0, 0, 0, 0, 0, 0, 0, 0, 0, 0, 0, 0, 0, 0, 0, 0, 0, 0, 0, 0, 0, 0, 0, 0, 0, 0, 0, 0, 0, 0, 0, 0, 0, 0, 0, 0, 0, 0, 0, 0, 0, 0, 0, 0, 0, 0, 0, 0, 0, 0, 0, 0, 0, 0, 0, 0, 0, 0, 0, 0, 0, 0, 0, 0, 0, 0, 0, 0, 0, 0, 0, 0, 0, 0, 0, 0, 0, 0, 0, 0, 0, 0, 0, 0, 0, 0, 0, 0, 0, 0, 0, 0, 0, 0, 0, 0, 0, 0, 0, 0, 0, 0, 0, 0, 0, 0, 0, 0, 0, 0, 0, 0, 0, 0, 0, 0, 0, 0, 0, 0, 0, 0, 0, 0, 0, 0, 0, 0, 0, 0, 0, 0, 0, 0, 0, 0, 0, 0, 0, 0, 0, 0, 0, 0, 0, 0, 0, 0, 0, 0, 0, 0, 0, 0, 0, 0, 0, 0, 0, 0, 0, 0, 0, 0, 0, 0, 0, 0, 0, 0, 0, 0, 0, 0, 0, 0, 0, 0, 0, 0, 0, 0, 0, 0, 0, 0, 0, 0, 0, 0, 0, 0, 0, 0, 0, 0, 0, 0, 0, 0, 0, 0, 0, 0, 0, 0, 0, 0, 0, 0, 0, 0, 0, 0, 0, 0, 0, 0, 0, 0, 0, 0, 0, 0, 0, 0, 0, 0, 0, 0, 0, 0, 0, 0, 0, 0, 1, 0, 0, 0, 0, 0, 0, 0, 0, 0, 0, 0, 0, 0, 0, 0, 0, 0, 0, 0, 0, 0, 0, 0, 0, 0, 0, 0, 0, 0, 0, 0, 0, 0, 0, 0, 2, 0, 0, 0, 0, 0, 0, 0, 0, 0, 0, 0, 0, 0, 0, 0, 0, 0, 0, 0, 0, 0, 0, 0, 0, 0, 0, 0, 0, 0, 0, 0, 0, 0, 0, 0, 0, 0, 0, 0, 0, 1, 0, 0, 0, 0, 0, 0, 0, 0, 0, 0, 0, 0, 0, 0, 0, 0, 0, 0, 0, 0, 0, 0, 0, 0, 0, 0, 0, 0, 0, 0, 0, 0, 0, 0, 0, 0, 0, 0, 0, 0, 0, 0, 0, 0, 0, 0, 0, 0, 0, 0, 0, 0, 0, 0, 0, 0, 0, 0, 0, 0, 0, 0, 0, 0, 0, 0, 0, 0, 0, 0, 0, 0, 0, 0, 0, 0, 0, 0, 0, 0, 0, 0, 0, 0, 0, 0, 0, 0, 0, 0, 0, 0, 0, 0, 0, 0, 0, 0, 0, 0, 0, 0, 0, 0, 0, 0, 0, 0, 0, 0, 0, 0, 0, 0, 0, 0, 0, 0, 0, 0, 0, 0, 0, 0, 0, 0, 0, 0, 0, 0, 0, 0, 0, 0, 0, 0, 0, 0, 0, 0, 0, 0, 0, 0, 0, 0, 0, 0, 0, 0, 0, 0, 0, 0, 0, 0, 0, 0, 0, 0, 0, 0, 0, 0, 0, 0, 0, 0, 0, 0, 0, 0, 0, 0, 0, 0, 0, 0, 0, 0, 0, 0, 0, 0, 0, 0, 0, 0, 0, 0, 0, 0, 0, 0, 0, 0, 0, 0, 0, 0, 0, 0, 0, 0, 0, 0, 0, 0, 0, 0, 0, 0, 0, 0, 0, 0, 0, 0, 0, 0, 0, 0, 0, 0, 0, 0, 0, 0, 0, 0, 0, 0, 0, 0, 0, 0, 0, 0, 0, 0, 0, 0, 0, 0, 0, 0, 0, 0, 0, 0, 0, 0, 0, 0, 0, 0, 0, 0, 0, 0, 0, 0, 0, 0, 0, 0, 0, 0, 0, 0, 0, 0, 0, 0, 0, 0, 0, 0, 0, 0, 0, 0, 0, 0, 0, 0, 0, 0, 0, 0, 0, 0, 0, 0, 0, 0, 0, 0, 0, 0, 0, 0, 0, 0, 0, 0, 0, 0, 0, 0, 0, 0, 0, 0, 0, 0, 0, 0, 0, 0, 0, 0, 0, 0, 0, 0, 0, 0, 0, 0, 0, 0, 0, 0, 0, 0, 0, 0, 0, 0, 0, 0, 0, 0, 0, 0, 0, 0, 0, 0, 0, 0, 0, 0, 0, 0, 0, 0, 0, 0, 0, 0, 0, 0, 0, 0, 0, 0, 0, 0, 0, 0, 0, 0, 0, 0, 0, 0, 0, 0, 0, 0, 0, 0, 0, 0, 0, 0, 0, 0, 0, 0, 0, 0, 0, 0, 0, 0, 0, 0, 0, 0, 0, 0, 0, 0, 0, 0, 0, 0, 0, 0, 0, 0, 0, 0, 0, 0, 0, 0, 0, 0, 0, 0, 0, 0, 0, 0, 0, 0, 0, 0, 0, 0, 0, 0, 0, 0, 0, 0, 0, 0, 0, 0, 0, 0, 0, 0, 0, 0, 0, 0, 0, 0, 0, 0, 0, 0, 0, 0, 0, 0, 0, 0, 0, 0, 0, 0, 0, 0, 0, 0, 0, 0, 0, 0, 0, 0, 0, 0, 0, 0, 0, 0, 0, 0, 0, 0, 0, 0, 0, 0, 0, 0, 0, 0, 0, 1, 0, 0, 0, 0, 0, 0, 0, 0, 0, 0, 0, 0, 0, 0, 0, 0, 0, 0, 0, 0, 0, 0, 0, 0, 0, 0, 0, 0, 0, 0, 0, 0, 0, 0, 0, 0, 0, 0, 0, 0, 0, 0, 0, 0, 0, 0, 0, 0, 0, 0, 0, 0, 0, 0, 0, 0, 0, 0, 0, 0, 0, 0, 0, 0, 0, 0, 0, 0, 0, 0, 0, 0, 0, 0, 0, 0, 0, 0, 0, 0, 0, 0, 0, 0, 0, 0, 0, 0, 0, 0, 0, 0, 0, 0, 0, 0, 0, 0, 0, 0, 0, 0, 0, 0, 0, 0, 0, 0, 0, 0, 2, 0, 0, 0, 0, 0, 0, 0, 0, 0, 0, 0, 0, 0, 0, 0, 0, 0, 0, 0, 0, 0, 0, 0, 0, 0, 0, 0, 0, 0, 0, 0, 0, 0, 0, 0, 0, 0, 0, 0, 0, 0, 0, 0, 0, 0, 0, 0, 0, 0, 0, 0, 0, 0, 0, 0, 0, 0, 0, 0, 0, 0, 0, 0, 0, 0, 0, 0, 0, 0, 0, 0, 0, 0, 0, 0, 0, 0, 0, 0, 0, 0, 0, 0, 0, 0, 0, 0, 0, 0, 0, 0, 0, 0, 0, 0, 0, 0, 0, 0, 0, 0, 0, 0, 0, 0, 0, 0, 0, 0, 0, 0, 0, 0, 0, 0, 0, 0, 0, 0, 0, 0, 0, 0, 0, 0, 0, 0, 0, 0, 0, 0, 0, 0, 0, 0, 0, 0, 0, 0, 0, 0, 0, 0, 0, 0, 0, 0, 0, 0, 0, 0, 0, 0, 0, 0, 0, 0, 0, 0, 0, 0, 0, 0, 0, 0, 0, 0, 0, 0, 0, 0, 0, 0, 0, 0, 0, 0, 0, 0, 0, 0, 0, 0, 0, 0, 0, 0, 0, 0, 0, 0, 0, 0, 0, 0, 0, 0, 0, 0, 0, 0, 0, 0, 0, 0, 0, 0, 0, 0, 0, 0, 0, 0, 0, 0, 0, 0, 0, 0, 0, 0, 0, 0, 0, 0, 0, 0, 0, 0, 0, 0, 0, 0, 0, 0, 0, 0, 0, 0, 0, 0, 0, 0, 0, 0, 0, 0, 0, 0, 0, 0, 0, 0, 0, 0, 0, 0, 0, 0, 0, 0, 0, 0, 0, 0, 0, 0, 0, 0, 0, 0, 0, 0, 0, 0, 0, 0, 0, 0, 0, 0, 0, 0, 0, 0, 0, 0, 0, 0, 0, 0, 0, 0, 0, 0, 0, 0, 0, 0, 0, 0, 0, 0, 0, 0, 0, 0, 0, 0, 0, 0, 0, 0, 0, 0, 0, 0, 0, 0, 0, 0, 0, 0, 0, 0, 0, 0, 0, 0, 0, 0, 0, 0, 0, 0, 0, 0, 0, 0, 0, 0, 0, 0, 0, 0, 0, 0, 0, 0, 0, 0, 0, 0, 0, 0, 0, 0, 0, 0, 0, 0, 0, 0, 0, 0, 0, 0, 0, 0, 0, 0, 0, 0, 0, 0, 0, 0, 0, 0, 0, 0, 0, 0, 0, 0, 0, 0, 0, 0, 0, 0, 0, 0, 0, 0, 0, 0, 0, 0, 0, 0, 0, 0, 0, 0, 0, 0, 0, 0, 0, 0, 0, 0, 0, 0, 0, 0, 0, 0, 0, 0, 0, 0, 0, 0, 0, 0, 0, 0, 0, 0, 0, 0, 0, 0, 0, 0, 0, 0, 0, 0, 0, 0, 0, 0, 0, 0, 0, 0, 0, 0, 0, 0, 0, 0, 0, 0, 0, 0, 0, 0, 0, 0, 0, 0, 0, 0, 0, 0, 0, 0, 0, 0, 0, 0, 0, 0, 0, 0, 0, 0, 0, 0, 0, 0, 0, 0, 0, 0, 0, 0, 0, 0, 0, 0, 0, 0, 0, 0, 0, 0, 0, 0, 0, 0, 0, 0, 0, 0, 0, 0, 0, 0, 0, 0, 0, 0, 0, 0, 0, 0, 0, 0, 0, 0, 0, 0, 0, 0, 0, 0, 0, 0, 0, 0, 0, 0, 0, 0, 0, 0, 0, 0, 0, 0, 0, 0, 0, 0, 0, 0, 0, 0, 0, 0, 0, 0, 0, 0, 0, 0, 0, 0, 0, 0, 0, 0, 0, 0, 0, 0, 0, 0, 0, 0, 0, 0, 0, 0, 0, 0, 0, 0, 0, 0, 0, 0, 0, 0, 0, 0, 0, 0, 0, 0, 0, 0, 0, 0, 0, 0, 0, 0, 0, 0, 0, 0, 0, 0, 0, 0, 0, 0, 0, 0, 0, 0, 0, 0, 0, 0, 0, 0, 0, 0, 0, 0, 0, 0, 0, 0, 0, 0, 0, 0, 0, 0, 0, 0, 0, 0, 0, 0, 0, 0, 0, 0, 0, 0, 0, 0, 0, 0, 0, 0, 0, 0, 0, 0, 0, 0, 0, 0, 0, 0, 0, 0, 0, 0, 0, 0, 0, 0, 0, 0, 0, 0, 0, 0, 0, 0, 0, 0, 0, 0, 0, 0, 0, 0, 0, 1, 0, 0, 0, 0, 0, 0, 0, 0, 0, 0, 0, 0, 0, 0, 0, 0, 0, 0, 0, 0, 0, 0, 0, 0, 0, 0, 0, 0, 0, 0, 0, 0, 0, 0, 0, 0, 0, 0, 0, 0, 0, 0, 0, 0, 0, 0, 0, 0, 0, 0, 0, 0, 0, 0, 0, 0, 0, 0, 0, 0, 0, 0, 0, 0, 0, 0, 0, 0, 0, 0, 0, 0, 0, 0, 0, 0, 0, 0, 0, 0, 0, 0, 0, 0, 0, 0, 0, 0, 0, 0, 0, 0, 0, 0, 0, 0, 0, 0, 0, 0, 0, 0, 0, 0, 0, 0, 0, 1, 0, 0, 0, 0, 0, 0, 0, 0, 0, 0, 0, 0, 0, 0, 0, 0, 0, 0, 0, 0, 0, 0, 0, 0, 0, 0, 0, 0, 0, 0, 0, 0, 0, 0, 0, 0, 0, 0, 0, 0, 0, 0, 0, 0, 0, 0, 0, 0, 0, 0, 0, 0, 0, 0, 0, 0, 0, 0, 0, 0, 0, 0, 0, 0, 0, 0, 0, 0, 0, 0, 0, 0, 0, 0, 0, 0, 0, 0, 0, 0, 0, 0, 0, 0, 0, 0, 0, 0, 0, 0, 0, 0, 0, 0, 0, 0, 0, 0, 0, 0, 0, 0, 0, 0, 0, 0, 0, 0, 0, 0, 0, 0, 0, 0, 0, 0, 0, 0, 0, 0, 0, 0, 0, 0, 0, 0, 0, 0, 0, 0, 0, 0, 0, 0, 0, 0, 0, 0, 0, 0, 0, 0, 0, 0, 0, 0, 0, 0, 0, 0, 0, 0, 0, 0, 0, 0, 0, 0, 0, 0, 0, 0, 0, 0, 0, 0, 0, 0, 0, 0, 0, 0, 0, 0, 0, 0, 0, 0, 0, 0, 0, 0, 0, 0, 0, 0, 0, 0, 0, 0, 0, 0, 0, 0, 0, 0, 0, 0, 0, 0, 0, 0, 0, 0, 0, 0, 0, 0, 0, 0, 0, 0, 0, 0, 0, 0, 0, 0, 0, 0, 0, 0, 0, 0, 0, 0, 0, 0, 0, 0, 0, 0, 0, 0, 0, 0, 0, 0, 0, 0, 0, 0, 0, 0, 0, 0, 0, 0, 0, 0, 0, 0, 0, 0, 0, 0, 0, 0, 0, 0, 0, 0, 0, 0, 0, 0, 0, 0, 0, 0, 0, 0, 0, 0, 0, 0, 0, 0, 0, 0, 0, 0, 0, 0, 0, 0, 0, 0, 0, 0, 0, 0, 0, 0, 0, 0, 0, 0, 0, 0, 0, 0, 0, 0, 0, 0, 0, 0, 0, 0, 0, 0, 0, 0, 0, 0, 0, 0, 0, 0, 0, 0, 0, 0, 0, 0, 0, 0, 0, 0, 0, 0, 0, 0, 0, 0, 0, 0, 0, 0, 0, 0, 0, 0, 0, 0, 0, 0, 0, 0, 0, 0, 0, 0, 0, 0, 0, 0, 0, 0, 0, 0, 0, 0, 0, 0, 0, 0, 0, 0, 0, 0, 0, 0, 0, 0, 0, 0, 0, 0, 0, 0, 0, 0, 0, 0, 0, 0, 0, 0, 0, 0, 0, 0, 0, 0, 0, 0, 0, 0, 0, 0, 0, 0, 0, 0, 0, 0, 0, 0, 0, 0, 0, 0, 0, 0, 0, 0, 0, 0, 0, 0, 0, 0, 0, 0, 0, 0, 0, 0, 0, 0, 0, 0, 0, 0, 0, 0, 0, 0, 0, 0, 0, 0, 0, 0, 0, 0, 0, 0, 0, 0, 0, 0, 0, 0, 0, 0, 0, 0, 0, 0, 0, 2, 0, 1, 0]\n"
     ]
    }
   ],
   "source": [
    "test_bow = bow_encoding(test_words, vocabulary)\n",
    "print(test_bow)"
   ]
  },
  {
   "cell_type": "code",
   "execution_count": 39,
   "metadata": {},
   "outputs": [
    {
     "data": {
      "text/plain": [
       "5000"
      ]
     },
     "execution_count": 39,
     "metadata": {},
     "output_type": "execute_result"
    }
   ],
   "source": [
    "len(test_bow)"
   ]
  },
  {
   "cell_type": "markdown",
   "metadata": {},
   "source": [
    "So now we know how to construct a bag of words encoding of a user provided review, how to we send it to our endpoint? First, we need to start the endpoint back up."
   ]
  },
  {
   "cell_type": "code",
   "execution_count": 41,
   "metadata": {},
   "outputs": [],
   "source": [
    "xgb_predictor = xgb.deploy(initial_instance_count = 1, instance_type = 'ml.m4.xlarge')"
   ]
  },
  {
   "cell_type": "markdown",
   "metadata": {},
   "source": [
    "At this point we could just do the same thing that we did earlier when we tested our deployed model and send `test_bow` to our endpoint using the `xgb_predictor` object. However, when we eventually construct our Lambda function we won't have access to this object, so how do we call a SageMaker endpoint?\n",
    "\n",
    "It turns out that Python functions that are used in Lambda have access to another Amazon library called `boto3`. This library provides an API for working with Amazon services, including SageMaker. To start with, we need to get a handle to the SageMaker runtime."
   ]
  },
  {
   "cell_type": "code",
   "execution_count": 42,
   "metadata": {},
   "outputs": [],
   "source": [
    "import boto3\n",
    "\n",
    "runtime = boto3.Session().client('sagemaker-runtime')"
   ]
  },
  {
   "cell_type": "markdown",
   "metadata": {},
   "source": [
    "And now that we have access to the SageMaker runtime, we can ask it to make use of (invoke) an endpoint that has already been created. However, we need to provide SageMaker with the name of the deployed endpoint. To find this out we can print it out using the `xgb_predictor` object."
   ]
  },
  {
   "cell_type": "code",
   "execution_count": 43,
   "metadata": {},
   "outputs": [
    {
     "data": {
      "text/plain": [
       "'xgboost-2019-09-02-04-28-41-515'"
      ]
     },
     "execution_count": 43,
     "metadata": {},
     "output_type": "execute_result"
    }
   ],
   "source": [
    "xgb_predictor.endpoint"
   ]
  },
  {
   "cell_type": "markdown",
   "metadata": {},
   "source": [
    "Using the SageMaker runtime and the name of our endpoint, we can invoke the endpoint and send it the `test_bow` data."
   ]
  },
  {
   "cell_type": "code",
   "execution_count": 44,
   "metadata": {},
   "outputs": [
    {
     "ename": "ParamValidationError",
     "evalue": "Parameter validation failed:\nInvalid type for parameter Body, value: [0, 0, 0, 0, 0, 0, 0, 0, 0, 0, 0, 0, 0, 0, 0, 0, 0, 0, 0, 0, 0, 0, 0, 0, 0, 0, 0, 0, 0, 0, 0, 0, 0, 0, 0, 0, 0, 0, 0, 0, 0, 0, 0, 0, 0, 0, 0, 0, 0, 0, 0, 0, 0, 0, 0, 0, 0, 0, 0, 0, 0, 0, 0, 0, 0, 0, 0, 0, 0, 0, 0, 0, 0, 0, 0, 0, 0, 0, 0, 0, 0, 0, 0, 0, 0, 0, 0, 0, 0, 0, 0, 0, 0, 0, 0, 0, 0, 0, 0, 0, 0, 0, 0, 0, 0, 0, 0, 0, 0, 0, 0, 0, 0, 0, 0, 0, 0, 0, 0, 0, 0, 0, 0, 0, 0, 0, 0, 0, 0, 0, 0, 0, 0, 0, 0, 0, 0, 0, 0, 0, 0, 0, 0, 0, 0, 0, 0, 0, 0, 0, 0, 0, 0, 0, 0, 0, 0, 0, 0, 0, 0, 0, 0, 0, 0, 0, 0, 0, 0, 0, 0, 0, 0, 0, 0, 0, 0, 0, 0, 0, 0, 0, 0, 0, 0, 0, 0, 0, 0, 0, 0, 0, 0, 0, 0, 0, 0, 0, 0, 0, 0, 0, 0, 0, 0, 0, 0, 0, 0, 0, 0, 0, 0, 0, 0, 0, 0, 0, 0, 0, 0, 0, 0, 0, 0, 0, 1, 0, 0, 0, 0, 0, 0, 0, 0, 0, 0, 0, 0, 0, 0, 0, 0, 0, 0, 0, 0, 0, 0, 0, 0, 0, 0, 0, 0, 0, 1, 0, 0, 0, 0, 0, 0, 0, 0, 0, 0, 0, 0, 0, 0, 0, 0, 0, 0, 0, 0, 0, 0, 0, 0, 0, 0, 0, 0, 0, 0, 0, 0, 0, 0, 0, 0, 0, 0, 0, 0, 0, 0, 0, 0, 0, 0, 0, 0, 0, 0, 0, 0, 0, 0, 0, 0, 0, 0, 0, 0, 0, 0, 0, 0, 0, 0, 0, 0, 0, 0, 0, 0, 0, 0, 0, 0, 0, 0, 0, 0, 0, 0, 0, 0, 0, 0, 0, 0, 0, 0, 0, 0, 0, 0, 0, 0, 0, 0, 0, 0, 0, 0, 0, 0, 0, 0, 0, 0, 0, 0, 0, 0, 0, 0, 0, 0, 0, 0, 0, 0, 0, 0, 0, 0, 0, 0, 0, 0, 0, 0, 0, 0, 0, 0, 0, 0, 0, 0, 0, 0, 0, 0, 0, 0, 0, 0, 0, 0, 0, 0, 0, 0, 0, 0, 0, 0, 0, 0, 0, 0, 0, 0, 0, 0, 0, 0, 0, 0, 0, 0, 0, 0, 0, 0, 0, 0, 0, 0, 0, 0, 0, 0, 0, 0, 0, 0, 0, 0, 0, 0, 0, 0, 0, 0, 0, 0, 0, 0, 0, 0, 0, 0, 0, 0, 0, 0, 0, 0, 0, 0, 0, 0, 0, 0, 0, 0, 0, 0, 0, 0, 0, 0, 0, 0, 0, 0, 0, 0, 0, 0, 0, 0, 0, 0, 0, 0, 0, 0, 0, 0, 0, 0, 0, 0, 0, 0, 0, 0, 0, 0, 0, 0, 0, 0, 0, 0, 0, 0, 0, 0, 0, 0, 0, 0, 0, 0, 0, 0, 0, 0, 0, 0, 0, 0, 0, 0, 0, 0, 0, 0, 0, 0, 0, 0, 0, 0, 0, 0, 0, 0, 0, 0, 0, 0, 0, 0, 0, 0, 0, 0, 0, 0, 0, 0, 0, 0, 0, 0, 0, 0, 0, 0, 0, 0, 0, 0, 0, 0, 0, 0, 0, 0, 0, 0, 0, 0, 0, 0, 0, 0, 0, 0, 0, 0, 0, 0, 0, 0, 0, 0, 0, 0, 0, 0, 0, 0, 0, 0, 0, 0, 0, 0, 0, 0, 0, 0, 0, 0, 0, 0, 0, 0, 0, 0, 0, 0, 0, 0, 0, 0, 0, 0, 0, 0, 0, 0, 0, 0, 0, 1, 0, 0, 0, 0, 0, 0, 0, 0, 0, 0, 0, 0, 0, 0, 0, 0, 0, 0, 0, 0, 0, 0, 0, 0, 0, 0, 0, 0, 0, 0, 0, 0, 0, 0, 0, 0, 0, 0, 0, 0, 0, 0, 0, 0, 0, 0, 0, 0, 0, 0, 0, 0, 0, 0, 0, 0, 0, 0, 0, 0, 0, 0, 0, 0, 0, 0, 0, 0, 0, 0, 0, 0, 0, 0, 0, 0, 0, 0, 0, 0, 0, 0, 0, 0, 0, 0, 0, 0, 0, 0, 0, 0, 0, 0, 0, 0, 0, 0, 0, 0, 0, 0, 0, 0, 0, 0, 0, 0, 0, 0, 0, 0, 0, 0, 0, 0, 0, 0, 0, 0, 0, 0, 0, 0, 0, 0, 0, 0, 0, 0, 0, 0, 0, 0, 0, 0, 0, 0, 0, 0, 0, 0, 0, 0, 0, 0, 0, 0, 0, 0, 0, 0, 0, 0, 0, 0, 0, 0, 0, 0, 0, 0, 0, 0, 0, 0, 0, 0, 0, 0, 0, 0, 0, 0, 0, 0, 0, 0, 0, 0, 0, 0, 0, 0, 0, 0, 0, 0, 0, 0, 0, 0, 0, 0, 0, 0, 0, 0, 0, 0, 0, 0, 0, 0, 0, 0, 0, 0, 0, 0, 0, 0, 0, 0, 0, 0, 0, 0, 0, 0, 0, 0, 0, 0, 0, 0, 0, 0, 0, 0, 0, 0, 0, 0, 0, 0, 0, 0, 0, 0, 0, 0, 0, 0, 0, 0, 0, 0, 0, 0, 0, 0, 0, 1, 0, 0, 0, 0, 0, 0, 0, 0, 0, 0, 0, 0, 0, 0, 0, 0, 0, 0, 0, 0, 0, 0, 0, 0, 0, 0, 0, 0, 0, 0, 0, 0, 0, 0, 0, 0, 0, 0, 0, 0, 0, 0, 0, 0, 0, 0, 0, 0, 0, 0, 0, 0, 0, 0, 0, 0, 0, 0, 0, 0, 0, 0, 0, 0, 0, 0, 0, 0, 0, 0, 0, 0, 0, 0, 0, 0, 0, 0, 0, 0, 0, 0, 0, 0, 0, 0, 1, 0, 0, 0, 0, 0, 0, 0, 0, 0, 0, 0, 0, 0, 0, 0, 0, 0, 0, 0, 0, 0, 0, 0, 0, 0, 0, 0, 0, 0, 0, 0, 0, 0, 0, 0, 0, 0, 0, 0, 0, 0, 0, 0, 0, 0, 0, 0, 0, 0, 0, 0, 0, 0, 0, 0, 0, 0, 0, 0, 0, 0, 0, 0, 0, 0, 0, 0, 0, 0, 0, 0, 0, 0, 0, 0, 0, 0, 0, 0, 0, 0, 0, 0, 0, 0, 0, 0, 0, 0, 0, 0, 0, 0, 0, 0, 0, 0, 0, 0, 0, 0, 0, 0, 0, 0, 0, 0, 0, 0, 0, 0, 0, 0, 0, 0, 0, 0, 0, 0, 0, 0, 0, 0, 0, 0, 0, 0, 0, 0, 0, 0, 0, 0, 0, 0, 0, 0, 0, 0, 0, 0, 0, 0, 0, 0, 0, 0, 0, 0, 0, 0, 0, 0, 0, 0, 0, 0, 0, 0, 0, 0, 0, 0, 0, 0, 0, 0, 0, 0, 0, 0, 0, 0, 0, 0, 0, 0, 0, 0, 0, 0, 0, 0, 0, 0, 0, 0, 0, 0, 0, 0, 0, 0, 0, 0, 0, 0, 0, 0, 0, 0, 0, 0, 0, 0, 0, 0, 0, 0, 0, 0, 0, 0, 0, 0, 0, 0, 0, 0, 0, 0, 0, 0, 0, 0, 0, 0, 0, 0, 0, 0, 0, 0, 0, 0, 0, 0, 0, 0, 0, 0, 0, 0, 0, 0, 0, 0, 0, 0, 0, 0, 0, 1, 0, 0, 0, 0, 0, 0, 0, 0, 0, 0, 0, 0, 0, 0, 0, 0, 0, 0, 0, 0, 0, 0, 0, 0, 0, 0, 0, 0, 0, 0, 0, 0, 0, 0, 0, 0, 0, 0, 0, 0, 0, 0, 0, 0, 0, 0, 0, 0, 0, 0, 0, 0, 0, 0, 0, 1, 0, 0, 0, 0, 0, 0, 0, 0, 0, 0, 0, 0, 0, 0, 0, 0, 0, 0, 0, 0, 0, 0, 0, 0, 0, 0, 0, 0, 0, 0, 0, 0, 0, 0, 0, 0, 0, 0, 0, 0, 0, 0, 0, 0, 0, 0, 0, 0, 0, 0, 0, 0, 0, 0, 0, 0, 0, 0, 0, 0, 0, 0, 0, 0, 0, 0, 0, 0, 0, 0, 0, 0, 0, 0, 0, 0, 0, 0, 0, 0, 0, 0, 0, 0, 0, 0, 0, 0, 0, 0, 0, 0, 0, 0, 0, 0, 0, 0, 0, 0, 0, 0, 0, 0, 0, 0, 0, 0, 0, 0, 0, 0, 0, 0, 0, 0, 0, 0, 0, 0, 0, 0, 0, 0, 0, 0, 0, 0, 0, 0, 0, 0, 0, 0, 0, 0, 0, 0, 0, 0, 0, 0, 0, 0, 0, 0, 0, 0, 0, 0, 0, 0, 0, 0, 0, 0, 0, 0, 0, 0, 0, 0, 0, 0, 0, 0, 0, 0, 0, 0, 0, 0, 0, 0, 0, 0, 0, 0, 0, 0, 0, 0, 0, 0, 0, 0, 0, 0, 0, 0, 0, 0, 0, 0, 0, 0, 0, 0, 0, 0, 0, 0, 0, 0, 0, 0, 0, 0, 0, 0, 0, 0, 0, 0, 0, 0, 0, 0, 0, 0, 0, 0, 0, 0, 0, 0, 0, 0, 0, 0, 0, 0, 0, 0, 0, 0, 0, 0, 0, 0, 0, 0, 0, 0, 0, 0, 0, 0, 0, 0, 0, 0, 0, 0, 0, 0, 0, 0, 0, 0, 0, 0, 0, 0, 0, 0, 0, 0, 0, 0, 0, 0, 0, 0, 0, 0, 0, 0, 0, 0, 0, 0, 0, 0, 0, 0, 0, 0, 0, 0, 0, 0, 0, 0, 0, 0, 0, 0, 0, 0, 0, 0, 0, 0, 0, 0, 0, 0, 0, 0, 0, 0, 0, 0, 0, 0, 0, 0, 0, 0, 0, 0, 0, 0, 0, 0, 0, 0, 0, 0, 0, 0, 0, 0, 0, 0, 0, 0, 0, 0, 0, 0, 0, 0, 0, 0, 0, 0, 0, 0, 0, 0, 0, 0, 0, 0, 0, 0, 0, 0, 0, 0, 0, 0, 0, 0, 0, 0, 0, 0, 0, 0, 0, 0, 0, 0, 0, 0, 0, 0, 0, 0, 0, 0, 0, 0, 0, 0, 0, 0, 0, 0, 0, 0, 0, 0, 0, 0, 0, 0, 0, 0, 0, 0, 0, 0, 0, 0, 0, 0, 0, 0, 0, 0, 0, 0, 0, 0, 0, 0, 0, 0, 0, 0, 0, 0, 0, 0, 0, 0, 0, 0, 0, 0, 0, 0, 0, 0, 0, 0, 0, 0, 0, 0, 0, 0, 0, 0, 0, 0, 0, 0, 0, 0, 0, 0, 0, 0, 0, 0, 0, 0, 0, 0, 0, 0, 0, 0, 0, 0, 0, 0, 0, 0, 0, 0, 0, 0, 0, 0, 0, 0, 0, 0, 0, 0, 0, 0, 0, 0, 0, 0, 0, 0, 0, 0, 0, 0, 0, 0, 0, 0, 0, 0, 0, 0, 0, 0, 0, 0, 0, 0, 0, 0, 0, 0, 0, 0, 0, 0, 0, 0, 0, 0, 0, 0, 0, 0, 0, 0, 0, 0, 0, 0, 0, 0, 0, 0, 0, 0, 0, 0, 0, 0, 0, 0, 0, 0, 0, 0, 0, 0, 0, 0, 0, 0, 0, 0, 0, 0, 0, 0, 0, 0, 0, 0, 0, 0, 0, 0, 0, 0, 0, 0, 0, 0, 0, 0, 0, 0, 0, 0, 0, 0, 0, 0, 0, 0, 0, 0, 0, 0, 0, 0, 0, 0, 0, 0, 0, 0, 0, 0, 0, 0, 0, 0, 0, 0, 0, 0, 0, 0, 0, 0, 0, 0, 0, 0, 0, 0, 0, 0, 0, 0, 0, 0, 0, 0, 0, 0, 0, 0, 0, 0, 0, 0, 0, 0, 0, 0, 0, 0, 0, 0, 0, 0, 0, 0, 0, 0, 0, 0, 0, 0, 0, 0, 0, 0, 0, 0, 0, 0, 0, 0, 0, 0, 0, 0, 0, 0, 0, 0, 0, 0, 0, 0, 0, 0, 0, 0, 0, 1, 0, 0, 0, 0, 0, 0, 0, 0, 0, 0, 0, 0, 0, 0, 0, 0, 0, 0, 0, 0, 0, 0, 0, 0, 0, 0, 0, 0, 0, 0, 0, 0, 0, 0, 0, 0, 0, 0, 0, 0, 0, 0, 0, 0, 0, 0, 0, 0, 0, 0, 0, 0, 0, 0, 0, 0, 0, 0, 0, 0, 0, 0, 0, 0, 0, 0, 0, 0, 0, 0, 0, 0, 0, 0, 1, 0, 0, 0, 0, 0, 0, 0, 0, 0, 0, 0, 0, 0, 0, 0, 0, 0, 0, 0, 0, 1, 0, 0, 1, 0, 0, 0, 0, 0, 0, 0, 0, 0, 0, 0, 0, 0, 0, 0, 0, 0, 0, 0, 0, 0, 0, 0, 0, 0, 0, 0, 0, 0, 0, 0, 0, 0, 0, 0, 0, 0, 0, 0, 0, 0, 0, 0, 0, 0, 0, 0, 0, 0, 0, 0, 0, 0, 0, 0, 0, 0, 0, 0, 0, 0, 0, 0, 0, 0, 0, 0, 0, 0, 0, 0, 0, 0, 0, 0, 0, 0, 0, 0, 0, 0, 0, 0, 0, 0, 0, 0, 0, 0, 0, 0, 0, 0, 0, 0, 0, 0, 0, 0, 0, 0, 0, 0, 0, 0, 0, 0, 0, 0, 0, 0, 0, 0, 0, 0, 0, 0, 0, 0, 0, 0, 0, 0, 0, 0, 0, 0, 0, 0, 0, 0, 0, 0, 0, 0, 0, 0, 0, 0, 0, 0, 0, 0, 0, 0, 0, 0, 0, 0, 0, 0, 0, 0, 0, 0, 0, 0, 0, 0, 0, 0, 0, 0, 0, 0, 0, 0, 0, 0, 0, 0, 0, 0, 0, 0, 0, 0, 0, 0, 0, 0, 0, 0, 0, 0, 0, 0, 0, 0, 0, 0, 0, 0, 0, 0, 0, 0, 0, 0, 0, 0, 0, 0, 0, 0, 0, 0, 0, 0, 0, 0, 0, 0, 0, 0, 0, 0, 0, 0, 0, 0, 0, 0, 0, 0, 0, 0, 0, 0, 0, 0, 0, 0, 0, 0, 0, 0, 0, 0, 0, 0, 0, 0, 0, 0, 0, 0, 0, 0, 0, 0, 0, 0, 0, 0, 0, 0, 0, 0, 0, 0, 0, 0, 0, 0, 0, 0, 0, 0, 0, 0, 0, 0, 0, 0, 0, 0, 0, 0, 0, 0, 0, 0, 0, 0, 0, 0, 0, 0, 0, 0, 0, 0, 0, 0, 0, 0, 0, 0, 0, 0, 0, 0, 0, 0, 0, 0, 0, 0, 0, 0, 0, 0, 0, 0, 0, 0, 0, 0, 0, 0, 0, 0, 0, 0, 0, 0, 0, 0, 0, 0, 0, 0, 0, 0, 0, 0, 0, 0, 0, 0, 0, 0, 0, 0, 0, 0, 0, 0, 0, 0, 0, 0, 0, 0, 0, 0, 0, 0, 0, 0, 0, 0, 0, 0, 0, 0, 0, 0, 0, 0, 0, 0, 0, 0, 0, 0, 0, 0, 0, 0, 0, 0, 0, 0, 0, 0, 0, 0, 0, 0, 0, 0, 0, 0, 0, 0, 0, 0, 0, 0, 0, 0, 0, 0, 0, 0, 0, 0, 0, 0, 0, 0, 0, 0, 0, 0, 0, 0, 0, 0, 0, 0, 0, 0, 0, 0, 0, 0, 0, 0, 0, 0, 0, 0, 0, 0, 0, 0, 0, 0, 0, 0, 0, 0, 0, 0, 0, 0, 0, 0, 0, 0, 0, 0, 0, 0, 0, 0, 0, 0, 0, 0, 0, 0, 0, 1, 0, 0, 0, 0, 0, 0, 0, 0, 0, 0, 0, 0, 0, 0, 0, 0, 0, 0, 0, 0, 0, 0, 0, 0, 0, 0, 0, 0, 0, 0, 0, 0, 0, 0, 0, 0, 0, 0, 0, 0, 0, 0, 0, 0, 0, 0, 0, 0, 0, 0, 0, 0, 0, 0, 0, 0, 0, 0, 0, 0, 0, 0, 0, 0, 0, 0, 0, 0, 0, 0, 0, 0, 0, 0, 0, 0, 0, 0, 0, 0, 0, 0, 0, 0, 0, 0, 0, 0, 0, 0, 0, 0, 0, 0, 0, 0, 0, 0, 0, 0, 0, 0, 0, 0, 0, 0, 0, 0, 0, 0, 0, 0, 0, 0, 0, 0, 0, 0, 0, 0, 0, 0, 0, 0, 0, 0, 0, 0, 0, 0, 0, 0, 0, 0, 0, 0, 0, 0, 0, 0, 0, 0, 0, 0, 0, 0, 0, 0, 0, 0, 0, 0, 0, 0, 0, 0, 0, 0, 0, 0, 0, 0, 0, 0, 0, 0, 0, 0, 0, 0, 0, 0, 0, 0, 0, 0, 0, 0, 0, 0, 0, 0, 0, 0, 0, 0, 0, 0, 0, 0, 0, 0, 0, 0, 0, 0, 0, 0, 0, 0, 0, 0, 0, 0, 0, 0, 0, 0, 0, 0, 0, 0, 0, 0, 0, 0, 0, 0, 0, 0, 0, 0, 0, 0, 0, 0, 0, 0, 0, 0, 0, 0, 0, 0, 0, 0, 0, 0, 0, 0, 0, 0, 0, 0, 0, 0, 0, 0, 0, 0, 0, 0, 0, 0, 0, 0, 0, 0, 0, 0, 0, 0, 0, 0, 0, 0, 0, 0, 0, 0, 0, 0, 0, 0, 0, 0, 0, 0, 0, 0, 0, 0, 0, 0, 0, 0, 0, 0, 0, 0, 0, 0, 0, 0, 0, 0, 0, 0, 0, 0, 0, 0, 0, 0, 0, 0, 0, 0, 0, 0, 0, 0, 0, 0, 0, 0, 0, 0, 0, 0, 0, 0, 0, 0, 0, 0, 0, 0, 0, 0, 0, 0, 0, 0, 0, 0, 0, 0, 0, 0, 0, 0, 0, 0, 0, 0, 0, 0, 0, 0, 0, 0, 0, 0, 0, 0, 0, 0, 0, 0, 0, 0, 0, 0, 0, 0, 0, 0, 0, 0, 0, 0, 0, 0, 0, 0, 0, 0, 0, 0, 0, 0, 0, 0, 0, 0, 0, 0, 0, 0, 0, 0, 0, 0, 0, 0, 0, 0, 0, 0, 0, 0, 0, 0, 0, 0, 0, 0, 0, 0, 0, 0, 0, 0, 0, 0, 0, 0, 0, 0, 0, 0, 0, 0, 0, 0, 0, 0, 0, 0, 0, 0, 0, 0, 0, 0, 0, 0, 0, 0, 0, 0, 0, 0, 0, 0, 0, 0, 0, 0, 0, 0, 0, 0, 0, 0, 0, 0, 0, 0, 0, 0, 0, 0, 0, 0, 0, 0, 0, 0, 0, 0, 0, 0, 0, 0, 0, 0, 0, 0, 0, 0, 0, 0, 0, 0, 0, 0, 0, 0, 0, 0, 0, 0, 0, 0, 0, 0, 0, 0, 0, 0, 0, 0, 0, 0, 0, 0, 0, 0, 0, 0, 1, 0, 0, 0, 0, 0, 0, 0, 0, 0, 0, 0, 0, 0, 0, 0, 0, 0, 0, 0, 0, 0, 0, 0, 0, 0, 0, 0, 0, 0, 0, 0, 0, 0, 0, 0, 2, 0, 0, 0, 0, 0, 0, 0, 0, 0, 0, 0, 0, 0, 0, 0, 0, 0, 0, 0, 0, 0, 0, 0, 0, 0, 0, 0, 0, 0, 0, 0, 0, 0, 0, 0, 0, 0, 0, 0, 0, 1, 0, 0, 0, 0, 0, 0, 0, 0, 0, 0, 0, 0, 0, 0, 0, 0, 0, 0, 0, 0, 0, 0, 0, 0, 0, 0, 0, 0, 0, 0, 0, 0, 0, 0, 0, 0, 0, 0, 0, 0, 0, 0, 0, 0, 0, 0, 0, 0, 0, 0, 0, 0, 0, 0, 0, 0, 0, 0, 0, 0, 0, 0, 0, 0, 0, 0, 0, 0, 0, 0, 0, 0, 0, 0, 0, 0, 0, 0, 0, 0, 0, 0, 0, 0, 0, 0, 0, 0, 0, 0, 0, 0, 0, 0, 0, 0, 0, 0, 0, 0, 0, 0, 0, 0, 0, 0, 0, 0, 0, 0, 0, 0, 0, 0, 0, 0, 0, 0, 0, 0, 0, 0, 0, 0, 0, 0, 0, 0, 0, 0, 0, 0, 0, 0, 0, 0, 0, 0, 0, 0, 0, 0, 0, 0, 0, 0, 0, 0, 0, 0, 0, 0, 0, 0, 0, 0, 0, 0, 0, 0, 0, 0, 0, 0, 0, 0, 0, 0, 0, 0, 0, 0, 0, 0, 0, 0, 0, 0, 0, 0, 0, 0, 0, 0, 0, 0, 0, 0, 0, 0, 0, 0, 0, 0, 0, 0, 0, 0, 0, 0, 0, 0, 0, 0, 0, 0, 0, 0, 0, 0, 0, 0, 0, 0, 0, 0, 0, 0, 0, 0, 0, 0, 0, 0, 0, 0, 0, 0, 0, 0, 0, 0, 0, 0, 0, 0, 0, 0, 0, 0, 0, 0, 0, 0, 0, 0, 0, 0, 0, 0, 0, 0, 0, 0, 0, 0, 0, 0, 0, 0, 0, 0, 0, 0, 0, 0, 0, 0, 0, 0, 0, 0, 0, 0, 0, 0, 0, 0, 0, 0, 0, 0, 0, 0, 0, 0, 0, 0, 0, 0, 0, 0, 0, 0, 0, 0, 0, 0, 0, 0, 0, 0, 0, 0, 0, 0, 0, 0, 0, 0, 0, 0, 0, 0, 0, 0, 0, 0, 0, 0, 0, 0, 0, 0, 0, 0, 0, 0, 0, 0, 0, 0, 0, 0, 0, 0, 0, 0, 0, 0, 0, 0, 0, 0, 0, 0, 0, 0, 0, 0, 0, 0, 0, 0, 0, 0, 0, 0, 0, 0, 0, 0, 0, 0, 0, 0, 0, 0, 0, 0, 0, 0, 0, 0, 0, 0, 0, 0, 0, 0, 0, 0, 0, 0, 0, 0, 0, 0, 0, 0, 0, 0, 0, 0, 0, 0, 0, 0, 0, 0, 0, 0, 0, 0, 0, 0, 0, 0, 0, 0, 0, 0, 0, 0, 0, 0, 0, 0, 0, 0, 0, 0, 0, 0, 0, 0, 0, 0, 0, 0, 0, 0, 0, 0, 0, 0, 0, 0, 0, 0, 0, 0, 0, 0, 0, 0, 0, 0, 0, 0, 0, 0, 0, 0, 0, 0, 0, 0, 0, 0, 0, 0, 0, 0, 0, 0, 0, 0, 0, 0, 0, 0, 0, 0, 0, 0, 0, 0, 0, 0, 0, 0, 0, 0, 0, 0, 0, 0, 0, 0, 0, 0, 0, 0, 0, 0, 0, 1, 0, 0, 0, 0, 0, 0, 0, 0, 0, 0, 0, 0, 0, 0, 0, 0, 0, 0, 0, 0, 0, 0, 0, 0, 0, 0, 0, 0, 0, 0, 0, 0, 0, 0, 0, 0, 0, 0, 0, 0, 0, 0, 0, 0, 0, 0, 0, 0, 0, 0, 0, 0, 0, 0, 0, 0, 0, 0, 0, 0, 0, 0, 0, 0, 0, 0, 0, 0, 0, 0, 0, 0, 0, 0, 0, 0, 0, 0, 0, 0, 0, 0, 0, 0, 0, 0, 0, 0, 0, 0, 0, 0, 0, 0, 0, 0, 0, 0, 0, 0, 0, 0, 0, 0, 0, 0, 0, 0, 0, 0, 2, 0, 0, 0, 0, 0, 0, 0, 0, 0, 0, 0, 0, 0, 0, 0, 0, 0, 0, 0, 0, 0, 0, 0, 0, 0, 0, 0, 0, 0, 0, 0, 0, 0, 0, 0, 0, 0, 0, 0, 0, 0, 0, 0, 0, 0, 0, 0, 0, 0, 0, 0, 0, 0, 0, 0, 0, 0, 0, 0, 0, 0, 0, 0, 0, 0, 0, 0, 0, 0, 0, 0, 0, 0, 0, 0, 0, 0, 0, 0, 0, 0, 0, 0, 0, 0, 0, 0, 0, 0, 0, 0, 0, 0, 0, 0, 0, 0, 0, 0, 0, 0, 0, 0, 0, 0, 0, 0, 0, 0, 0, 0, 0, 0, 0, 0, 0, 0, 0, 0, 0, 0, 0, 0, 0, 0, 0, 0, 0, 0, 0, 0, 0, 0, 0, 0, 0, 0, 0, 0, 0, 0, 0, 0, 0, 0, 0, 0, 0, 0, 0, 0, 0, 0, 0, 0, 0, 0, 0, 0, 0, 0, 0, 0, 0, 0, 0, 0, 0, 0, 0, 0, 0, 0, 0, 0, 0, 0, 0, 0, 0, 0, 0, 0, 0, 0, 0, 0, 0, 0, 0, 0, 0, 0, 0, 0, 0, 0, 0, 0, 0, 0, 0, 0, 0, 0, 0, 0, 0, 0, 0, 0, 0, 0, 0, 0, 0, 0, 0, 0, 0, 0, 0, 0, 0, 0, 0, 0, 0, 0, 0, 0, 0, 0, 0, 0, 0, 0, 0, 0, 0, 0, 0, 0, 0, 0, 0, 0, 0, 0, 0, 0, 0, 0, 0, 0, 0, 0, 0, 0, 0, 0, 0, 0, 0, 0, 0, 0, 0, 0, 0, 0, 0, 0, 0, 0, 0, 0, 0, 0, 0, 0, 0, 0, 0, 0, 0, 0, 0, 0, 0, 0, 0, 0, 0, 0, 0, 0, 0, 0, 0, 0, 0, 0, 0, 0, 0, 0, 0, 0, 0, 0, 0, 0, 0, 0, 0, 0, 0, 0, 0, 0, 0, 0, 0, 0, 0, 0, 0, 0, 0, 0, 0, 0, 0, 0, 0, 0, 0, 0, 0, 0, 0, 0, 0, 0, 0, 0, 0, 0, 0, 0, 0, 0, 0, 0, 0, 0, 0, 0, 0, 0, 0, 0, 0, 0, 0, 0, 0, 0, 0, 0, 0, 0, 0, 0, 0, 0, 0, 0, 0, 0, 0, 0, 0, 0, 0, 0, 0, 0, 0, 0, 0, 0, 0, 0, 0, 0, 0, 0, 0, 0, 0, 0, 0, 0, 0, 0, 0, 0, 0, 0, 0, 0, 0, 0, 0, 0, 0, 0, 0, 0, 0, 0, 0, 0, 0, 0, 0, 0, 0, 0, 0, 0, 0, 0, 0, 0, 0, 0, 0, 0, 0, 0, 0, 0, 0, 0, 0, 0, 0, 0, 0, 0, 0, 0, 0, 0, 0, 0, 0, 0, 0, 0, 0, 0, 0, 0, 0, 0, 0, 0, 0, 0, 0, 0, 0, 0, 0, 0, 0, 0, 0, 0, 0, 0, 0, 0, 0, 0, 0, 0, 0, 0, 0, 0, 0, 0, 0, 0, 0, 0, 0, 0, 0, 0, 0, 0, 0, 0, 0, 0, 0, 0, 0, 0, 0, 0, 0, 0, 0, 0, 0, 0, 0, 0, 0, 0, 0, 0, 0, 0, 0, 0, 0, 0, 0, 0, 0, 0, 0, 0, 0, 0, 0, 0, 0, 0, 0, 0, 0, 0, 0, 0, 0, 0, 0, 0, 0, 0, 0, 0, 0, 0, 0, 0, 0, 0, 0, 0, 0, 0, 0, 0, 0, 0, 0, 0, 0, 0, 0, 0, 0, 0, 0, 0, 0, 0, 0, 0, 0, 0, 0, 0, 0, 0, 0, 0, 0, 0, 0, 0, 0, 0, 0, 0, 0, 0, 0, 0, 0, 0, 0, 0, 0, 0, 0, 0, 0, 0, 0, 0, 0, 0, 0, 0, 0, 0, 0, 0, 0, 0, 0, 0, 0, 0, 0, 0, 0, 0, 0, 0, 0, 0, 0, 0, 0, 0, 0, 0, 0, 0, 0, 0, 0, 0, 0, 0, 0, 0, 0, 0, 0, 0, 0, 0, 0, 0, 0, 0, 0, 0, 0, 0, 0, 0, 0, 0, 0, 0, 0, 0, 0, 0, 0, 0, 0, 0, 0, 0, 0, 1, 0, 0, 0, 0, 0, 0, 0, 0, 0, 0, 0, 0, 0, 0, 0, 0, 0, 0, 0, 0, 0, 0, 0, 0, 0, 0, 0, 0, 0, 0, 0, 0, 0, 0, 0, 0, 0, 0, 0, 0, 0, 0, 0, 0, 0, 0, 0, 0, 0, 0, 0, 0, 0, 0, 0, 0, 0, 0, 0, 0, 0, 0, 0, 0, 0, 0, 0, 0, 0, 0, 0, 0, 0, 0, 0, 0, 0, 0, 0, 0, 0, 0, 0, 0, 0, 0, 0, 0, 0, 0, 0, 0, 0, 0, 0, 0, 0, 0, 0, 0, 0, 0, 0, 0, 0, 0, 0, 1, 0, 0, 0, 0, 0, 0, 0, 0, 0, 0, 0, 0, 0, 0, 0, 0, 0, 0, 0, 0, 0, 0, 0, 0, 0, 0, 0, 0, 0, 0, 0, 0, 0, 0, 0, 0, 0, 0, 0, 0, 0, 0, 0, 0, 0, 0, 0, 0, 0, 0, 0, 0, 0, 0, 0, 0, 0, 0, 0, 0, 0, 0, 0, 0, 0, 0, 0, 0, 0, 0, 0, 0, 0, 0, 0, 0, 0, 0, 0, 0, 0, 0, 0, 0, 0, 0, 0, 0, 0, 0, 0, 0, 0, 0, 0, 0, 0, 0, 0, 0, 0, 0, 0, 0, 0, 0, 0, 0, 0, 0, 0, 0, 0, 0, 0, 0, 0, 0, 0, 0, 0, 0, 0, 0, 0, 0, 0, 0, 0, 0, 0, 0, 0, 0, 0, 0, 0, 0, 0, 0, 0, 0, 0, 0, 0, 0, 0, 0, 0, 0, 0, 0, 0, 0, 0, 0, 0, 0, 0, 0, 0, 0, 0, 0, 0, 0, 0, 0, 0, 0, 0, 0, 0, 0, 0, 0, 0, 0, 0, 0, 0, 0, 0, 0, 0, 0, 0, 0, 0, 0, 0, 0, 0, 0, 0, 0, 0, 0, 0, 0, 0, 0, 0, 0, 0, 0, 0, 0, 0, 0, 0, 0, 0, 0, 0, 0, 0, 0, 0, 0, 0, 0, 0, 0, 0, 0, 0, 0, 0, 0, 0, 0, 0, 0, 0, 0, 0, 0, 0, 0, 0, 0, 0, 0, 0, 0, 0, 0, 0, 0, 0, 0, 0, 0, 0, 0, 0, 0, 0, 0, 0, 0, 0, 0, 0, 0, 0, 0, 0, 0, 0, 0, 0, 0, 0, 0, 0, 0, 0, 0, 0, 0, 0, 0, 0, 0, 0, 0, 0, 0, 0, 0, 0, 0, 0, 0, 0, 0, 0, 0, 0, 0, 0, 0, 0, 0, 0, 0, 0, 0, 0, 0, 0, 0, 0, 0, 0, 0, 0, 0, 0, 0, 0, 0, 0, 0, 0, 0, 0, 0, 0, 0, 0, 0, 0, 0, 0, 0, 0, 0, 0, 0, 0, 0, 0, 0, 0, 0, 0, 0, 0, 0, 0, 0, 0, 0, 0, 0, 0, 0, 0, 0, 0, 0, 0, 0, 0, 0, 0, 0, 0, 0, 0, 0, 0, 0, 0, 0, 0, 0, 0, 0, 0, 0, 0, 0, 0, 0, 0, 0, 0, 0, 0, 0, 0, 0, 0, 0, 0, 0, 0, 0, 0, 0, 0, 0, 0, 0, 0, 0, 0, 0, 0, 0, 0, 0, 0, 0, 0, 0, 0, 0, 0, 0, 0, 0, 0, 0, 0, 0, 0, 0, 0, 0, 0, 0, 0, 0, 0, 0, 0, 0, 0, 0, 0, 0, 0, 0, 0, 0, 0, 0, 0, 0, 0, 0, 0, 0, 0, 0, 0, 0, 0, 2, 0, 1, 0], type: <class 'list'>, valid types: <class 'bytes'>, <class 'bytearray'>, file-like object",
     "output_type": "error",
     "traceback": [
      "\u001b[0;31m---------------------------------------------------------------------------\u001b[0m",
      "\u001b[0;31mParamValidationError\u001b[0m                      Traceback (most recent call last)",
      "\u001b[0;32m<ipython-input-44-c9ab54ae3a48>\u001b[0m in \u001b[0;36m<module>\u001b[0;34m()\u001b[0m\n\u001b[1;32m      1\u001b[0m response = runtime.invoke_endpoint(EndpointName = xgb_predictor.endpoint, # The name of the endpoint we created\n\u001b[1;32m      2\u001b[0m                                        \u001b[0mContentType\u001b[0m \u001b[0;34m=\u001b[0m \u001b[0;34m'text/csv'\u001b[0m\u001b[0;34m,\u001b[0m                     \u001b[0;31m# The data format that is expected\u001b[0m\u001b[0;34m\u001b[0m\u001b[0m\n\u001b[0;32m----> 3\u001b[0;31m                                        Body = test_bow)\n\u001b[0m",
      "\u001b[0;32m~/anaconda3/envs/python3/lib/python3.6/site-packages/botocore/client.py\u001b[0m in \u001b[0;36m_api_call\u001b[0;34m(self, *args, **kwargs)\u001b[0m\n\u001b[1;32m    355\u001b[0m                     \"%s() only accepts keyword arguments.\" % py_operation_name)\n\u001b[1;32m    356\u001b[0m             \u001b[0;31m# The \"self\" in this scope is referring to the BaseClient.\u001b[0m\u001b[0;34m\u001b[0m\u001b[0;34m\u001b[0m\u001b[0m\n\u001b[0;32m--> 357\u001b[0;31m             \u001b[0;32mreturn\u001b[0m \u001b[0mself\u001b[0m\u001b[0;34m.\u001b[0m\u001b[0m_make_api_call\u001b[0m\u001b[0;34m(\u001b[0m\u001b[0moperation_name\u001b[0m\u001b[0;34m,\u001b[0m \u001b[0mkwargs\u001b[0m\u001b[0;34m)\u001b[0m\u001b[0;34m\u001b[0m\u001b[0m\n\u001b[0m\u001b[1;32m    358\u001b[0m \u001b[0;34m\u001b[0m\u001b[0m\n\u001b[1;32m    359\u001b[0m         \u001b[0m_api_call\u001b[0m\u001b[0;34m.\u001b[0m\u001b[0m__name__\u001b[0m \u001b[0;34m=\u001b[0m \u001b[0mstr\u001b[0m\u001b[0;34m(\u001b[0m\u001b[0mpy_operation_name\u001b[0m\u001b[0;34m)\u001b[0m\u001b[0;34m\u001b[0m\u001b[0m\n",
      "\u001b[0;32m~/anaconda3/envs/python3/lib/python3.6/site-packages/botocore/client.py\u001b[0m in \u001b[0;36m_make_api_call\u001b[0;34m(self, operation_name, api_params)\u001b[0m\n\u001b[1;32m    632\u001b[0m         }\n\u001b[1;32m    633\u001b[0m         request_dict = self._convert_to_request_dict(\n\u001b[0;32m--> 634\u001b[0;31m             api_params, operation_model, context=request_context)\n\u001b[0m\u001b[1;32m    635\u001b[0m \u001b[0;34m\u001b[0m\u001b[0m\n\u001b[1;32m    636\u001b[0m         \u001b[0mservice_id\u001b[0m \u001b[0;34m=\u001b[0m \u001b[0mself\u001b[0m\u001b[0;34m.\u001b[0m\u001b[0m_service_model\u001b[0m\u001b[0;34m.\u001b[0m\u001b[0mservice_id\u001b[0m\u001b[0;34m.\u001b[0m\u001b[0mhyphenize\u001b[0m\u001b[0;34m(\u001b[0m\u001b[0;34m)\u001b[0m\u001b[0;34m\u001b[0m\u001b[0m\n",
      "\u001b[0;32m~/anaconda3/envs/python3/lib/python3.6/site-packages/botocore/client.py\u001b[0m in \u001b[0;36m_convert_to_request_dict\u001b[0;34m(self, api_params, operation_model, context)\u001b[0m\n\u001b[1;32m    680\u001b[0m             api_params, operation_model, context)\n\u001b[1;32m    681\u001b[0m         request_dict = self._serializer.serialize_to_request(\n\u001b[0;32m--> 682\u001b[0;31m             api_params, operation_model)\n\u001b[0m\u001b[1;32m    683\u001b[0m         \u001b[0;32mif\u001b[0m \u001b[0;32mnot\u001b[0m \u001b[0mself\u001b[0m\u001b[0;34m.\u001b[0m\u001b[0m_client_config\u001b[0m\u001b[0;34m.\u001b[0m\u001b[0minject_host_prefix\u001b[0m\u001b[0;34m:\u001b[0m\u001b[0;34m\u001b[0m\u001b[0m\n\u001b[1;32m    684\u001b[0m             \u001b[0mrequest_dict\u001b[0m\u001b[0;34m.\u001b[0m\u001b[0mpop\u001b[0m\u001b[0;34m(\u001b[0m\u001b[0;34m'host_prefix'\u001b[0m\u001b[0;34m,\u001b[0m \u001b[0;32mNone\u001b[0m\u001b[0;34m)\u001b[0m\u001b[0;34m\u001b[0m\u001b[0m\n",
      "\u001b[0;32m~/anaconda3/envs/python3/lib/python3.6/site-packages/botocore/validate.py\u001b[0m in \u001b[0;36mserialize_to_request\u001b[0;34m(self, parameters, operation_model)\u001b[0m\n\u001b[1;32m    295\u001b[0m                                                     operation_model.input_shape)\n\u001b[1;32m    296\u001b[0m             \u001b[0;32mif\u001b[0m \u001b[0mreport\u001b[0m\u001b[0;34m.\u001b[0m\u001b[0mhas_errors\u001b[0m\u001b[0;34m(\u001b[0m\u001b[0;34m)\u001b[0m\u001b[0;34m:\u001b[0m\u001b[0;34m\u001b[0m\u001b[0m\n\u001b[0;32m--> 297\u001b[0;31m                 \u001b[0;32mraise\u001b[0m \u001b[0mParamValidationError\u001b[0m\u001b[0;34m(\u001b[0m\u001b[0mreport\u001b[0m\u001b[0;34m=\u001b[0m\u001b[0mreport\u001b[0m\u001b[0;34m.\u001b[0m\u001b[0mgenerate_report\u001b[0m\u001b[0;34m(\u001b[0m\u001b[0;34m)\u001b[0m\u001b[0;34m)\u001b[0m\u001b[0;34m\u001b[0m\u001b[0m\n\u001b[0m\u001b[1;32m    298\u001b[0m         return self._serializer.serialize_to_request(parameters,\n\u001b[1;32m    299\u001b[0m                                                      operation_model)\n",
      "\u001b[0;31mParamValidationError\u001b[0m: Parameter validation failed:\nInvalid type for parameter Body, value: [0, 0, 0, 0, 0, 0, 0, 0, 0, 0, 0, 0, 0, 0, 0, 0, 0, 0, 0, 0, 0, 0, 0, 0, 0, 0, 0, 0, 0, 0, 0, 0, 0, 0, 0, 0, 0, 0, 0, 0, 0, 0, 0, 0, 0, 0, 0, 0, 0, 0, 0, 0, 0, 0, 0, 0, 0, 0, 0, 0, 0, 0, 0, 0, 0, 0, 0, 0, 0, 0, 0, 0, 0, 0, 0, 0, 0, 0, 0, 0, 0, 0, 0, 0, 0, 0, 0, 0, 0, 0, 0, 0, 0, 0, 0, 0, 0, 0, 0, 0, 0, 0, 0, 0, 0, 0, 0, 0, 0, 0, 0, 0, 0, 0, 0, 0, 0, 0, 0, 0, 0, 0, 0, 0, 0, 0, 0, 0, 0, 0, 0, 0, 0, 0, 0, 0, 0, 0, 0, 0, 0, 0, 0, 0, 0, 0, 0, 0, 0, 0, 0, 0, 0, 0, 0, 0, 0, 0, 0, 0, 0, 0, 0, 0, 0, 0, 0, 0, 0, 0, 0, 0, 0, 0, 0, 0, 0, 0, 0, 0, 0, 0, 0, 0, 0, 0, 0, 0, 0, 0, 0, 0, 0, 0, 0, 0, 0, 0, 0, 0, 0, 0, 0, 0, 0, 0, 0, 0, 0, 0, 0, 0, 0, 0, 0, 0, 0, 0, 0, 0, 0, 0, 0, 0, 0, 0, 1, 0, 0, 0, 0, 0, 0, 0, 0, 0, 0, 0, 0, 0, 0, 0, 0, 0, 0, 0, 0, 0, 0, 0, 0, 0, 0, 0, 0, 0, 1, 0, 0, 0, 0, 0, 0, 0, 0, 0, 0, 0, 0, 0, 0, 0, 0, 0, 0, 0, 0, 0, 0, 0, 0, 0, 0, 0, 0, 0, 0, 0, 0, 0, 0, 0, 0, 0, 0, 0, 0, 0, 0, 0, 0, 0, 0, 0, 0, 0, 0, 0, 0, 0, 0, 0, 0, 0, 0, 0, 0, 0, 0, 0, 0, 0, 0, 0, 0, 0, 0, 0, 0, 0, 0, 0, 0, 0, 0, 0, 0, 0, 0, 0, 0, 0, 0, 0, 0, 0, 0, 0, 0, 0, 0, 0, 0, 0, 0, 0, 0, 0, 0, 0, 0, 0, 0, 0, 0, 0, 0, 0, 0, 0, 0, 0, 0, 0, 0, 0, 0, 0, 0, 0, 0, 0, 0, 0, 0, 0, 0, 0, 0, 0, 0, 0, 0, 0, 0, 0, 0, 0, 0, 0, 0, 0, 0, 0, 0, 0, 0, 0, 0, 0, 0, 0, 0, 0, 0, 0, 0, 0, 0, 0, 0, 0, 0, 0, 0, 0, 0, 0, 0, 0, 0, 0, 0, 0, 0, 0, 0, 0, 0, 0, 0, 0, 0, 0, 0, 0, 0, 0, 0, 0, 0, 0, 0, 0, 0, 0, 0, 0, 0, 0, 0, 0, 0, 0, 0, 0, 0, 0, 0, 0, 0, 0, 0, 0, 0, 0, 0, 0, 0, 0, 0, 0, 0, 0, 0, 0, 0, 0, 0, 0, 0, 0, 0, 0, 0, 0, 0, 0, 0, 0, 0, 0, 0, 0, 0, 0, 0, 0, 0, 0, 0, 0, 0, 0, 0, 0, 0, 0, 0, 0, 0, 0, 0, 0, 0, 0, 0, 0, 0, 0, 0, 0, 0, 0, 0, 0, 0, 0, 0, 0, 0, 0, 0, 0, 0, 0, 0, 0, 0, 0, 0, 0, 0, 0, 0, 0, 0, 0, 0, 0, 0, 0, 0, 0, 0, 0, 0, 0, 0, 0, 0, 0, 0, 0, 0, 0, 0, 0, 0, 0, 0, 0, 0, 0, 0, 0, 0, 0, 0, 0, 0, 0, 0, 0, 0, 0, 0, 0, 0, 0, 0, 0, 0, 0, 0, 0, 0, 0, 0, 0, 0, 0, 0, 0, 0, 0, 0, 0, 0, 0, 0, 0, 0, 0, 0, 0, 0, 0, 0, 0, 0, 0, 0, 0, 0, 0, 1, 0, 0, 0, 0, 0, 0, 0, 0, 0, 0, 0, 0, 0, 0, 0, 0, 0, 0, 0, 0, 0, 0, 0, 0, 0, 0, 0, 0, 0, 0, 0, 0, 0, 0, 0, 0, 0, 0, 0, 0, 0, 0, 0, 0, 0, 0, 0, 0, 0, 0, 0, 0, 0, 0, 0, 0, 0, 0, 0, 0, 0, 0, 0, 0, 0, 0, 0, 0, 0, 0, 0, 0, 0, 0, 0, 0, 0, 0, 0, 0, 0, 0, 0, 0, 0, 0, 0, 0, 0, 0, 0, 0, 0, 0, 0, 0, 0, 0, 0, 0, 0, 0, 0, 0, 0, 0, 0, 0, 0, 0, 0, 0, 0, 0, 0, 0, 0, 0, 0, 0, 0, 0, 0, 0, 0, 0, 0, 0, 0, 0, 0, 0, 0, 0, 0, 0, 0, 0, 0, 0, 0, 0, 0, 0, 0, 0, 0, 0, 0, 0, 0, 0, 0, 0, 0, 0, 0, 0, 0, 0, 0, 0, 0, 0, 0, 0, 0, 0, 0, 0, 0, 0, 0, 0, 0, 0, 0, 0, 0, 0, 0, 0, 0, 0, 0, 0, 0, 0, 0, 0, 0, 0, 0, 0, 0, 0, 0, 0, 0, 0, 0, 0, 0, 0, 0, 0, 0, 0, 0, 0, 0, 0, 0, 0, 0, 0, 0, 0, 0, 0, 0, 0, 0, 0, 0, 0, 0, 0, 0, 0, 0, 0, 0, 0, 0, 0, 0, 0, 0, 0, 0, 0, 0, 0, 0, 0, 0, 0, 0, 0, 0, 0, 0, 1, 0, 0, 0, 0, 0, 0, 0, 0, 0, 0, 0, 0, 0, 0, 0, 0, 0, 0, 0, 0, 0, 0, 0, 0, 0, 0, 0, 0, 0, 0, 0, 0, 0, 0, 0, 0, 0, 0, 0, 0, 0, 0, 0, 0, 0, 0, 0, 0, 0, 0, 0, 0, 0, 0, 0, 0, 0, 0, 0, 0, 0, 0, 0, 0, 0, 0, 0, 0, 0, 0, 0, 0, 0, 0, 0, 0, 0, 0, 0, 0, 0, 0, 0, 0, 0, 0, 1, 0, 0, 0, 0, 0, 0, 0, 0, 0, 0, 0, 0, 0, 0, 0, 0, 0, 0, 0, 0, 0, 0, 0, 0, 0, 0, 0, 0, 0, 0, 0, 0, 0, 0, 0, 0, 0, 0, 0, 0, 0, 0, 0, 0, 0, 0, 0, 0, 0, 0, 0, 0, 0, 0, 0, 0, 0, 0, 0, 0, 0, 0, 0, 0, 0, 0, 0, 0, 0, 0, 0, 0, 0, 0, 0, 0, 0, 0, 0, 0, 0, 0, 0, 0, 0, 0, 0, 0, 0, 0, 0, 0, 0, 0, 0, 0, 0, 0, 0, 0, 0, 0, 0, 0, 0, 0, 0, 0, 0, 0, 0, 0, 0, 0, 0, 0, 0, 0, 0, 0, 0, 0, 0, 0, 0, 0, 0, 0, 0, 0, 0, 0, 0, 0, 0, 0, 0, 0, 0, 0, 0, 0, 0, 0, 0, 0, 0, 0, 0, 0, 0, 0, 0, 0, 0, 0, 0, 0, 0, 0, 0, 0, 0, 0, 0, 0, 0, 0, 0, 0, 0, 0, 0, 0, 0, 0, 0, 0, 0, 0, 0, 0, 0, 0, 0, 0, 0, 0, 0, 0, 0, 0, 0, 0, 0, 0, 0, 0, 0, 0, 0, 0, 0, 0, 0, 0, 0, 0, 0, 0, 0, 0, 0, 0, 0, 0, 0, 0, 0, 0, 0, 0, 0, 0, 0, 0, 0, 0, 0, 0, 0, 0, 0, 0, 0, 0, 0, 0, 0, 0, 0, 0, 0, 0, 0, 0, 0, 0, 0, 0, 0, 0, 1, 0, 0, 0, 0, 0, 0, 0, 0, 0, 0, 0, 0, 0, 0, 0, 0, 0, 0, 0, 0, 0, 0, 0, 0, 0, 0, 0, 0, 0, 0, 0, 0, 0, 0, 0, 0, 0, 0, 0, 0, 0, 0, 0, 0, 0, 0, 0, 0, 0, 0, 0, 0, 0, 0, 0, 1, 0, 0, 0, 0, 0, 0, 0, 0, 0, 0, 0, 0, 0, 0, 0, 0, 0, 0, 0, 0, 0, 0, 0, 0, 0, 0, 0, 0, 0, 0, 0, 0, 0, 0, 0, 0, 0, 0, 0, 0, 0, 0, 0, 0, 0, 0, 0, 0, 0, 0, 0, 0, 0, 0, 0, 0, 0, 0, 0, 0, 0, 0, 0, 0, 0, 0, 0, 0, 0, 0, 0, 0, 0, 0, 0, 0, 0, 0, 0, 0, 0, 0, 0, 0, 0, 0, 0, 0, 0, 0, 0, 0, 0, 0, 0, 0, 0, 0, 0, 0, 0, 0, 0, 0, 0, 0, 0, 0, 0, 0, 0, 0, 0, 0, 0, 0, 0, 0, 0, 0, 0, 0, 0, 0, 0, 0, 0, 0, 0, 0, 0, 0, 0, 0, 0, 0, 0, 0, 0, 0, 0, 0, 0, 0, 0, 0, 0, 0, 0, 0, 0, 0, 0, 0, 0, 0, 0, 0, 0, 0, 0, 0, 0, 0, 0, 0, 0, 0, 0, 0, 0, 0, 0, 0, 0, 0, 0, 0, 0, 0, 0, 0, 0, 0, 0, 0, 0, 0, 0, 0, 0, 0, 0, 0, 0, 0, 0, 0, 0, 0, 0, 0, 0, 0, 0, 0, 0, 0, 0, 0, 0, 0, 0, 0, 0, 0, 0, 0, 0, 0, 0, 0, 0, 0, 0, 0, 0, 0, 0, 0, 0, 0, 0, 0, 0, 0, 0, 0, 0, 0, 0, 0, 0, 0, 0, 0, 0, 0, 0, 0, 0, 0, 0, 0, 0, 0, 0, 0, 0, 0, 0, 0, 0, 0, 0, 0, 0, 0, 0, 0, 0, 0, 0, 0, 0, 0, 0, 0, 0, 0, 0, 0, 0, 0, 0, 0, 0, 0, 0, 0, 0, 0, 0, 0, 0, 0, 0, 0, 0, 0, 0, 0, 0, 0, 0, 0, 0, 0, 0, 0, 0, 0, 0, 0, 0, 0, 0, 0, 0, 0, 0, 0, 0, 0, 0, 0, 0, 0, 0, 0, 0, 0, 0, 0, 0, 0, 0, 0, 0, 0, 0, 0, 0, 0, 0, 0, 0, 0, 0, 0, 0, 0, 0, 0, 0, 0, 0, 0, 0, 0, 0, 0, 0, 0, 0, 0, 0, 0, 0, 0, 0, 0, 0, 0, 0, 0, 0, 0, 0, 0, 0, 0, 0, 0, 0, 0, 0, 0, 0, 0, 0, 0, 0, 0, 0, 0, 0, 0, 0, 0, 0, 0, 0, 0, 0, 0, 0, 0, 0, 0, 0, 0, 0, 0, 0, 0, 0, 0, 0, 0, 0, 0, 0, 0, 0, 0, 0, 0, 0, 0, 0, 0, 0, 0, 0, 0, 0, 0, 0, 0, 0, 0, 0, 0, 0, 0, 0, 0, 0, 0, 0, 0, 0, 0, 0, 0, 0, 0, 0, 0, 0, 0, 0, 0, 0, 0, 0, 0, 0, 0, 0, 0, 0, 0, 0, 0, 0, 0, 0, 0, 0, 0, 0, 0, 0, 0, 0, 0, 0, 0, 0, 0, 0, 0, 0, 0, 0, 0, 0, 0, 0, 0, 0, 0, 0, 0, 0, 0, 0, 0, 0, 0, 0, 0, 0, 0, 0, 0, 0, 0, 0, 0, 0, 0, 0, 0, 0, 0, 0, 0, 0, 0, 0, 0, 0, 0, 0, 0, 0, 0, 0, 0, 0, 0, 0, 0, 0, 0, 0, 0, 0, 0, 0, 0, 0, 0, 0, 0, 0, 0, 0, 0, 0, 0, 0, 0, 0, 0, 0, 0, 0, 0, 0, 0, 0, 0, 0, 0, 0, 0, 0, 0, 0, 0, 0, 0, 0, 0, 0, 0, 0, 0, 0, 0, 0, 0, 0, 0, 0, 0, 0, 0, 0, 0, 0, 0, 0, 0, 0, 0, 0, 0, 0, 0, 0, 0, 0, 0, 0, 0, 0, 0, 0, 0, 0, 0, 0, 0, 0, 0, 0, 0, 0, 0, 0, 0, 0, 0, 0, 0, 0, 0, 0, 0, 0, 0, 0, 0, 0, 0, 0, 0, 0, 0, 0, 0, 0, 0, 0, 0, 0, 0, 0, 0, 0, 0, 0, 0, 0, 0, 0, 0, 0, 0, 0, 0, 0, 0, 0, 0, 0, 1, 0, 0, 0, 0, 0, 0, 0, 0, 0, 0, 0, 0, 0, 0, 0, 0, 0, 0, 0, 0, 0, 0, 0, 0, 0, 0, 0, 0, 0, 0, 0, 0, 0, 0, 0, 0, 0, 0, 0, 0, 0, 0, 0, 0, 0, 0, 0, 0, 0, 0, 0, 0, 0, 0, 0, 0, 0, 0, 0, 0, 0, 0, 0, 0, 0, 0, 0, 0, 0, 0, 0, 0, 0, 0, 1, 0, 0, 0, 0, 0, 0, 0, 0, 0, 0, 0, 0, 0, 0, 0, 0, 0, 0, 0, 0, 1, 0, 0, 1, 0, 0, 0, 0, 0, 0, 0, 0, 0, 0, 0, 0, 0, 0, 0, 0, 0, 0, 0, 0, 0, 0, 0, 0, 0, 0, 0, 0, 0, 0, 0, 0, 0, 0, 0, 0, 0, 0, 0, 0, 0, 0, 0, 0, 0, 0, 0, 0, 0, 0, 0, 0, 0, 0, 0, 0, 0, 0, 0, 0, 0, 0, 0, 0, 0, 0, 0, 0, 0, 0, 0, 0, 0, 0, 0, 0, 0, 0, 0, 0, 0, 0, 0, 0, 0, 0, 0, 0, 0, 0, 0, 0, 0, 0, 0, 0, 0, 0, 0, 0, 0, 0, 0, 0, 0, 0, 0, 0, 0, 0, 0, 0, 0, 0, 0, 0, 0, 0, 0, 0, 0, 0, 0, 0, 0, 0, 0, 0, 0, 0, 0, 0, 0, 0, 0, 0, 0, 0, 0, 0, 0, 0, 0, 0, 0, 0, 0, 0, 0, 0, 0, 0, 0, 0, 0, 0, 0, 0, 0, 0, 0, 0, 0, 0, 0, 0, 0, 0, 0, 0, 0, 0, 0, 0, 0, 0, 0, 0, 0, 0, 0, 0, 0, 0, 0, 0, 0, 0, 0, 0, 0, 0, 0, 0, 0, 0, 0, 0, 0, 0, 0, 0, 0, 0, 0, 0, 0, 0, 0, 0, 0, 0, 0, 0, 0, 0, 0, 0, 0, 0, 0, 0, 0, 0, 0, 0, 0, 0, 0, 0, 0, 0, 0, 0, 0, 0, 0, 0, 0, 0, 0, 0, 0, 0, 0, 0, 0, 0, 0, 0, 0, 0, 0, 0, 0, 0, 0, 0, 0, 0, 0, 0, 0, 0, 0, 0, 0, 0, 0, 0, 0, 0, 0, 0, 0, 0, 0, 0, 0, 0, 0, 0, 0, 0, 0, 0, 0, 0, 0, 0, 0, 0, 0, 0, 0, 0, 0, 0, 0, 0, 0, 0, 0, 0, 0, 0, 0, 0, 0, 0, 0, 0, 0, 0, 0, 0, 0, 0, 0, 0, 0, 0, 0, 0, 0, 0, 0, 0, 0, 0, 0, 0, 0, 0, 0, 0, 0, 0, 0, 0, 0, 0, 0, 0, 0, 0, 0, 0, 0, 0, 0, 0, 0, 0, 0, 0, 0, 0, 0, 0, 0, 0, 0, 0, 0, 0, 0, 0, 0, 0, 0, 0, 0, 0, 0, 0, 0, 0, 0, 0, 0, 0, 0, 0, 0, 0, 0, 0, 0, 0, 0, 0, 0, 0, 0, 0, 0, 0, 0, 0, 0, 0, 0, 0, 0, 0, 0, 0, 0, 0, 0, 0, 0, 0, 0, 0, 0, 0, 0, 0, 0, 0, 0, 0, 0, 0, 0, 0, 0, 0, 0, 0, 0, 0, 0, 0, 0, 0, 0, 0, 0, 0, 0, 0, 0, 0, 0, 0, 0, 0, 0, 0, 0, 0, 0, 0, 0, 0, 0, 0, 0, 0, 0, 0, 0, 0, 1, 0, 0, 0, 0, 0, 0, 0, 0, 0, 0, 0, 0, 0, 0, 0, 0, 0, 0, 0, 0, 0, 0, 0, 0, 0, 0, 0, 0, 0, 0, 0, 0, 0, 0, 0, 0, 0, 0, 0, 0, 0, 0, 0, 0, 0, 0, 0, 0, 0, 0, 0, 0, 0, 0, 0, 0, 0, 0, 0, 0, 0, 0, 0, 0, 0, 0, 0, 0, 0, 0, 0, 0, 0, 0, 0, 0, 0, 0, 0, 0, 0, 0, 0, 0, 0, 0, 0, 0, 0, 0, 0, 0, 0, 0, 0, 0, 0, 0, 0, 0, 0, 0, 0, 0, 0, 0, 0, 0, 0, 0, 0, 0, 0, 0, 0, 0, 0, 0, 0, 0, 0, 0, 0, 0, 0, 0, 0, 0, 0, 0, 0, 0, 0, 0, 0, 0, 0, 0, 0, 0, 0, 0, 0, 0, 0, 0, 0, 0, 0, 0, 0, 0, 0, 0, 0, 0, 0, 0, 0, 0, 0, 0, 0, 0, 0, 0, 0, 0, 0, 0, 0, 0, 0, 0, 0, 0, 0, 0, 0, 0, 0, 0, 0, 0, 0, 0, 0, 0, 0, 0, 0, 0, 0, 0, 0, 0, 0, 0, 0, 0, 0, 0, 0, 0, 0, 0, 0, 0, 0, 0, 0, 0, 0, 0, 0, 0, 0, 0, 0, 0, 0, 0, 0, 0, 0, 0, 0, 0, 0, 0, 0, 0, 0, 0, 0, 0, 0, 0, 0, 0, 0, 0, 0, 0, 0, 0, 0, 0, 0, 0, 0, 0, 0, 0, 0, 0, 0, 0, 0, 0, 0, 0, 0, 0, 0, 0, 0, 0, 0, 0, 0, 0, 0, 0, 0, 0, 0, 0, 0, 0, 0, 0, 0, 0, 0, 0, 0, 0, 0, 0, 0, 0, 0, 0, 0, 0, 0, 0, 0, 0, 0, 0, 0, 0, 0, 0, 0, 0, 0, 0, 0, 0, 0, 0, 0, 0, 0, 0, 0, 0, 0, 0, 0, 0, 0, 0, 0, 0, 0, 0, 0, 0, 0, 0, 0, 0, 0, 0, 0, 0, 0, 0, 0, 0, 0, 0, 0, 0, 0, 0, 0, 0, 0, 0, 0, 0, 0, 0, 0, 0, 0, 0, 0, 0, 0, 0, 0, 0, 0, 0, 0, 0, 0, 0, 0, 0, 0, 0, 0, 0, 0, 0, 0, 0, 0, 0, 0, 0, 0, 0, 0, 0, 0, 0, 0, 0, 0, 0, 0, 0, 0, 0, 0, 0, 0, 0, 0, 0, 0, 0, 0, 0, 0, 0, 0, 0, 0, 0, 0, 0, 0, 0, 0, 0, 0, 0, 0, 0, 0, 0, 0, 0, 0, 0, 0, 0, 0, 0, 0, 0, 0, 0, 0, 0, 0, 0, 0, 0, 0, 0, 0, 0, 0, 0, 0, 0, 0, 0, 0, 0, 0, 0, 0, 0, 0, 0, 0, 0, 0, 0, 0, 0, 0, 0, 0, 0, 0, 0, 0, 0, 0, 0, 0, 0, 0, 0, 0, 0, 0, 0, 0, 0, 0, 0, 0, 0, 0, 0, 0, 0, 0, 0, 0, 0, 0, 0, 0, 0, 0, 0, 0, 0, 1, 0, 0, 0, 0, 0, 0, 0, 0, 0, 0, 0, 0, 0, 0, 0, 0, 0, 0, 0, 0, 0, 0, 0, 0, 0, 0, 0, 0, 0, 0, 0, 0, 0, 0, 0, 2, 0, 0, 0, 0, 0, 0, 0, 0, 0, 0, 0, 0, 0, 0, 0, 0, 0, 0, 0, 0, 0, 0, 0, 0, 0, 0, 0, 0, 0, 0, 0, 0, 0, 0, 0, 0, 0, 0, 0, 0, 1, 0, 0, 0, 0, 0, 0, 0, 0, 0, 0, 0, 0, 0, 0, 0, 0, 0, 0, 0, 0, 0, 0, 0, 0, 0, 0, 0, 0, 0, 0, 0, 0, 0, 0, 0, 0, 0, 0, 0, 0, 0, 0, 0, 0, 0, 0, 0, 0, 0, 0, 0, 0, 0, 0, 0, 0, 0, 0, 0, 0, 0, 0, 0, 0, 0, 0, 0, 0, 0, 0, 0, 0, 0, 0, 0, 0, 0, 0, 0, 0, 0, 0, 0, 0, 0, 0, 0, 0, 0, 0, 0, 0, 0, 0, 0, 0, 0, 0, 0, 0, 0, 0, 0, 0, 0, 0, 0, 0, 0, 0, 0, 0, 0, 0, 0, 0, 0, 0, 0, 0, 0, 0, 0, 0, 0, 0, 0, 0, 0, 0, 0, 0, 0, 0, 0, 0, 0, 0, 0, 0, 0, 0, 0, 0, 0, 0, 0, 0, 0, 0, 0, 0, 0, 0, 0, 0, 0, 0, 0, 0, 0, 0, 0, 0, 0, 0, 0, 0, 0, 0, 0, 0, 0, 0, 0, 0, 0, 0, 0, 0, 0, 0, 0, 0, 0, 0, 0, 0, 0, 0, 0, 0, 0, 0, 0, 0, 0, 0, 0, 0, 0, 0, 0, 0, 0, 0, 0, 0, 0, 0, 0, 0, 0, 0, 0, 0, 0, 0, 0, 0, 0, 0, 0, 0, 0, 0, 0, 0, 0, 0, 0, 0, 0, 0, 0, 0, 0, 0, 0, 0, 0, 0, 0, 0, 0, 0, 0, 0, 0, 0, 0, 0, 0, 0, 0, 0, 0, 0, 0, 0, 0, 0, 0, 0, 0, 0, 0, 0, 0, 0, 0, 0, 0, 0, 0, 0, 0, 0, 0, 0, 0, 0, 0, 0, 0, 0, 0, 0, 0, 0, 0, 0, 0, 0, 0, 0, 0, 0, 0, 0, 0, 0, 0, 0, 0, 0, 0, 0, 0, 0, 0, 0, 0, 0, 0, 0, 0, 0, 0, 0, 0, 0, 0, 0, 0, 0, 0, 0, 0, 0, 0, 0, 0, 0, 0, 0, 0, 0, 0, 0, 0, 0, 0, 0, 0, 0, 0, 0, 0, 0, 0, 0, 0, 0, 0, 0, 0, 0, 0, 0, 0, 0, 0, 0, 0, 0, 0, 0, 0, 0, 0, 0, 0, 0, 0, 0, 0, 0, 0, 0, 0, 0, 0, 0, 0, 0, 0, 0, 0, 0, 0, 0, 0, 0, 0, 0, 0, 0, 0, 0, 0, 0, 0, 0, 0, 0, 0, 0, 0, 0, 0, 0, 0, 0, 0, 0, 0, 0, 0, 0, 0, 0, 0, 0, 0, 0, 0, 0, 0, 0, 0, 0, 0, 0, 0, 0, 0, 0, 0, 0, 0, 0, 0, 0, 0, 0, 0, 0, 0, 0, 0, 0, 0, 0, 0, 0, 0, 0, 0, 0, 0, 0, 0, 0, 0, 0, 0, 0, 0, 0, 0, 0, 0, 0, 0, 0, 0, 0, 0, 0, 0, 0, 0, 0, 0, 0, 0, 0, 0, 0, 0, 0, 0, 0, 0, 0, 0, 1, 0, 0, 0, 0, 0, 0, 0, 0, 0, 0, 0, 0, 0, 0, 0, 0, 0, 0, 0, 0, 0, 0, 0, 0, 0, 0, 0, 0, 0, 0, 0, 0, 0, 0, 0, 0, 0, 0, 0, 0, 0, 0, 0, 0, 0, 0, 0, 0, 0, 0, 0, 0, 0, 0, 0, 0, 0, 0, 0, 0, 0, 0, 0, 0, 0, 0, 0, 0, 0, 0, 0, 0, 0, 0, 0, 0, 0, 0, 0, 0, 0, 0, 0, 0, 0, 0, 0, 0, 0, 0, 0, 0, 0, 0, 0, 0, 0, 0, 0, 0, 0, 0, 0, 0, 0, 0, 0, 0, 0, 0, 2, 0, 0, 0, 0, 0, 0, 0, 0, 0, 0, 0, 0, 0, 0, 0, 0, 0, 0, 0, 0, 0, 0, 0, 0, 0, 0, 0, 0, 0, 0, 0, 0, 0, 0, 0, 0, 0, 0, 0, 0, 0, 0, 0, 0, 0, 0, 0, 0, 0, 0, 0, 0, 0, 0, 0, 0, 0, 0, 0, 0, 0, 0, 0, 0, 0, 0, 0, 0, 0, 0, 0, 0, 0, 0, 0, 0, 0, 0, 0, 0, 0, 0, 0, 0, 0, 0, 0, 0, 0, 0, 0, 0, 0, 0, 0, 0, 0, 0, 0, 0, 0, 0, 0, 0, 0, 0, 0, 0, 0, 0, 0, 0, 0, 0, 0, 0, 0, 0, 0, 0, 0, 0, 0, 0, 0, 0, 0, 0, 0, 0, 0, 0, 0, 0, 0, 0, 0, 0, 0, 0, 0, 0, 0, 0, 0, 0, 0, 0, 0, 0, 0, 0, 0, 0, 0, 0, 0, 0, 0, 0, 0, 0, 0, 0, 0, 0, 0, 0, 0, 0, 0, 0, 0, 0, 0, 0, 0, 0, 0, 0, 0, 0, 0, 0, 0, 0, 0, 0, 0, 0, 0, 0, 0, 0, 0, 0, 0, 0, 0, 0, 0, 0, 0, 0, 0, 0, 0, 0, 0, 0, 0, 0, 0, 0, 0, 0, 0, 0, 0, 0, 0, 0, 0, 0, 0, 0, 0, 0, 0, 0, 0, 0, 0, 0, 0, 0, 0, 0, 0, 0, 0, 0, 0, 0, 0, 0, 0, 0, 0, 0, 0, 0, 0, 0, 0, 0, 0, 0, 0, 0, 0, 0, 0, 0, 0, 0, 0, 0, 0, 0, 0, 0, 0, 0, 0, 0, 0, 0, 0, 0, 0, 0, 0, 0, 0, 0, 0, 0, 0, 0, 0, 0, 0, 0, 0, 0, 0, 0, 0, 0, 0, 0, 0, 0, 0, 0, 0, 0, 0, 0, 0, 0, 0, 0, 0, 0, 0, 0, 0, 0, 0, 0, 0, 0, 0, 0, 0, 0, 0, 0, 0, 0, 0, 0, 0, 0, 0, 0, 0, 0, 0, 0, 0, 0, 0, 0, 0, 0, 0, 0, 0, 0, 0, 0, 0, 0, 0, 0, 0, 0, 0, 0, 0, 0, 0, 0, 0, 0, 0, 0, 0, 0, 0, 0, 0, 0, 0, 0, 0, 0, 0, 0, 0, 0, 0, 0, 0, 0, 0, 0, 0, 0, 0, 0, 0, 0, 0, 0, 0, 0, 0, 0, 0, 0, 0, 0, 0, 0, 0, 0, 0, 0, 0, 0, 0, 0, 0, 0, 0, 0, 0, 0, 0, 0, 0, 0, 0, 0, 0, 0, 0, 0, 0, 0, 0, 0, 0, 0, 0, 0, 0, 0, 0, 0, 0, 0, 0, 0, 0, 0, 0, 0, 0, 0, 0, 0, 0, 0, 0, 0, 0, 0, 0, 0, 0, 0, 0, 0, 0, 0, 0, 0, 0, 0, 0, 0, 0, 0, 0, 0, 0, 0, 0, 0, 0, 0, 0, 0, 0, 0, 0, 0, 0, 0, 0, 0, 0, 0, 0, 0, 0, 0, 0, 0, 0, 0, 0, 0, 0, 0, 0, 0, 0, 0, 0, 0, 0, 0, 0, 0, 0, 0, 0, 0, 0, 0, 0, 0, 0, 0, 0, 0, 0, 0, 0, 0, 0, 0, 0, 0, 0, 0, 0, 0, 0, 0, 0, 0, 0, 0, 0, 0, 0, 0, 0, 0, 0, 0, 0, 0, 0, 0, 0, 0, 0, 0, 0, 0, 0, 0, 0, 0, 0, 0, 0, 0, 0, 0, 0, 0, 0, 0, 0, 0, 0, 0, 0, 0, 0, 0, 0, 0, 0, 0, 0, 0, 0, 0, 0, 0, 0, 0, 0, 0, 0, 0, 0, 0, 0, 0, 0, 0, 0, 0, 0, 0, 0, 0, 0, 0, 0, 0, 0, 0, 0, 0, 0, 0, 0, 0, 0, 0, 0, 0, 0, 0, 0, 0, 0, 0, 0, 0, 0, 0, 0, 0, 0, 0, 0, 0, 0, 0, 0, 0, 0, 0, 0, 0, 0, 0, 0, 0, 0, 0, 0, 0, 0, 0, 0, 0, 0, 0, 0, 0, 0, 0, 0, 0, 0, 0, 0, 0, 0, 0, 0, 0, 0, 0, 0, 0, 1, 0, 0, 0, 0, 0, 0, 0, 0, 0, 0, 0, 0, 0, 0, 0, 0, 0, 0, 0, 0, 0, 0, 0, 0, 0, 0, 0, 0, 0, 0, 0, 0, 0, 0, 0, 0, 0, 0, 0, 0, 0, 0, 0, 0, 0, 0, 0, 0, 0, 0, 0, 0, 0, 0, 0, 0, 0, 0, 0, 0, 0, 0, 0, 0, 0, 0, 0, 0, 0, 0, 0, 0, 0, 0, 0, 0, 0, 0, 0, 0, 0, 0, 0, 0, 0, 0, 0, 0, 0, 0, 0, 0, 0, 0, 0, 0, 0, 0, 0, 0, 0, 0, 0, 0, 0, 0, 0, 1, 0, 0, 0, 0, 0, 0, 0, 0, 0, 0, 0, 0, 0, 0, 0, 0, 0, 0, 0, 0, 0, 0, 0, 0, 0, 0, 0, 0, 0, 0, 0, 0, 0, 0, 0, 0, 0, 0, 0, 0, 0, 0, 0, 0, 0, 0, 0, 0, 0, 0, 0, 0, 0, 0, 0, 0, 0, 0, 0, 0, 0, 0, 0, 0, 0, 0, 0, 0, 0, 0, 0, 0, 0, 0, 0, 0, 0, 0, 0, 0, 0, 0, 0, 0, 0, 0, 0, 0, 0, 0, 0, 0, 0, 0, 0, 0, 0, 0, 0, 0, 0, 0, 0, 0, 0, 0, 0, 0, 0, 0, 0, 0, 0, 0, 0, 0, 0, 0, 0, 0, 0, 0, 0, 0, 0, 0, 0, 0, 0, 0, 0, 0, 0, 0, 0, 0, 0, 0, 0, 0, 0, 0, 0, 0, 0, 0, 0, 0, 0, 0, 0, 0, 0, 0, 0, 0, 0, 0, 0, 0, 0, 0, 0, 0, 0, 0, 0, 0, 0, 0, 0, 0, 0, 0, 0, 0, 0, 0, 0, 0, 0, 0, 0, 0, 0, 0, 0, 0, 0, 0, 0, 0, 0, 0, 0, 0, 0, 0, 0, 0, 0, 0, 0, 0, 0, 0, 0, 0, 0, 0, 0, 0, 0, 0, 0, 0, 0, 0, 0, 0, 0, 0, 0, 0, 0, 0, 0, 0, 0, 0, 0, 0, 0, 0, 0, 0, 0, 0, 0, 0, 0, 0, 0, 0, 0, 0, 0, 0, 0, 0, 0, 0, 0, 0, 0, 0, 0, 0, 0, 0, 0, 0, 0, 0, 0, 0, 0, 0, 0, 0, 0, 0, 0, 0, 0, 0, 0, 0, 0, 0, 0, 0, 0, 0, 0, 0, 0, 0, 0, 0, 0, 0, 0, 0, 0, 0, 0, 0, 0, 0, 0, 0, 0, 0, 0, 0, 0, 0, 0, 0, 0, 0, 0, 0, 0, 0, 0, 0, 0, 0, 0, 0, 0, 0, 0, 0, 0, 0, 0, 0, 0, 0, 0, 0, 0, 0, 0, 0, 0, 0, 0, 0, 0, 0, 0, 0, 0, 0, 0, 0, 0, 0, 0, 0, 0, 0, 0, 0, 0, 0, 0, 0, 0, 0, 0, 0, 0, 0, 0, 0, 0, 0, 0, 0, 0, 0, 0, 0, 0, 0, 0, 0, 0, 0, 0, 0, 0, 0, 0, 0, 0, 0, 0, 0, 0, 0, 0, 0, 0, 0, 0, 0, 0, 0, 0, 0, 0, 0, 0, 0, 0, 0, 0, 0, 0, 0, 0, 0, 0, 0, 0, 0, 0, 0, 0, 0, 0, 0, 0, 0, 0, 0, 0, 0, 0, 0, 0, 0, 0, 0, 0, 0, 0, 0, 0, 0, 0, 0, 0, 0, 0, 0, 0, 0, 0, 0, 0, 0, 0, 0, 0, 0, 0, 2, 0, 1, 0], type: <class 'list'>, valid types: <class 'bytes'>, <class 'bytearray'>, file-like object"
     ]
    }
   ],
   "source": [
    "response = runtime.invoke_endpoint(EndpointName = xgb_predictor.endpoint, # The name of the endpoint we created\n",
    "                                       ContentType = 'text/csv',                     # The data format that is expected\n",
    "                                       Body = test_bow)"
   ]
  },
  {
   "cell_type": "markdown",
   "metadata": {},
   "source": [
    "So why did we get an error?\n",
    "\n",
    "Because we tried to send the endpoint a list of integers but it expected us to send data of type `text/csv`. So, we need to convert it."
   ]
  },
  {
   "cell_type": "code",
   "execution_count": 45,
   "metadata": {},
   "outputs": [],
   "source": [
    "response = runtime.invoke_endpoint(EndpointName = xgb_predictor.endpoint, # The name of the endpoint we created\n",
    "                                       ContentType = 'text/csv',                     # The data format that is expected\n",
    "                                       Body = ','.join([str(val) for val in test_bow]).encode('utf-8'))"
   ]
  },
  {
   "cell_type": "code",
   "execution_count": 46,
   "metadata": {},
   "outputs": [
    {
     "name": "stdout",
     "output_type": "stream",
     "text": [
      "{'ResponseMetadata': {'RequestId': 'e8c2b261-5cbd-47be-8990-7ed31b75f288', 'HTTPStatusCode': 200, 'HTTPHeaders': {'x-amzn-requestid': 'e8c2b261-5cbd-47be-8990-7ed31b75f288', 'x-amzn-invoked-production-variant': 'AllTraffic', 'date': 'Mon, 2 Sep 2019 05:01:16 GMT', 'content-type': 'text/csv; charset=utf-8', 'content-length': '14'}, 'RetryAttempts': 0}, 'ContentType': 'text/csv; charset=utf-8', 'InvokedProductionVariant': 'AllTraffic', 'Body': <botocore.response.StreamingBody object at 0x7f42a0066898>}\n"
     ]
    }
   ],
   "source": [
    "print(response)"
   ]
  },
  {
   "cell_type": "markdown",
   "metadata": {},
   "source": [
    "As we can see, the response from our model is a somewhat complicated looking dict that contains a bunch of information. The bit that we are most interested in is `'Body'` object which is a streaming object that we need to `read` in order to make use of."
   ]
  },
  {
   "cell_type": "code",
   "execution_count": 47,
   "metadata": {},
   "outputs": [
    {
     "name": "stdout",
     "output_type": "stream",
     "text": [
      "0.428862273693\n"
     ]
    }
   ],
   "source": [
    "response = response['Body'].read().decode('utf-8')\n",
    "print(response)"
   ]
  },
  {
   "cell_type": "markdown",
   "metadata": {},
   "source": [
    "Now that we know how to process the incoming user data we can start setting up the infrastructure to make our simple web app work. To do this we will make use of two different services. Amazon's Lambda and API Gateway services.\n",
    "\n",
    "Lambda is a service which allows someone to write some relatively simple code and have it executed whenever a chosen trigger occurs. For example, you may want to update a database whenever new data is uploaded to a folder stored on S3.\n",
    "\n",
    "API Gateway is a service that allows you to create HTTP endpoints (url addresses) which are connected to other AWS services. One of the benefits to this is that you get to decide what credentials, if any, are required to access these endpoints.\n",
    "\n",
    "In our case we are going to set up an HTTP endpoint through API Gateway which is open to the public. Then, whenever anyone sends data to our public endpoint we will trigger a Lambda function which will send the input (in our case a review) to our model's endpoint and then return the result."
   ]
  },
  {
   "cell_type": "markdown",
   "metadata": {},
   "source": [
    "### Setting up a Lambda function\n",
    "\n",
    "The first thing we are going to do is set up a Lambda function. This Lambda function will be executed whenever our public API has data sent to it. When it is executed it will receive the data, perform any sort of processing that is required, send the data (the review) to the SageMaker endpoint we've created and then return the result.\n",
    "\n",
    "#### Part A: Create an IAM Role for the Lambda function\n",
    "\n",
    "Since we want the Lambda function to call a SageMaker endpoint, we need to make sure that it has permission to do so. To do this, we will construct a role that we can later give the Lambda function.\n",
    "\n",
    "Using the AWS Console, navigate to the **IAM** page and click on **Roles**. Then, click on **Create role**. Make sure that the **AWS service** is the type of trusted entity selected and choose **Lambda** as the service that will use this role, then click **Next: Permissions**.\n",
    "\n",
    "In the search box type `sagemaker` and select the check box next to the **AmazonSageMakerFullAccess** policy. Then, click on **Next: Review**.\n",
    "\n",
    "Lastly, give this role a name. Make sure you use a name that you will remember later on, for example `LambdaSageMakerRole`. Then, click on **Create role**."
   ]
  },
  {
   "cell_type": "markdown",
   "metadata": {},
   "source": [
    "#### Part B: Create a Lambda function\n",
    "\n",
    "Now it is time to actually create the Lambda function. Remember from earlier that in order to process the user provided input and send it to our endpoint we need to gather two pieces of information:\n",
    "\n",
    " - The name of the endpoint, and\n",
    " - the vocabulary object.\n",
    "\n",
    "We will copy these pieces of information to our Lambda function after we create it.\n",
    "\n",
    "To start, using the AWS Console, navigate to the AWS Lambda page and click on **Create a function**. When you get to the next page, make sure that **Author from scratch** is selected. Now, name your Lambda function, using a name that you will remember later on, for example `sentiment_analysis_xgboost_func`. Make sure that the **Python 3.6** runtime is selected and then choose the role that you created in the previous part. Then, click on **Create Function**.\n",
    "\n",
    "On the next page you will see some information about the Lambda function you've just created. If you scroll down you should see an editor in which you can write the code that will be executed when your Lambda function is triggered. Collecting the code we wrote above to process a single review and adding it to the provided example `lambda_handler` we arrive at the following.\n",
    "\n",
    "```python\n",
    "# We need to use the low-level library to interact with SageMaker since the SageMaker API\n",
    "# is not available natively through Lambda.\n",
    "import boto3\n",
    "\n",
    "# And we need the regular expression library to do some of the data processing\n",
    "import re\n",
    "\n",
    "REPLACE_NO_SPACE = re.compile(\"(\\.)|(\\;)|(\\:)|(\\!)|(\\')|(\\?)|(\\,)|(\\\")|(\\()|(\\))|(\\[)|(\\])\")\n",
    "REPLACE_WITH_SPACE = re.compile(\"(<br\\s*/><br\\s*/>)|(\\-)|(\\/)\")\n",
    "\n",
    "def review_to_words(review):\n",
    "    words = REPLACE_NO_SPACE.sub(\"\", review.lower())\n",
    "    words = REPLACE_WITH_SPACE.sub(\" \", words)\n",
    "    return words\n",
    "    \n",
    "def bow_encoding(words, vocabulary):\n",
    "    bow = [0] * len(vocabulary) # Start by setting the count for each word in the vocabulary to zero.\n",
    "    for word in words.split():  # For each word in the string\n",
    "        if word in vocabulary:  # If the word is one that occurs in the vocabulary, increase its count.\n",
    "            bow[vocabulary[word]] += 1\n",
    "    return bow\n",
    "\n",
    "\n",
    "def lambda_handler(event, context):\n",
    "    \n",
    "    vocab = \"*** ACTUAL VOCABULARY GOES HERE ***\"\n",
    "    \n",
    "    words = review_to_words(event['body'])\n",
    "    bow = bow_encoding(words, vocab)\n",
    "\n",
    "    # The SageMaker runtime is what allows us to invoke the endpoint that we've created.\n",
    "    runtime = boto3.Session().client('sagemaker-runtime')\n",
    "\n",
    "    # Now we use the SageMaker runtime to invoke our endpoint, sending the review we were given\n",
    "    response = runtime.invoke_endpoint(EndpointName = '***ENDPOINT NAME HERE***',# The name of the endpoint we created\n",
    "                                       ContentType = 'text/csv',                 # The data format that is expected\n",
    "                                       Body = ','.join([str(val) for val in bow]).encode('utf-8')) # The actual review\n",
    "\n",
    "    # The response is an HTTP response whose body contains the result of our inference\n",
    "    result = response['Body'].read().decode('utf-8')\n",
    "    \n",
    "    # Round the result so that our web app only gets '1' or '0' as a response.\n",
    "    result = round(float(result))\n",
    "\n",
    "    return {\n",
    "        'statusCode' : 200,\n",
    "        'headers' : { 'Content-Type' : 'text/plain', 'Access-Control-Allow-Origin' : '*' },\n",
    "        'body' : str(result)\n",
    "    }\n",
    "```"
   ]
  },
  {
   "cell_type": "markdown",
   "metadata": {},
   "source": [
    "Once you have copy and pasted the code above into the Lambda code editor, replace the `**ENDPOINT NAME HERE**` portion with the name of the endpoint that we deployed earlier. You can determine the name of the endpoint using the code cell below."
   ]
  },
  {
   "cell_type": "code",
   "execution_count": 48,
   "metadata": {},
   "outputs": [
    {
     "data": {
      "text/plain": [
       "'xgboost-2019-09-02-04-28-41-515'"
      ]
     },
     "execution_count": 48,
     "metadata": {},
     "output_type": "execute_result"
    }
   ],
   "source": [
    "xgb_predictor.endpoint"
   ]
  },
  {
   "cell_type": "markdown",
   "metadata": {},
   "source": [
    "In addition, you will need to copy the vocabulary dict to the appropriate place in the code at the beginning of the `lambda_handler` method. The cell below prints out the vocabulary dict in a way that is easy to copy and paste."
   ]
  },
  {
   "cell_type": "code",
   "execution_count": 49,
   "metadata": {
    "scrolled": true
   },
   "outputs": [
    {
     "name": "stdout",
     "output_type": "stream",
     "text": [
      "{'this': 4457, 'movie': 2926, 'is': 2360, 'one': 3107, 'exception': 1557, 'of': 3083, 'the': 4426, 'rule': 3753, 'that': 4424, 'sequel': 3885, 'than': 4420, 'original': 3129, 'its': 2370, 'comedy': 890, 'at': 331, 'best': 469, 'fast': 1661, 'action': 100, 'slapstick': 4019, 'where': 4864, 'something': 4066, 'seems': 3864, 'to': 4507, 'happened': 2027, 'every': 1539, 'second': 3846, 'more': 2904, 'occasion': 3073, 'entire': 1502, 'audience': 352, 'laughed': 2532, 'joke': 2414, 'big': 478, 'advantage': 129, 'have': 2052, 'seen': 3865, 'first': 1736, 'but': 636, 'not': 3040, 'also': 199, 'being': 448, 'parody': 3192, 'on': 3105, 'latest': 2526, 'decades': 1145, 'reality': 3551, 'production': 3419, 'tv': 4610, 'series': 3890, 'such': 4268, 'as': 311, 'survivor': 4324, 'robinson': 3716, 'in': 2257, 'swedish': 4335, 'for': 1784, 'thus': 4486, 'dont': 1324, 'see': 3855, 'it': 2366, 'if': 2222, 'you': 4986, 'arent': 288, 'familiar': 1643, 'with': 4911, 'and': 226, 'language': 2516, 'otherwise': 3137, 'fun': 1848, 'james': 2378, 'stewart': 4184, 'wins': 4899, 'shooting': 3943, 'henry': 2084, 'brown': 601, 'stephen': 4176, 'bad': 382, 'loser': 2655, 'steals': 4172, 'takes': 4351, 'his': 2118, 'horse': 2170, 'goes': 1930, 'after': 143, 'dutch': 1389, 'men': 2805, 'buddy': 609, 'high': 2100, 'gets': 1900, 'different': 1248, 'hands': 2020, 'get': 1899, 'back': 378, 'right': 3696, 'owner': 3159, 'anthony': 253, 'mann': 2728, 'worked': 4941, 'together': 4511, 'time': 4495, 'came': 656, 'up': 4683, 'masterpiece': 2759, 'man': 2721, 'play': 3296, 'was': 4805, 'always': 203, 'do': 1302, 'terrific': 4409, 'shelley': 3928, 'winters': 4901, 'plays': 3301, 'part': 3193, 'shes': 3930, 'great': 1964, 'brilliant': 583, 'boyfriend': 558, 'steve': 4181, 'bat': 410, 'are': 285, 'theyre': 4445, 'played': 3297, 'by': 642, 'will': 4886, 'young': 4989, 'rock': 3720, 'hudson': 2184, 'bull': 619, 'tony': 4521, 'curtis': 1087, 'many': 2732, 'classic': 835, 'moments': 2887, 'point': 3316, 'group': 1980, 'surrounded': 4318, 'indians': 2275, 'since': 3990, 'watch': 4811, 'survival': 4320, 'game': 1864, 'true': 4596, 'western': 4853, 'fans': 1650, 'love': 2669, 'problem': 3408, 'opening': 3114, 'scene': 3809, 'cia': 814, 'want': 4788, 'an': 223, 'international': 2326, 'terrorist': 4413, 'dead': 1132, 'so': 4046, 'contact': 961, 'black': 493, 'appearing': 277, 'old': 3100, 'court': 1020, 'london': 2641, 'which': 4867, 'question': 3487, 'why': 4878, 'they': 4442, 'off': 3084, 'hes': 2093, 'going': 1931, 'spend': 4105, 'rest': 3657, 'life': 2592, 'jail': 2376, 'be': 418, 'out': 3141, 'either': 1438, 'way': 4820, 'didnt': 1242, 'chance': 747, 'before': 440, 'he': 2056, 'arrested': 298, 'some': 4061, 'guilty': 1995, 'then': 4436, 'kill': 2468, 'him': 2110, 'theres': 4440, 'no': 3020, 'logical': 2639, 'reason': 3557, 'someone': 4064, 'who': 4871, 'security': 3854, 'prison': 3401, 'premise': 3370, 'sets': 3899, 'story': 4207, 'might': 2835, 'choose': 799, 'ignore': 2224, 'plot': 3309, 'hole': 2132, 'itself': 2371, 'upon': 4684, 'fire': 1734, 'killed': 2469, 'police': 3322, 'bullet': 620, 'taxi': 4371, 'driving': 1368, 'manages': 2725, 'escape': 1517, 'were': 4848, 'close': 853, 'enough': 1491, 'shoot': 3942, 'too': 4522, 'far': 1653, 'away': 369, 'from': 1840, 'car': 680, 'crash': 1033, 'film': 1716, 'type': 4621, 'later': 2525, 'finds': 1728, 'inspector': 2299, 'gun': 1996, 'saying': 3800, 'airport': 167, 'armed': 293, 'yet': 4984, 'very': 4723, 'easily': 1406, 'without': 4913, 'explanation': 1590, 'whole': 4873, 'things': 4451, 'never': 3001, 'explained': 1587, 'includes': 2263, 'important': 2247, 'supporting': 4304, 'character': 758, 'called': 652, 'emily': 1456, 'day': 1129, 'does': 1308, 'she': 3923, 'help': 2079, 'even': 1533, 'though': 4461, 'wanted': 4789, 'your': 4991, 'guess': 1989, 'good': 1937, 'mine': 2853, 'fairly': 1631, 'poor': 3328, 'thriller': 4472, 'taken': 4350, 'name': 2960, 'cast': 710, 'used': 4693, 'star': 4150, 'career': 686, 'starring': 4154, 'films': 1721, 'charles': 764, 'dance': 1103, 'appeared': 276, 'budget': 610, 'hollywood': 2137, 'productions': 3420, 'last': 2521, 'hero': 2088, 'alien': 183, 'again': 146, 'known': 2492, 'straight': 4210, 'dvd': 1391, 'fare': 1655, 'these': 4441, 'days': 1130, 'basically': 407, 'playing': 3300, 'cameo': 657, 'role': 3726, 'anyway': 261, 'likes': 2602, 'lena': 2568, 'may': 2775, 'go': 1924, 'become': 433, 'players': 3299, 'cinema': 816, 'certainly': 738, 'fail': 1625, 'put': 3480, 'their': 4431, 'mood': 2898, 'just': 2437, 'movies': 2927, 'amitabh': 216, 'started': 4157, 'pretty': 3384, 'show': 3953, 'awesome': 371, 'timing': 4498, 'dialog': 1232, 'inspired': 2301, 'boys': 559, 'has': 2043, 'indian': 2274, 'people': 3221, 'think': 4452, 'confusing': 942, 'fact': 1621, 'david': 1124, 'directing': 1260, 'acting': 99, 'should': 3951, 'raise': 3507, 'any': 256, 'recommended': 3572, 'same': 3778, 'gang': 1867, 'perfect': 3224, 'plan': 3287, 'all': 187, 'wrong': 4973, 'trouble': 4592, 'outside': 3146, 'what': 4858, 'gonna': 1936, 'now': 3054, 'sound': 4081, 'like': 2599, 'trying': 4601, 'combination': 883, 'indie': 2276, 'theater': 4427, 'kind': 2476, 'actors': 104, 'or': 3124, 'because': 432, 'mostly': 2910, 'consists': 955, 'tight': 4492, 'focusing': 1769, 'angry': 238, 'tense': 4403, 'scared': 3805, 'planning': 3291, 'giving': 1915, 'performers': 3232, 'lot': 2661, 'free': 1827, 'range': 3516, 'really': 3556, 'ham': 2011, 'trio': 4587, 'leader': 2546, 'brother': 598, 'come': 886, 'scheme': 3812, 'monkey': 2890, 'thrown': 4481, 'into': 2332, 'works': 4945, 'top': 4525, 'bit': 488, 'through': 4477, 'cops': 993, 'bar': 396, 'named': 2961, 'director': 1264, 'tries': 4585, 'keep': 2449, 'focus': 1766, 'performances': 3229, 'delivery': 1173, 'over': 3148, 'bright': 581, 'passion': 3205, 'red': 3576, 'ad': 110, 'smoking': 4040, 'keeps': 2451, 'violence': 4747, 'screen': 3829, 'mistake': 2871, 'intensity': 2317, 'gruesome': 1986, 'violent': 4748, 'scenes': 3811, 'would': 4957, 'given': 1913, 'edge': 1418, 'moves': 2925, 'slow': 4031, 'suffers': 4278, 'almost': 193, 'matt': 2768, 'cowboy': 1025, 'wild': 4885, 'gary': 1873, 'deep': 1154, 'thought': 4462, 'tag': 4348, 'along': 195, 'guys': 2001, 'joe': 2407, 'effective': 1429, 'traditional': 4550, 'routine': 3743, 'foul': 1810, 'mad': 2696, 'dog': 1310, 'whos': 4876, 'thumbs': 4485, 'isnt': 2362, 'anything': 260, 'here': 2086, 'william': 4887, 'only': 3110, 'actor': 103, 'believable': 453, 'wants': 4791, 'blood': 512, 'situation': 4008, 'try': 4600, 'lacks': 2505, 'ability': 65, 'create': 1036, 'tension': 4404, 'characters': 760, 'calm': 655, 'pool': 3327, 'ready': 3546, 'strike': 4224, 'call': 651, 'oh': 3096, 'bother': 548, 'blow': 514, 'them': 4432, 'shouldnt': 3952, 'little': 2624, 'meanwhile': 2785, 'real': 3547, 'happening': 2028, 'inside': 2297, 'baseball': 403, 'leads': 2548, 'ugly': 4625, 'happens': 2029, 'thats': 4425, 'well': 4843, 'kinda': 2477, 'sad': 3767, 'spent': 4108, 'coach': 868, 'her': 2085, 'new': 3003, 'accent': 78, 'fine': 1729, 'smaller': 4034, 'cop': 991, 'listening': 2620, 'reaches': 3538, 'pack': 3165, 'matches': 2764, 'absolute': 71, 'worst': 4952, 'nice': 3008, 'look': 2646, 'obviously': 3072, 'approach': 282, 'realistic': 3550, 'feels': 1687, 'much': 2934, 'low': 2676, 'behind': 447, 'camera': 659, 'other': 3135, 'script': 3834, 'needs': 2990, 'few': 1700, 're': 3535, 'writes': 4970, 'shows': 3960, 'terrible': 4407, 'sort': 4077, 'feel': 1684, 'filming': 1718, 'act': 97, 'talented': 4355, 'could': 1007, 'work': 4940, 'material': 2766, 'place': 3282, 'said': 3774, 'mean': 2779, 'found': 1811, 'placed': 3283, 'roles': 3727, 'wouldve': 4959, 'helped': 2080, 'immensely': 2243, 'having': 2054, 'veteran': 4724, 'mob': 2879, 'orders': 3127, 'troops': 4591, 'keeping': 2450, 'been': 438, 'improvement': 2256, 'when': 4862, 'direct': 1258, 'can': 665, 'win': 4892, 'oscars': 3134, 'sometimes': 4067, 'need': 2987, 'showcase': 3954, 'excuse': 1564, 'situations': 4009, 'coming': 896, 'age': 148, 'stories': 4205, 'natural': 2973, 'about': 67, 'there': 4438, 'genre': 1888, 'himself': 2111, 'similar': 3978, 'wont': 4932, 'cult': 1077, 'let': 2579, 'alone': 194, '100': 1, 'still': 4188, 'personal': 3240, 'touches': 4535, 'end': 1468, 'instantly': 2306, 'forgettable': 1794, 'regular': 3592, 'worth': 4953, 'give': 1912, '10': 0, 'directorial': 1265, 'credit': 1049, 'beyond': 476, 'sea': 3838, 'better': 472, 'effort': 1432, 'maybe': 2776, 'succeed': 4262, 'rating': 3529, 'misses': 2868, 'mark': 2739, 'between': 475, 'gone': 1935, 'missing': 2869, 'nasty': 2968, 'means': 2783, 'develop': 1222, 'bomb': 531, 'capable': 672, 'destruction': 1216, 'chuck': 812, 'previous': 3387, 'daughter': 1121, 'jennifer': 2392, 'set': 3898, 'stop': 4201, 'another': 250, 'dealt': 1138, 'year': 4978, 'events': 1536, '11': 2, 'filmed': 1717, '2001': 31, 'commented': 900, 'afterwards': 145, 'how': 2181, 'line': 2610, 'york': 4985, 'those': 4460, 'side': 3965, 'kick': 2460, 'ass': 323, 'nothing': 3047, 'else': 1448, 'ever': 1538, 'makes': 2716, 'wonder': 4926, 'did': 1241, 'whether': 4866, 'made': 2697, 'soon': 4074, 'youve': 4995, 'unexpected': 4650, 'least': 2554, 'know': 2489, 'youre': 4992, 'getting': 1901, 'needed': 2988, 'total': 4531, 'crap': 1031, 'we': 4823, 'two': 4620, 'miscast': 2862, 'meat': 2787, 'head': 2057, 'khan': 2459, 'female': 1693, 'poorly': 3329, 'non': 3027, 'existent': 1572, 'telling': 4396, 'editing': 1421, 'speak': 4094, 'dream': 1354, 'drags': 1345, 'bringing': 586, 'girlfriend': 1910, 'dubbing': 1380, 'process': 3412, 'absurd': 73, 'painful': 3171, 'remember': 3616, 'seeing': 3857, 'producer': 3415, 'directors': 1266, 'falling': 1639, 'box': 555, 'office': 3091, 'media': 2789, 'created': 1037, 'lines': 2612, 'idiot': 2218, 'titanic': 4503, 'winter': 4900, 'cruise': 1071, 'business': 633, 'positive': 3346, 'note': 3044, 'dancing': 1107, 'changes': 751, 'style': 4249, 'teacher': 4375, 'looking': 2648, 'im': 2232, 'bag': 384, 'technical': 4381, 'take': 4349, 'thing': 4450, 'remotely': 3623, 'possible': 3350, 'others': 3136, 'pointed': 3317, 'relevant': 3604, 'already': 197, 'enjoyed': 1486, 'hadnt': 2004, 'included': 2262, 'sentimental': 3882, 'anywhere': 263, 'nowhere': 3056, 'space': 4090, 'instant': 2305, 'death': 1141, 'crew': 1053, 'equally': 1510, 'putting': 3482, 'nonsense': 3030, 'ahead': 159, 'everything': 1544, 'completely': 922, 'ruined': 3751, 'value': 4709, 'had': 2003, 'left': 2561, 'surprised': 4313, 'garbage': 1870, 'havent': 2053, 'save': 3794, 'yourself': 4993, '13': 4, 'tried': 4584, 'hate': 2046, 'retarded': 3663, 'sucks': 4271, 'personally': 3243, 'insulting': 2310, 'fairy': 1632, 'believe': 454, 'ought': 3138, 'heads': 2059, 'huh': 2187, 'evil': 1548, 'school': 3813, 'stupidity': 4248, 'parents': 3188, 'godfather': 1927, 'world': 4946, 'especially': 1520, 'overall': 3150, 'say': 3799, 'annoying': 249, 'eyes': 1613, 'captures': 678, 'long': 2644, 'college': 875, 'moment': 2886, 'probably': 3407, 'considered': 951, 'higher': 2101, 'education': 1424, 'went': 4847, 'aged': 149, '15': 7, '16': 8, 'broad': 590, 'stuck': 4237, 'knife': 2487, 'cinemas': 817, 'saw': 3798, 'packed': 3166, 'house': 2178, 'everybody': 1540, 'seemed': 3862, 'enjoy': 1484, 'grew': 1972, 'forest': 1791, 'dean': 1139, 'took': 4523, 'me': 2778, 'my': 2951, 'running': 3756, 'local': 2634, 'ive': 2372, 'watched': 4813, 'couple': 1016, 'times': 4497, 'mate': 2765, 'stay': 4166, 'forever': 1792, 'collection': 874, 'doesnt': 1309, 'seem': 3861, 'somehow': 4063, 'towards': 4540, 'half': 2007, 'social': 4049, 'brilliantly': 584, 'done': 1322, 'mix': 2876, 'three': 4469, 'lead': 2545, 'lovely': 2671, 'writing': 4971, 'dare': 1113, 'integrity': 2311, 'soundtrack': 4085, 'released': 3603, 'shame': 3918, 'told': 4513, 'originally': 3131, 'stage': 4139, 'quite': 3495, 'sure': 4308, 'liked': 2600, 'references': 3583, 'throughout': 4478, 'thomas': 4458, 'discover': 1279, 'final': 1722, 'start': 4156, 'next': 3007, 'journey': 2421, 'genuinely': 1892, 'piece': 3272, 'making': 2718, 'mario': 2738, 'van': 4713, 'pops': 3332, 'less': 2575, 'five': 1743, 'glenn': 1918, 'longer': 2645, 'ladies': 2506, 'lisa': 2616, 'projects': 3428, 'bobby': 525, 'tough': 4537, 'women': 4923, 'west': 4852, 'four': 1812, 'asian': 314, 'kim': 2475, 'talking': 4360, 'marie': 2737, 'bring': 585, 'market': 2740, 'million': 2847, 'video': 4733, 'double': 1331, 'likely': 2601, 'our': 3139, 'dollars': 1315, 'got': 1944, 'boss': 546, 'release': 3602, 'fan': 1648, 'broadway': 592, 'waited': 4771, 'read': 3543, 'reviews': 3679, 'months': 2897, 'award': 366, 'winning': 4898, 'power': 3359, 'eddie': 1416, 'murphy': 2944, 'jamie': 2379, 'danny': 1112, 'glover': 1923, 'couldnt': 1008, 'stars': 4155, 'definitely': 1162, 'disappointed': 1273, 'finished': 1733, 'product': 3418, 'match': 2762, 'hype': 2207, 'saving': 3797, 'rose': 3739, 'performance': 3228, 'hits': 2125, 'multiple': 2936, 'pay': 3216, 'attention': 345, 'each': 1395, 'am': 204, 'felt': 1692, 'deserved': 1200, 'reviewers': 3678, 'stated': 4161, 'experienced': 1581, 'deserves': 1201, 'strong': 4229, 'presence': 3373, 'voice': 4761, 'comedic': 888, 'talent': 4354, 'hand': 2015, 'skills': 4014, 'extraordinary': 1607, 'ray': 3533, 'extended': 1604, 'fashion': 1659, 'photo': 3257, 'wasnt': 4807, 'make': 2713, 'care': 684, '30': 42, 'minutes': 2859, 'song': 4071, 'solo': 4058, 'often': 3095, 'scrooge': 3837, 'write': 4967, 'review': 3676, 'balance': 387, 'unwatchable': 4682, 'unusual': 4681, 'dull': 1384, 'clichéd': 845, 'musical': 2947, 'numbers': 3061, 'whatever': 4859, 'originality': 3130, 'exists': 1573, 'domestic': 1318, 'setting': 3900, 'lots': 2662, 'fantasy': 1652, 'animation': 242, 'wit': 4908, 'provoking': 3452, 'development': 1225, 'june': 2433, 'dan': 1102, 'appear': 273, 'cant': 671, 'carry': 700, 'team': 4378, 'neither': 2996, 'charismatic': 763, 'sex': 3907, 'appeal': 271, 'both': 547, 'bland': 500, 'billy': 482, 'gray': 1963, 'beautiful': 428, 'costumes': 1006, 'body': 527, 'water': 4816, 'france': 1816, 'sexuality': 3909, 'friendship': 1838, 'slightly': 4029, 'focuses': 1768, 'middle': 2833, 'class': 833, 'teenage': 4389, 'girls': 1911, 'paris': 3189, 'lives': 2628, 'around': 297, 'swimming': 4338, 'ballet': 389, 'central': 735, 'belongs': 460, 'thinks': 4454, 'blonde': 511, 'whom': 4875, 'former': 1800, 'friend': 1835, 'member': 2800, 'somewhat': 4068, 'anne': 246, 'louise': 2666, 'special': 4097, 'truly': 4597, 'promises': 3432, 'offers': 3090, 'essential': 1522, 'quality': 3484, 'girl': 1909, 'suffer': 4275, 'jump': 2429, 'slave': 4022, 'cover': 1022, 'lacking': 2504, 'friends': 1837, 'fate': 1665, 'person': 3238, 'object': 3066, 'resist': 3648, 'wanting': 4790, 'kiss': 2483, 'bed': 436, 'knows': 2493, 'trap': 4563, 'pal': 3177, 'unseen': 4678, 'mother': 2911, 'meet': 2793, 'rescue': 3643, 'looked': 2647, 'opposite': 3123, 'desire': 1205, 'laid': 2508, 'context': 968, 'bay': 416, 'highlight': 2103, 'subtle': 4260, 'madness': 2698, 'shots': 3950, 'pass': 3201, 'quickly': 3491, 'luckily': 2682, 'sense': 3877, 'humor': 2192, 'lets': 2580, 'forget': 1793, 'present': 3374, 'silly': 3976, 'pointless': 3318, 'courage': 1018, 'remains': 3611, 'walks': 4780, 'personalities': 3241, 'course': 1019, 'pleasant': 3302, 'themselves': 4435, 'revelation': 3674, 'drama': 1346, 'interesting': 2325, 'admire': 121, 'jealous': 2388, 'stops': 4203, 'typical': 4623, 'irony': 2357, 'actually': 109, 'decides': 1150, 'holds': 2131, 'mechanical': 2788, 'affair': 135, 'huge': 2185, 'crush': 1072, 'warren': 4801, 'male': 2719, 'element': 1442, 'several': 3905, 'dozen': 1338, 'floor': 1759, 'bodies': 526, 'faces': 1618, 'available': 361, 'noir': 3023, 'masterpieces': 2760, 'nor': 3032, 'comparing': 913, 'alfred': 181, 'hitchcock': 2123, 'stanley': 4148, 'kubrick': 2496, 'merely': 2815, 'against': 147, 'darkness': 1117, 'finish': 1732, 'extent': 1605, 'most': 2909, 'simply': 3986, 'cannot': 670, 'understand': 4643, 'night': 3013, 'dark': 1115, 'loss': 2659, 'however': 2183, 'wouldnt': 4958, 'difference': 1246, 'beginning': 443, 'spanish': 4092, 'nowadays': 3055, 'none': 3028, 'future': 1856, 'learning': 2552, 'worse': 4951, 'words': 4938, 'oscar': 3133, 'winner': 4897, 'justify': 2439, 'horrendous': 2162, 'waiting': 4772, 'daily': 1097, 'home': 2142, 'boring': 543, 'weak': 4824, 'don': 1320, 'money': 2888, 'starts': 4159, 'soft': 4051, 'porn': 3336, 'sequence': 3887, 'art': 304, 'adds': 119, 'discovery': 1282, 'hotel': 2175, 'room': 3735, 'introduces': 2338, 'random': 3514, 'murder': 2939, 'obvious': 3071, 'follows': 1775, 'bizarre': 492, 'surreal': 4317, 'particular': 3194, 'unnecessary': 4672, 'twist': 4617, 'ending': 1471, 'viewer': 4738, 'section': 3853, 'deliberately': 1166, 'offensive': 3086, 'groups': 1981, 'insane': 2296, 'wonderful': 4928, 'bear': 420, 'racial': 3501, 'treats': 4575, 'closing': 859, 'explain': 1586, 'detail': 1217, 'background': 380, 'restaurant': 3658, 'joy': 2422, 'despite': 1211, 'flaws': 1752, 'ultra': 4629, 'light': 2595, 'features': 1680, 'giant': 1905, 'jokes': 2415, 'stinker': 4191, 'although': 201, 'bits': 490, 'funny': 1852, 'romance': 3732, 'romantic': 3733, 'dialogue': 1234, 'flat': 1748, 'sophisticated': 4075, 'amusing': 221, 'whats': 4860, 'recent': 3566, 'ways': 4822, 'complete': 921, 'phony': 3256, 'quotes': 3497, 'critics': 1064, 'un': 4630, 'territory': 4411, 'press': 3379, 'paid': 3169, 'instead': 2307, 'pursuit': 3476, 'lame': 2510, 'catherine': 719, 'jones': 2418, 'self': 3869, 'centered': 733, 'job': 2405, 'practically': 3362, 'junk': 2436, 'looks': 2649, 'comparison': 914, 'weve': 4856, 'heard': 2062, 'years': 4979, 'hard': 2033, 'julia': 2427, 'roberts': 3714, 'john': 2409, 'cusack': 1088, 'sign': 3970, 'doomed': 1327, 'ship': 3934, 'boat': 523, 'forgotten': 1797, 'deal': 1135, 'tell': 4395, 'us': 4690, 'filmmakers': 1720, 'entertaining': 1499, 'flick': 1754, 'considering': 952, 'length': 2569, 'storyline': 4208, 'hardly': 2036, 'touched': 4534, 'brought': 600, 'cinematography': 820, 'recommend': 3571, 'anyone': 259, 'thrillers': 4473, 'disappoint': 1272, 'patrick': 3213, 'jeff': 2390, 'satan': 3787, 'serial': 3889, 'killer': 2470, 'captured': 677, 'detective': 1220, 'russell': 3761, 'lou': 2663, 'diamond': 1236, 'executed': 1565, 'gas': 1874, 'able': 66, 'move': 2921, 'spirit': 4113, 'continue': 969, 'attractive': 351, 'psychic': 3456, 'tracy': 4546, 'sister': 4001, 'attempts': 343, 'concept': 930, 'possibilities': 3348, 'ultimately': 4628, 'supernatural': 4302, 'horror': 2168, 'thrilling': 4474, 'scary': 3807, 'sell': 3871, 'cynical': 1093, 'stereotype': 4178, 'featured': 1679, 'doing': 1312, 'creepy': 1052, 'climax': 849, 'rather': 3528, 'acceptable': 81, 'rate': 3526, 'average': 362, 'therefore': 4439, 'admittedly': 123, 'expectations': 1576, 'whose': 4877, 'lack': 2502, 'size': 4012, 'ego': 1435, 'cartoon': 704, 'per': 3223, 'anti': 254, 'creation': 1040, 'shown': 3959, 'utter': 4701, 'thoughts': 4464, 'visually': 4758, 'pleased': 3305, 'pacing': 3163, 'angles': 237, 'etc': 1527, 'sucked': 4270, 'religion': 3607, 'presented': 3376, 'science': 3816, 'portrayed': 3342, 'creates': 1038, 'monster': 2892, 'weapon': 4828, 'kills': 2474, 'souls': 4080, 'destroy': 1213, 'monsters': 2893, 'cgi': 740, 'using': 4698, 'message': 2819, 'while': 4868, 'idea': 2213, 'ask': 316, 'okay': 3099, 'hear': 2061, 'crowd': 1067, 'immediately': 2242, 'break': 569, 'barely': 399, 'sit': 4003, 'visuals': 4759, 'suck': 4269, 'disbelief': 1277, 'eye': 1611, 'spoilers': 4124, 'follow': 1772, 'scientist': 3818, 'machine': 2693, 'creating': 1039, 'intelligent': 2314, 'humans': 2190, 'use': 4692, 'realizes': 3554, 'fault': 1668, 'gave': 1875, 'heart': 2064, 'earth': 1403, 'finally': 1724, 'slowly': 4032, 'down': 1335, 'survive': 4321, 'walking': 4779, 'scientists': 3819, 'soul': 4079, 'knowing': 2490, 'sees': 3866, 'strange': 4211, 'device': 1227, 'nearby': 2980, 'picks': 3268, 'meets': 2795, 'surviving': 4323, 'robot': 3717, 'fits': 1741, 'perfectly': 3226, 'comes': 891, 'pulling': 3463, 'continues': 971, 'eventually': 1537, 'fallen': 1638, 'returning': 3667, 'planet': 3289, 'heck': 2071, 'split': 4120, 'expect': 1575, 'nine': 3017, 'intellectual': 2312, 'fight': 1707, 'reasonable': 3558, 'success': 4265, 'order': 3126, 'wait': 4770, 'steps': 4177, 'spoil': 4121, 'humble': 2191, 'kay': 2447, 'famous': 1647, 'michael': 2829, 'seeks': 3860, 'peace': 3219, 'stress': 4220, 'moving': 2928, 'childhood': 790, 'village': 4743, 'followed': 1773, 'genius': 1887, 'silence': 3974, 'share': 3920, 'specific': 4099, 'purpose': 3474, 'remarkable': 3613, 'potential': 3355, 'own': 3158, 'short': 3946, 'relationship': 3597, 'tone': 4517, 'deeply': 1156, 'buried': 624, 'within': 4912, 'revealing': 3672, 'shall': 3916, 'mention': 2810, 'main': 2707, 'parts': 3199, 'dramas': 1347, 'unforgettable': 4652, 'emotional': 1459, 'touch': 4533, 'pain': 3170, 'connected': 945, 'test': 4416, 'difficult': 1249, 'fantastic': 1651, 'became': 431, 'feeling': 1685, 'change': 749, 'taste': 4369, 'pleasure': 3306, 'watching': 4815, 'reasons': 3560, 'ill': 2228, 'late': 2523, 'tom': 4514, 'cameron': 661, 'successfully': 4267, 'confused': 941, 'philosophical': 3253, 'mystery': 2956, 'majority': 2712, 'gives': 1914, 'solid': 4057, 'jason': 2383, 'lee': 2559, 'enjoyable': 1485, 'sky': 4017, 'adventure': 130, 'ideas': 2215, 'occur': 3076, 'historical': 2119, 'philosophy': 3254, 'lost': 2660, 'catch': 714, 'facing': 1620, 'demons': 1178, 'full': 1846, 'scope': 3821, 'chooses': 800, 'simplicity': 3984, 'find': 1726, 'happiness': 2031, 'necessary': 2984, 'shadow': 3912, 'doubt': 1332, 'aware': 368, 'circumstances': 822, 'choice': 797, 'powerful': 3360, 'music': 2946, 'particularly': 3195, 'amazing': 209, 'id': 2212, 'substance': 4258, 'dislike': 1288, 'blown': 516, 'elements': 1443, 'genres': 1889, 'books': 536, 'animated': 241, 'adaptation': 113, 'magic': 2703, 'version': 4720, 'faithful': 1634, 'lay': 2542, 'blame': 499, 'lies': 2591, 'pace': 3161, 'generally': 1881, 'happy': 2032, 'filled': 1715, 'becomes': 434, 'tedious': 4387, 'children': 792, 'book': 535, 'achieve': 92, 'childrens': 793, 'amanda': 205, 'root': 3737, 'friendly': 1836, 'under': 4639, 'cruel': 1070, 'mrs': 2930, 'evening': 1534, 'window': 4894, 'spots': 4132, 'massive': 2756, 'figure': 1711, 'street': 4216, 'enormous': 1490, 'discovers': 1281, 'kidnapped': 2466, 'country': 1014, 'fears': 1677, 'eat': 1411, 'relief': 3605, 'turns': 4609, 'sensitive': 3879, 'species': 4098, 'refuses': 3587, 'numerous': 3062, 'queen': 3485, 'england': 1482, 'angela': 232, 'send': 3875, 'army': 295, 'air': 164, 'force': 1786, 'eating': 1413, 'agrees': 157, 'begins': 444, 'dangerous': 1110, 'operation': 3117, 'capture': 676, 'voices': 4763, 'uninspired': 4657, 'similarly': 3980, 'designed': 1203, 'places': 3284, 'occasional': 3074, 'rocks': 3722, 'exactly': 1551, 'lengthy': 2570, 'badly': 383, 'due': 1382, 'sequences': 3888, 'humour': 2194, 'chapter': 757, 'deals': 1137, 'laugh': 2529, 'loud': 2664, 'hilarious': 2106, 'totally': 4532, 'unfunny': 4655, 'expecting': 1578, 'enjoyment': 1488, 'failed': 1626, 'department': 1182, 'unfortunately': 4654, 'must': 2950, 'skip': 4016, 'wars': 4804, 'trilogy': 4586, 'lucas': 2680, 'maker': 2714, 'portray': 3340, 'fall': 1637, '60': 53, '80': 58, 'fights': 1710, 'count': 1010, 'christopher': 811, 'silent': 3975, 'turning': 4608, 'falls': 1640, 'citizen': 824, 'kane': 2442, 'above': 68, 'compare': 911, 'complex': 923, 'brilliance': 582, 'utterly': 4702, 'dimensional': 1253, 'model': 2880, 'vs': 4767, 'fascinating': 1658, 'protagonist': 3441, 'history': 2121, 'feelings': 1686, 'toward': 4539, 'entertainment': 1500, 'anybody': 257, 'episode': 1507, 'season': 3843, 'dvds': 1392, 'intense': 2316, 'bruce': 602, 'rachel': 3500, 'ward': 4793, 'combine': 884, 'modern': 2882, 'offer': 3087, 'intriguing': 2335, 'narration': 2965, 'ex': 1549, 'mental': 2808, 'patient': 3211, 'wow': 4962, 'guy': 2000, 'dumb': 1385, 'co': 867, 'fails': 1628, 'depressing': 1188, 'normally': 3034, 'quirky': 3493, 'crime': 1055, 'agree': 155, 'unknown': 4668, 'status': 4165, 'horribly': 2164, 'honor': 2150, 'hundreds': 2196, 'thousands': 4466, 'british': 589, 'chinese': 796, 'american': 213, 'sadistic': 3768, 'japanese': 2382, 'tortured': 4530, 'bridge': 578, 'built': 618, 'white': 4870, 'disgusting': 1286, 'horrors': 2169, 'committed': 905, 'source': 4086, 'accurate': 90, 'actual': 108, 'steel': 4173, 'wood': 4933, 'survivors': 4325, 'alive': 186, 'today': 4508, 'supposed': 4306, 'represent': 3637, 'murdered': 2940, 'die': 1243, 'disease': 1285, 'hurt': 2202, 'week': 4837, 'brings': 587, 'memories': 2803, 'among': 217, 'showed': 3956, 'ends': 1474, 'holding': 2130, 'position': 3345, 'germany': 1898, 'earlier': 1399, 'format': 1799, 'scottish': 3825, 'robert': 3713, 'hitler': 2124, 'guts': 1999, 'portrayal': 3341, 'screenplay': 3831, 'narrative': 2966, 'audiences': 353, 'psychological': 3458, 'christian': 808, 'track': 4544, 'menacing': 2807, 'hold': 2129, 'germans': 1897, 'attraction': 350, 'convince': 983, 'ingredients': 2289, 'par': 3184, 'criticism': 1063, 'gripping': 1976, 'engaging': 1481, 'amazingly': 210, 'view': 4736, 'sadly': 3769, 'society': 4050, 'loves': 2674, 'ok': 3098, 'admit': 122, '3000': 43, 'mst3k': 2932, 'writers': 4969, 'check': 777, 'site': 4005, 'example': 1553, 'pathetic': 3210, 'direction': 1261, 'perhaps': 3235, 'literally': 2622, 'happen': 2026, 'amount': 219, 'meant': 2784, 'bored': 541, 'ten': 4399, 'asleep': 320, 'during': 1387, 'plenty': 3307, 'screaming': 3827, 'horrible': 2163, 'possibly': 3351, 'gotten': 1947, 'interested': 2324, 'indeed': 2271, 'excellent': 1555, 'genuine': 1891, 'skill': 4013, 'frightening': 1839, 'various': 4715, 'shakespeare': 3915, 'seriously': 3892, 'studio': 4240, 'tragedy': 4551, 'town': 4541, 'energy': 1478, 'shot': 3949, 'hideous': 2098, 'ludicrous': 2685, 'fighting': 1709, 'relate': 3593, 'welcome': 4842, 'joseph': 2419, 'cut': 1089, 'andrews': 229, 'ridiculous': 3693, 'result': 3660, 'alan': 171, 'virtually': 4751, 'deliver': 1169, 'evidence': 1546, 'prince': 3396, 'brief': 579, 'appearances': 275, 'lawrence': 2539, 'authority': 360, 'dignity': 1252, 'versions': 4721, 'unless': 4669, 'uncle': 4636, 'runs': 3757, 'president': 3378, 'issue': 2364, 'thoroughly': 4459, 'issues': 2365, 'widely': 4881, 'questions': 3489, 'fully': 1847, 'visit': 4755, 'movement': 2923, 'confusion': 943, 'curiosity': 1082, 'occasionally': 3075, 'hat': 2045, 'tap': 4364, 'mtv': 2933, 'rent': 3626, 'gangsters': 1869, 'videos': 4734, 'bucks': 606, 'introduction': 2339, 'bollywood': 530, 'hooked': 2153, 'requires': 3642, 'once': 3106, 'allow': 189, 'enjoying': 1487, 'songs': 4072, 'superb': 4296, 'catchy': 717, 'compelling': 916, 'kapoor': 2443, 'surely': 4309, 'actresses': 106, 'locations': 2636, 'colour': 880, 'powers': 3361, 'russian': 3762, 'sci': 3815, 'fi': 1701, 'sword': 4340, 'standard': 4144, 'stock': 4193, 'revolves': 3682, 'boy': 557, 'family': 1645, 'wishes': 4906, 'anger': 235, 'allows': 192, 'arm': 292, 'skin': 4015, 'driven': 1365, 'returns': 3668, 'turn': 4605, 'encounters': 1467, 'encounter': 1466, 'leaves': 2556, 'ground': 1979, 'vengeance': 4719, 'cross': 1066, 'mafia': 2700, 'highly': 2105, 'bold': 528, 'colors': 879, 'extreme': 1609, 'core': 995, 'beautifully': 429, 'details': 1219, 'odd': 3080, 'refreshing': 3586, 'worry': 4950, 'pictures': 3270, 'horrific': 2166, 'desperation': 1210, 'struggle': 4234, 'tragic': 4552, 'entry': 1504, 'clichés': 846, 'absolutely': 72, 'awful': 372, 'stooges': 4200, 'zero': 4996, 'imdb': 2240, 'begin': 442, 'changed': 750, 'word': 4937, 'waste': 4808, 'trash': 4565, 'installment': 2303, 'notorious': 3051, 'discovered': 1280, 'producers': 3416, 'amateur': 206, 'tape': 4365, 'digital': 1251, 'bottom': 551, 'frame': 1815, 'presents': 3377, 'woman': 4921, 'torture': 4529, 'killing': 2472, 'victim': 4729, 'beaten': 424, 'raw': 3532, 'pulled': 3462, 'hammer': 2014, 'forth': 1804, 'womans': 4922, 'burn': 625, 'hot': 2174, 'drop': 1369, 'live': 2625, 'burns': 628, 'received': 3564, 'charlie': 765, 'believing': 457, 'contain': 962, 'attempted': 341, 'distribution': 1298, 'united': 4664, 'states': 4163, 'fbi': 1675, 'investigation': 2343, 'revealed': 3671, 'viewers': 4739, 'sick': 3963, 'effects': 1431, 'staged': 4140, 'comic': 893, 'artist': 307, 'directed': 1259, 'third': 4455, 'fourth': 1813, 'episodes': 1508, 'clear': 839, 'rooms': 3736, 'jane': 2380, 'fonda': 1777, 'de': 1131, 'niro': 3019, 'portrays': 3344, 'gold': 1932, 'father': 1666, 'elderly': 1440, 'anymore': 258, 'cinematic': 818, 'bette': 471, 'pull': 3461, 'loved': 2670, 'hours': 2177, 'con': 928, 'level': 2584, 'near': 2979, 'ring': 3698, 'rich': 3685, 'folks': 1771, 'everyone': 1542, 'knew': 2486, 'stolen': 4195, 'month': 2896, 'victims': 4730, 'smile': 4036, 'face': 1616, 'compared': 912, 'neighbor': 2992, 'greatest': 1966, 'experience': 1580, 'mind': 2849, 'drag': 1342, 'rise': 3702, 'sorry': 4076, 'surprises': 4314, 'editor': 1423, 'documentary': 1307, 'la': 2500, 'al': 170, 'nude': 3058, 'rare': 3523, 'led': 2558, 'vote': 4766, 'scenario': 3808, 'errors': 1516, 'wish': 4904, 'according': 88, 'scarecrow': 3804, 'remembered': 3617, 'returned': 3666, 'clips': 852, 'civilization': 827, 'rising': 3703, 'cool': 989, 'glory': 1922, 'cg': 739, 'older': 3101, 'early': 1400, '90s': 61, 'experiments': 1584, 'screening': 3830, 'glad': 1916, 'sub': 4252, 'kids': 2467, 'adults': 126, 'laughing': 2533, 'slap': 4018, 'stick': 4185, 'god': 1926, 'hit': 2122, 'juvenile': 2441, 'predictable': 3367, 'fill': 1714, 'empty': 1465, 'relationships': 3598, 'forced': 1787, 'charm': 767, 'stands': 4147, 'decent': 1147, 'wallace': 4782, 'imagery': 2234, 'failure': 1629, 'parent': 3187, 'mindless': 2851, 'cheap': 774, 'borrowed': 545, 'hidden': 2096, 'dolph': 1317, 'cheesy': 781, 'somewhere': 4069, 'dropped': 1370, 'ball': 388, 'butt': 638, 'kicking': 2462, 'monk': 2889, 'travels': 4569, 'key': 2458, 'door': 1328, 'beneath': 464, '2000': 30, 'battle': 414, 'jumps': 2432, 'hell': 2077, 'naturally': 2974, 'ride': 3692, 'chased': 770, 'possessed': 3347, 'awkward': 374, 'cheese': 780, 'factor': 1622, 'battles': 415, 'usually': 4700, 'private': 3404, 'ryan': 3765, 'sudden': 4272, 'wounded': 4961, 'soldiers': 4054, 'explosion': 1596, 'mid': 2832, 'performed': 3230, 'countless': 1012, 'until': 4680, 'cried': 1054, 'combat': 882, 'german': 1896, 'spoken': 4126, 'single': 3996, 'performer': 3231, 'sounds': 4084, 'except': 1556, 'laughs': 2534, 'corny': 997, 'haunted': 2050, 'open': 3112, 'scares': 3806, 'weird': 4841, 'showing': 3958, 'signs': 3973, 'bunch': 623, 'accept': 80, 'ghosts': 1903, 'rubber': 3747, 'aspects': 322, 'twists': 4619, 'terms': 4406, 'awake': 365, 'irrelevant': 2358, 'seconds': 3848, 'willing': 4889, '35': 45, 'ghost': 1902, 'itll': 2369, 'front': 1841, 'mission': 2870, 'batman': 413, 'robin': 3715, 'rank': 3518, 'yes': 4982, 'ranks': 3519, 'lower': 2677, 'incoherent': 2265, 'belief': 451, 'please': 3304, 'subject': 4253, 'youll': 4988, 'following': 1774, 'morning': 2906, 'camp': 662, 'sat': 3786, 'naked': 2959, 'plastic': 3294, 'involved': 2346, 'cash': 709, 'credits': 1050, 'throw': 4479, 'touching': 4536, 'promise': 3430, 'prove': 3445, 'speed': 4103, 'picture': 3269, 'thank': 4421, 'support': 4303, 'faith': 1633, 'son': 4070, 'bothered': 549, 'theaters': 4428, 'hearing': 2063, 'delight': 1167, 'myself': 2953, 'user': 4696, 'comments': 901, 'impressed': 2251, 'talk': 4358, 'diana': 1237, 'fighter': 1708, 'helps': 2082, 'amazed': 208, 'michelle': 2830, 'rough': 3741, 'matter': 2769, 'slightest': 4028, 'finding': 1727, 'herself': 2092, 'festival': 1697, 'intrigued': 2334, 'documentaries': 1306, '25': 40, 'forbidden': 1785, 'lie': 2590, 'losing': 2658, 'interest': 2323, 'fame': 1642, 'fortune': 1806, 'sorts': 4078, 'concerning': 933, 'muslim': 2949, 'holes': 2133, 'leading': 2547, 'public': 3460, 'covers': 1024, 'company': 910, 'novel': 3052, 'fiction': 1702, 'anna': 245, 'study': 4242, 'endless': 1473, 'interviews': 2330, 'truth': 4599, 'easy': 1410, 'worried': 4949, 'portrait': 3339, 'return': 3665, 'facts': 1624, 'puts': 3481, 'pieces': 3273, 'incredible': 2269, 'extremely': 1610, 'web': 4833, 'uses': 4697, 'interview': 2329, 'footage': 1782, 'exist': 1569, 'ourselves': 3140, 'reading': 3544, 'australian': 357, 'receive': 3563, 'awards': 367, 'killers': 2471, 'motivation': 2914, 'depth': 1190, 'hill': 2108, 'pile': 3275, 'surprise': 4312, 'decide': 1148, 'embarrassment': 1455, 'offered': 3088, 'starting': 4158, 'reference': 3582, 'undoubtedly': 4648, 'slasher': 4020, 'flicks': 1755, 'proves': 3447, 'theory': 4437, 'chick': 786, 'thousand': 4465, 'rated': 3527, 'negative': 2991, 'scores': 3823, 'system': 4345, 'ps': 3453, 'rented': 3628, 'purely': 3472, 'began': 441, 'child': 789, 'inappropriate': 2259, 'scare': 3803, 'cases': 708, 'caused': 724, 'physical': 3262, 'breath': 573, 'wasted': 4809, 'major': 2711, 'disappointment': 1275, 'terror': 4412, 'nazi': 2977, 'recorded': 3574, 'naive': 2958, 'jewish': 2401, 'community': 908, 'combined': 885, 'related': 3594, 'cultural': 1078, 'worlds': 4947, 'unique': 4662, 'expression': 1602, 'hatred': 2049, 'hope': 2155, 'reach': 3536, 'cannibal': 669, 'grave': 1962, 'plans': 3292, 'onto': 3111, 'zombie': 4997, 'crazy': 1035, 'city': 825, 'drug': 1373, 'case': 707, 'thinking': 4453, 'leave': 2555, 'baby': 376, 'doll': 1313, 'rubbish': 3748, 'dr': 1340, 'vincent': 4746, 'gore': 1941, 'struggles': 4235, 'animal': 239, 'stomach': 4196, 'makeup': 2717, 'foot': 1781, 'rape': 3521, 'toy': 4542, '20': 29, 'ago': 154, 'copy': 994, 'mr': 2929, 'explains': 1589, 'area': 286, 'feet': 1688, 'ran': 3513, 'title': 4504, 'produce': 3413, 'blend': 504, 'hung': 2197, 'picked': 3266, 'everyday': 1541, 'unconvincing': 4638, 'moral': 2902, 'convey': 982, 'treat': 4572, 'treated': 4573, 'wife': 4884, 'says': 3801, 'passes': 3203, 'adam': 111, 'sandler': 3781, 'decided': 1149, 'buddies': 608, 'shocked': 3939, '12': 3, 'horrid': 2165, 'realized': 3553, 'opinion': 3118, 'crappy': 1032, 'eva': 1531, 'lake': 2509, 'bell': 458, 'stole': 4194, 'surprisingly': 4316, 'tie': 4488, 'dies': 1245, 'wedding': 4836, 'husband': 2204, 'fetched': 1698, 'worthwhile': 4955, 'adams': 112, 'doctor': 1304, 'karen': 2444, 'lousy': 2667, 'basic': 406, 'values': 4710, 'unpleasant': 4674, 'turned': 4606, 'pregnant': 3369, 'kept': 2456, 'yeah': 4977, 'entirely': 1503, 'nonetheless': 3029, 'kid': 2464, 'certain': 737, 'plain': 3286, 'comical': 894, 'reviewer': 3677, 'primary': 3394, 'list': 2617, 'favorites': 1672, 'brian': 576, 'smart': 4035, 'golden': 1934, 'ended': 1470, 'blank': 501, 'enter': 1494, 'temple': 4398, 'sits': 4006, 'bird': 484, 'cage': 645, 'impression': 2252, 'taking': 4352, 'jackson': 2375, 'titled': 4505, 'wooden': 4934, '1980s': 21, 'pop': 3330, 'heavily': 2069, '2004': 34, 'dated': 1119, 'bloody': 513, 'serious': 3891, 'screenwriter': 3833, 'equal': 1509, 'martial': 2747, 'arts': 310, 'disaster': 1276, 'redeeming': 3577, 'streisand': 4218, 'impossible': 2249, 'listen': 2619, 'struggling': 4236, 'number': 3060, 'edited': 1420, 'properly': 3437, 'band': 391, 'wide': 4880, 'dynamic': 1394, 'decisions': 1152, 'brave': 567, 'holly': 2136, 'small': 4033, 'texas': 4418, 'sings': 3997, 'yellow': 4981, 'competition': 918, 'grows': 1985, 'colorful': 878, 'singing': 3995, 'virginia': 4750, 'outstanding': 3147, 'nick': 3012, 'kudos': 2497, 'gem': 1877, 'definite': 1161, 'conclusion': 936, 'individual': 2277, '1960s': 15, 'television': 4394, 'closely': 855, 'sam': 3777, 'biggest': 480, 'claim': 828, 'magnificent': 2705, 'flop': 1760, 'tribute': 4581, 'iron': 2354, '1950s': 14, 'raymond': 3534, 'synopsis': 4344, 'nose': 3037, 'twisted': 4618, 'saga': 3773, 'theme': 4433, 'hollywoods': 2138, 'alex': 179, 'gordon': 1940, 'richard': 3686, 'favorite': 1671, 'vehicle': 4718, 'roger': 3724, 'manager': 2724, 'factory': 1623, 'china': 795, 'sold': 4052, 'claims': 830, 'opportunities': 3120, 'provides': 3450, 'bleak': 503, 'contrast': 975, 'filmmaker': 1719, 'landing': 2512, 'clearly': 840, 'serves': 3895, 'sympathetic': 4342, 'lawyer': 2541, 'kenneth': 2455, 'branagh': 564, 'learn': 2550, 'defense': 1159, 'attorney': 348, 'criminals': 1058, 'crisis': 1060, 'safety': 3772, 'beat': 423, 'satisfying': 3791, 'debut': 1143, 'feature': 1678, 'impressive': 2253, 'todd': 4510, 'vision': 4754, 'command': 897, 'mature': 2773, 'professional': 3421, 'serve': 3893, 'forward': 1808, 'paint': 3173, 'scripts': 3836, 'caliber': 649, 'working': 4944, 'usual': 4699, 'scott': 3824, 'susan': 4326, 'comment': 898, 'bought': 552, 'rental': 3627, 'hamilton': 2012, 'writer': 4968, 'avoid': 363, 'run': 3755, 'pushing': 3479, 'form': 1798, 'homage': 2141, 'tim': 4494, 'burton': 630, 'fresh': 1833, 'guarantee': 1987, 'beauty': 430, 'mentioned': 2811, 'lucky': 2683, 'harris': 2038, 'website': 4834, 'believed': 455, 'searching': 3842, 'buying': 641, 'incredibly': 2270, 'boot': 538, 'fictional': 1703, 'sean': 3840, 'gritty': 1977, 'nervous': 2999, 'laughter': 2535, 'shock': 3938, 'hoped': 2156, 'appreciate': 279, 'heston': 2094, 'surprising': 4315, 'lacked': 2503, 'settings': 3901, 'written': 4972, 'loaded': 2632, 'shines': 3932, 'painfully': 3172, 'conflict': 939, 'manage': 2722, 'magical': 2704, 'dress': 1357, 'steven': 4182, 'convinced': 984, 'younger': 4990, 'sappy': 3784, 'rarely': 3524, 'stand': 4143, 'stuff': 4243, 'drive': 1363, 'dude': 1381, '24': 39, 'hour': 2176, 'period': 3236, 'stale': 4141, 'living': 2629, 'san': 3780, 'francisco': 1819, 'unrealistic': 4677, 'recall': 3562, 'mall': 2720, 'recording': 3575, 'artists': 309, 'sweet': 4336, 'artificial': 306, 'experiment': 1583, 'secondly': 3847, 'manner': 2729, 'buy': 640, 'dialogs': 1233, 'expected': 1577, 'adapted': 114, 'simple': 3983, 'pure': 3471, 'credible': 1048, 'providing': 3451, 'ears': 1402, 'jean': 2389, 'paul': 3214, 'jerk': 2395, 'proud': 3444, 'et': 1526, 'rendition': 3625, 'classics': 837, 'intention': 2319, 'ralph': 3510, 'casting': 711, 'decision': 1151, 'contemporary': 965, 'succeeds': 4264, 'viewing': 4740, 'abysmal': 76, 'talents': 4356, 'project': 3427, 'hire': 2116, 'global': 1920, 'warming': 4795, 'topic': 4526, 'discussion': 1284, 'failing': 1627, 'spending': 4106, 'scientific': 3817, 'current': 1084, 'ice': 2210, 'asked': 317, 'advance': 127, 'field': 1704, 'asking': 318, 'threatening': 4468, 'hoping': 2160, 'chose': 804, 'rip': 3700, 'omen': 3104, 'headed': 2058, 'embarrassing': 1454, 'cute': 1090, 'crude': 1069, 'disney': 1289, 'bo': 521, 'uk': 4626, 'sun': 4292, 'news': 3005, 'moore': 2901, 'blue': 518, 'breasts': 572, 'disc': 1278, 'bargain': 400, 'tarzan': 4367, 'ape': 266, 'nominated': 3025, 'ms': 2931, 'derek': 1192, 'offended': 3085, 'spot': 4131, 'peter': 3247, 'falk': 1636, 'forgive': 1795, 'columbo': 881, 'hated': 2047, 'print': 3399, 'santa': 3783, 'ie': 2221, 'deadly': 1133, 'christmas': 810, 'reputation': 3640, 'mothers': 2912, 'fat': 1663, 'segment': 3867, 'arrive': 300, 'witness': 4914, 'apparently': 270, 'messed': 2821, 'dad': 1095, 'leg': 2562, 'disturbed': 1299, '1980': 20, 'alike': 185, 'blah': 496, 'building': 615, 'graphic': 1958, 'card': 681, 'upset': 4687, 'solution': 4059, 'mess': 2818, 'eve': 1532, 'suspense': 4330, 'nature': 2975, 'delivered': 1170, 'adorable': 124, 'generations': 1884, 'embarrassed': 1453, 'greek': 1970, 'howard': 2182, 'miss': 2866, 'mysterious': 2955, 'unbelievably': 4635, 'thin': 4449, 'vast': 4716, 'noise': 3024, 'dreadful': 1353, 'brain': 562, 'italian': 2367, 'tear': 4379, 'appears': 278, 'carter': 703, 'screens': 3832, 'recently': 3567, 'ellen': 1446, 'twins': 4616, 'hang': 2022, 'brothers': 599, 'funniest': 1851, 'theatre': 4429, 'jessica': 2398, 'simpson': 3987, 'marketing': 2741, 'blond': 510, 'chances': 748, 'add': 115, 'wilson': 4891, 'apparent': 269, 'andy': 230, 'dick': 1239, 'stays': 4169, 'cousin': 1021, 'false': 1641, 'dire': 1257, 'unbearable': 4633, 'spare': 4093, 'sexy': 3911, 'nelson': 2997, 'latin': 2527, 'european': 1530, 'convoluted': 987, 'favor': 1670, 'sally': 3776, 'constant': 957, 'curious': 1083, 'leonard': 2572, 'goldberg': 1933, 'hiding': 2099, 'closet': 858, 'guessing': 1991, 'mistaken': 2872, 'contract': 973, 'enters': 1496, 'dennis': 1179, 'hopper': 2161, 'appearance': 274, 'matters': 2770, 'student': 4238, 'kung': 2498, 'fu': 1844, 'wondering': 4930, 'america': 212, 'suicide': 4283, 'demon': 1177, 'bible': 477, 'intelligence': 2313, 'further': 1853, 'sum': 4289, 'train': 4556, 'cost': 1003, 'government': 1948, 'anyways': 262, 'matthew': 2772, 'training': 4558, 'remind': 3618, 'guessed': 1990, 'intentions': 2321, 'agent': 150, 'disappear': 1270, 'large': 2517, 'guest': 1992, 'staying': 4168, 'sends': 3876, 'finest': 1730, 'martin': 2748, 'lewis': 2586, 'turner': 4607, 'learns': 2553, 'lonely': 2643, 'mom': 2885, 'date': 1118, 'radio': 3504, 'football': 1783, 'thugs': 4484, 'seat': 3845, 'epic': 1506, 'worker': 4942, 'metal': 2823, 'rural': 3758, 'revolution': 3680, 'worthy': 4956, 'names': 2963, 'cuba': 1075, 'common': 906, 'rambo': 3511, 'peoples': 3222, 'honest': 2146, 'dealing': 1136, 'excessive': 1560, 'narrator': 2967, 'fair': 1630, 'underlying': 4641, 'lifestyle': 2593, 'julie': 2428, 'gay': 1876, 'aids': 161, 'flow': 1762, 'directly': 1263, 'impact': 2244, 'grace': 1950, 'frequently': 1832, 'stupid': 4247, 'english': 1483, 'lovers': 2673, 'across': 96, 'bedroom': 437, 'describe': 1194, 'drivel': 1364, 'neat': 2982, 'tied': 4489, 'nurse': 3063, 'subtlety': 4261, 'arrogant': 303, 'trust': 4598, 'maintain': 2710, 'path': 3209, 'wealth': 4826, 'clever': 841, 'commentary': 899, 'remarks': 3615, 'insight': 2298, 'intentionally': 2320, 'crafted': 1029, 'limited': 2606, 'praise': 3364, 'explore': 1594, 'complexity': 924, 'abuse': 74, 'illness': 2230, 'chemistry': 782, 'held': 2074, 'overlook': 3153, 'flashbacks': 1747, 'added': 116, 'evident': 1547, 'dramatic': 1348, 'event': 1535, 'candy': 668, 'era': 1513, 'include': 2261, 'companion': 909, 'angels': 234, 'jeffrey': 2391, '1990s': 25, 'network': 3000, 'entertain': 1497, 'trailer': 4554, 'park': 3190, 'hanging': 2023, 'mouth': 2920, 'dozens': 1339, 'existence': 1571, 'fathers': 1667, 'aired': 165, 'americans': 214, 'becoming': 435, 'jobs': 2406, 'endure': 1475, 'loses': 2657, 'streets': 4217, 'melting': 2799, 'pot': 3354, 'hyde': 2206, 'sing': 3992, 'severe': 3906, 'suffice': 4279, 'superficial': 4298, 'superior': 4300, 'teen': 4388, 'canada': 666, 'destroyed': 1214, 'king': 2479, 'gender': 1878, 'hair': 2005, 'react': 3540, 'enemy': 1477, 'joey': 2408, 'nobody': 3022, 'cause': 723, 'comfortable': 892, 'curse': 1086, 'personality': 3242, 'died': 1244, 'born': 544, 'besides': 468, 'quick': 3490, 'humorous': 2193, 'recognition': 3568, '17': 9, 'breaks': 571, 'rid': 3690, 'provided': 3449, 'enthusiasm': 1501, 'youth': 4994, 'represented': 3638, 'hippie': 2115, 'birth': 486, 'represents': 3639, 'transformation': 4560, 'suffering': 4277, 'marks': 2742, 'understood': 4647, '70': 55, 'profound': 3423, 'significant': 3972, 'intended': 2315, 'desert': 1198, 'sexual': 3908, 'freedom': 1828, 'perform': 3227, 'hide': 2097, 'couples': 1017, 'appreciated': 280, 'depicted': 1183, 'human': 2188, 'instinct': 2308, 'control': 977, 'method': 2824, 'students': 4239, 'gain': 1863, 'access': 83, 'weapons': 4829, 'fake': 1635, 'professor': 3422, 'flying': 1764, 'stealing': 4171, 'plane': 3288, 'inner': 2292, 'depicts': 1186, 'tale': 4353, 'legendary': 2565, 'rob': 3710, 'roy': 3745, 'primarily': 3393, 'century': 736, 'noted': 3045, 'larger': 2519, 'national': 2970, 'ordinary': 3128, 'mary': 2751, 'sons': 4073, 'fellow': 1691, 'hunting': 2201, 'improve': 2254, 'noble': 3021, 'sleazy': 4023, 'involve': 2345, 'rival': 3706, 'duke': 1383, 'albeit': 173, 'irish': 2353, 'adding': 117, 'loving': 2675, 'loyal': 2679, 'accused': 91, 'villains': 4745, 'ruthless': 3764, 'constantly': 958, 'unaware': 4632, 'identity': 2217, 'aside': 315, 'betty': 474, 'resulting': 3661, 'essentially': 1523, 'depicting': 1184, 'passionate': 3206, 'marriage': 2743, 'pair': 3176, 'expressions': 1603, 'actress': 105, 'brutally': 604, 'raped': 3522, 'pride': 3391, 'reveal': 3670, 'scenery': 3810, 'appropriate': 283, 'grand': 1953, 'captivating': 675, 'featuring': 1681, 'store': 4204, 'wear': 4830, 'remote': 3622, 'displayed': 1292, 'celluloid': 731, 'clue': 864, 'breathtaking': 574, 'wore': 4939, 'vhs': 4725, 'capturing': 679, 'convincing': 985, 'based': 404, 'korean': 2495, 'legend': 2564, 'creatures': 1046, 'reporter': 3636, 'ethan': 1528, 'investigate': 2342, 'arrives': 302, 'sarah': 3785, 'suppose': 4305, 'los': 2653, 'angeles': 233, 'arms': 294, 'dragon': 1344, 'ed': 1415, 'rules': 3754, 'youd': 4987, 'elsewhere': 1449, 'lazy': 2543, 'gentle': 1890, 'riding': 3695, 'road': 3709, 'strangers': 4214, 'advice': 133, 'lesson': 2577, 'stretch': 4221, 'gandhi': 1866, 'explored': 1595, 'south': 4087, 'africa': 141, 'latter': 2528, 'akshay': 169, 'joined': 2413, 'pushed': 3478, 'believes': 456, 'walk': 4775, 'india': 2273, 'bigger': 479, 'leaving': 2557, 'developing': 1224, 'ease': 1404, 'proved': 3446, 'kinds': 2478, 'technique': 4383, 'duo': 1386, 'color': 877, 'costume': 1005, 'progress': 3425, 'silver': 3977, 'till': 4493, 'connection': 946, 'worn': 4948, 'realize': 3552, 'dreams': 1355, 'ages': 152, 'westerns': 4854, 'appalling': 268, 'technically': 4382, 'convincingly': 986, 'devil': 1228, 'experiences': 1582, 'respect': 3652, 'heat': 2067, 'past': 3207, 'flashback': 1746, 'killings': 2473, 'including': 2264, 'actions': 101, 'psycho': 3457, 'perry': 3237, 'required': 3641, 'capital': 673, 'punishment': 3467, 'successful': 4266, 'smith': 4038, 'cold': 872, 'guilt': 1994, 'planned': 3290, 'brutal': 603, 'provide': 3448, 'spectacular': 4101, 'pretending': 3382, 'melodrama': 2797, 'psychotic': 3459, 'imagination': 2236, 'consider': 949, 'images': 2235, 'aspect': 321, 'ironically': 2356, 'necessarily': 2983, 'prefer': 3368, 'nightmare': 3014, 'judge': 2424, 'poetic': 3313, 'eric': 1514, 'attitude': 346, 'notes': 3046, 'frankenstein': 1822, 'creature': 1045, 'poetry': 3314, 'craft': 1028, 'record': 3573, 'deeper': 1155, 'physically': 3263, 'demand': 1174, 'interpretation': 2328, 'artistic': 308, 'effect': 1428, 'literature': 2623, 'drawn': 1351, 'quest': 3486, 'cup': 1080, 'sight': 3969, 'stunning': 4244, 'castle': 712, 'imitation': 2241, 'explicit': 1591, 'slight': 4027, 'minor': 2857, 'shortly': 3947, 'extra': 1606, 'supposedly': 4307, 'mainstream': 2709, 'quiet': 3492, 'deaf': 1134, 'secretary': 3850, 'ruin': 3750, 'theyve': 4446, 'innocent': 2294, 'starred': 4153, '1930s': 11, 'jack': 2373, 'pearl': 3220, 'jimmy': 2403, 'ones': 3108, 'recognize': 3569, 'oliver': 3102, 'mgm': 2828, 'ted': 4386, 'fortunately': 1805, 'shorts': 3948, 'keaton': 2448, 'laurel': 2537, 'hardy': 2037, 'variety': 4714, 'clark': 832, 'joan': 2404, 'lady': 2507, 'oddly': 3081, 'larry': 2520, 'piano': 3264, 'african': 142, 'jungle': 2434, 'structure': 4233, 'apart': 264, 'transition': 4561, 'concerned': 932, 'helping': 2081, 'tend': 4400, 'segments': 3868, 'frustrated': 1842, 'goal': 1925, 'rotten': 3740, 'deaths': 1142, 'disappointing': 1274, 'minute': 2858, 'tour': 4538, 'guide': 1993, 'bus': 631, 'carefully': 689, 'walter': 4784, 'clean': 838, 'pre': 3365, 'code': 869, 'allowed': 190, 'flesh': 1753, 'shocking': 3940, 'race': 3499, 'relations': 3596, 'tommy': 4516, 'voiced': 4762, 'lion': 2614, 'ii': 2226, 'desperate': 1208, 'buck': 605, 'unlike': 4670, '2nd': 41, '2003': 33, 'losers': 2656, 'cube': 1076, 'andrew': 228, 'miller': 2846, 'inventive': 2341, 'traveling': 4568, 'church': 813, 'trip': 4588, 'emotions': 1461, 'unable': 4631, 'moved': 2922, 'understanding': 4645, 'members': 2801, 'cat': 713, 'werent': 4849, 'talked': 4359, 'forgot': 1796, 'cares': 690, 'mike': 2838, 'myers': 2952, 'overly': 3155, 'succeeded': 4263, 'reminded': 3619, 'chase': 769, 'amongst': 218, 'suddenly': 4273, 'solely': 4056, 'score': 3822, 'handled': 2019, 'scripted': 3835, 'acted': 98, 'passing': 3204, '40s': 49, 'clothes': 860, 'grey': 1973, 'margaret': 2735, 'eccentric': 1414, 'developed': 1223, 'females': 1694, 'retired': 3664, 'wacky': 4769, 'beliefs': 452, 'stiff': 4187, 'upper': 4685, 'lose': 2654, 'involves': 2348, 'pants': 3182, 'universal': 4665, 'nearly': 2981, 'incomprehensible': 2267, 'lyrics': 2692, 'logic': 2638, 'figured': 1712, 'aforementioned': 139, 'funnier': 1850, 'sharp': 3922, 'charge': 761, 'uneven': 4649, 'attack': 337, 'caught': 722, 'channel': 753, 'cats': 721, 'dinosaurs': 1256, 'loose': 2650, 'extras': 1608, 'laughable': 2530, 'carradine': 695, 'reminds': 3620, 'popular': 3333, '80s': 59, 'stood': 4199, 'kings': 2481, 'sole': 4055, 'enemies': 1476, 'competent': 917, '3d': 46, 'backgrounds': 381, 'detailed': 1218, 'designs': 1204, 'painting': 3175, 'apartment': 265, 'devoted': 1231, 'six': 4010, 'obscure': 3068, 'describes': 1196, 'tells': 4397, 'limits': 2607, 'trees': 4577, 'secret': 3849, 'description': 1197, 'engage': 1479, 'separate': 3883, 'challenging': 744, 'satire': 3788, 'photos': 3261, 'mirror': 2861, 'composed': 926, 'figures': 1713, 'comedies': 889, 'league': 2549, 'bill': 481, 'sin': 3988, 'contains': 964, 'pet': 3246, 'centers': 734, 'points': 3319, 'damn': 1100, 'hysterical': 2208, 'introduce': 2336, 'activities': 102, 'adult': 125, 'dubbed': 1379, 'emotion': 1458, 'thankfully': 4422, 'messages': 2820, 'inevitably': 2283, 'animals': 240, 'fear': 1676, 'lees': 2560, 'underrated': 4642, '40': 48, 'protagonists': 3442, 'rage': 3505, 'edward': 1426, 'display': 1291, 'whenever': 4863, 'excited': 1561, 'beats': 426, 'phantom': 3251, 'menace': 2806, 'abilities': 64, 'fit': 1740, 'surface': 4310, 'critical': 1062, 'saves': 3796, 'jet': 2400, 'visual': 4757, 'sake': 3775, 'louis': 2665, 'picking': 3267, 'kicks': 2463, 'repeat': 3630, 'comics': 895, 'roots': 3738, 'handful': 2017, 'eyed': 1612, 'wishing': 4907, 'lasted': 2522, 'thief': 4448, 'princess': 3397, 'adventures': 131, 'superman': 4301, 'suspend': 4329, 'horses': 2171, 'favourite': 1673, 'garden': 1872, 'reveals': 3673, 'land': 2511, 'finale': 1723, 'justin': 2440, 'stilted': 4190, 'mildly': 2840, 'glorious': 1921, 'pity': 3281, 'whilst': 4869, 'afford': 138, 'cliché': 844, 'minimal': 2855, 'tricks': 4583, 'masters': 2761, 'hardcore': 2034, 'valuable': 4708, 'center': 732, 'sounded': 4082, 'pitch': 3279, 'studios': 4241, 'blair': 497, 'faster': 1662, 'unfortunate': 4653, 'trapped': 4564, 'island': 2361, 'mansion': 2731, 'eastern': 1408, 'plots': 3310, 'lesser': 2576, 'cringe': 1059, 'linda': 2609, 'pick': 3265, 'intent': 2318, 'anderson': 227, 'celebrity': 729, 'benefit': 465, 'pro': 3406, 'shut': 3961, 'storm': 4206, 'witches': 4910, 'macy': 2695, 'step': 4175, 'criminal': 1057, 'visits': 4756, 'thanks': 4423, 'directs': 1267, 'donald': 1321, 'sutherland': 4333, 'riveting': 3708, 'troubled': 4593, 'meaningful': 2781, 'suspect': 4327, 'fell': 1690, 'atmosphere': 333, 'fest': 1696, 'chilling': 794, 'hed': 2072, 'plus': 3311, 'bore': 540, 'notice': 3048, 'witnessed': 4915, 'motion': 2913, 'timeless': 4496, 'theatrical': 4430, 'remake': 3612, 'speaking': 4095, 'carpenter': 694, 'hopes': 2159, 'addition': 118, 'timothy': 4499, 'nail': 2957, 'singer': 3993, 'crocodile': 1065, 'shoes': 3941, 'mentions': 2813, 'victor': 4731, 'response': 3654, 'won': 4925, 'academy': 77, 'meaning': 2780, 'ireland': 2352, 'political': 3324, 'drunk': 1375, 'wonderfully': 4929, 'blew': 505, 'rush': 3759, 'suggested': 4281, 'phone': 3255, 'resemblance': 3645, 'disturbing': 1300, 'broken': 594, 'rain': 3506, 'weekend': 4838, 'reads': 3545, 'afraid': 140, 'hunt': 2198, 'whoever': 4872, 'wrote': 4974, 'acid': 95, 'virgin': 4749, 'jesus': 2399, 'hurts': 2203, 'needless': 2989, 'ya': 4976, 'wasting': 4810, 'beatty': 427, 'popcorn': 3331, 'pacino': 3164, 'madonna': 2699, 'bob': 524, 'cutting': 1092, 'strip': 4228, 'environment': 1505, 'cars': 702, 'buildings': 616, 'lighting': 2596, 'tad': 4347, 'tends': 4402, 'remarkably': 3614, 'chorus': 803, 'album': 175, 'spoiler': 4123, 'warning': 4800, 'state': 4160, 'levels': 2585, 'presentation': 3375, 'importantly': 2248, 'medium': 2792, 'sitting': 4007, 'qualities': 3483, 'furthermore': 1854, 'imagined': 2239, 'author': 359, 'paper': 3183, 'base': 402, 'whereas': 4865, 'obnoxious': 3067, 'wannabe': 4787, 'party': 3200, 'teaching': 4377, 'teach': 4374, 'barry': 401, 'compelled': 915, 'revenge': 3675, 'empathy': 1462, 'frankly': 1823, '90': 60, 'exciting': 1563, 'monkeys': 2891, 'chosen': 805, 'legs': 2566, 'nevertheless': 3002, 'meaningless': 2782, 'resolution': 3649, 'staring': 4152, 'tired': 4501, 'wall': 4781, 'yelling': 4980, 'landscape': 2513, 'hall': 2009, 'mayor': 2777, 'kevin': 2457, 'officers': 3093, 'questionable': 3488, 'corruption': 1002, 'involving': 2349, 'union': 4661, 'frank': 1821, 'corrupt': 1001, 'bond': 532, 'task': 4368, 'bet': 470, 'problems': 3409, 'expert': 1585, 'shed': 3924, 'build': 614, 'raised': 3508, 'east': 1407, 'translation': 4562, 'differences': 1247, 'striking': 4226, 'warned': 4798, 'suggests': 4282, 'morality': 2903, 'behavior': 446, 'law': 2538, 'knowledge': 2491, 'schools': 3814, 'tradition': 4549, 'doctors': 1305, 'arguably': 289, 'answer': 251, 'views': 4742, 'politics': 3326, 'americas': 215, 'soviet': 4089, 'achieved': 93, 'wing': 4896, 'europe': 1529, 'japan': 2381, 'produced': 3414, 'eight': 1436, 'war': 4792, 'introduced': 2337, 'opens': 3115, 'border': 539, 'mexico': 2827, 'washington': 4806, 'native': 2972, 'laws': 2540, 'davis': 1126, 'kurt': 2499, 'portraying': 3343, 'married': 2744, 'george': 1893, 'woods': 4935, 'fabulous': 1615, 'photography': 3260, 'danger': 1109, 'spoke': 4125, 'desperately': 1209, 'seeking': 3859, 'ensemble': 1492, 'types': 4622, 'switch': 4339, 'wreck': 4965, 'proof': 3434, 'elvira': 1450, 'mistress': 2874, 'valley': 4707, 'vegas': 4717, 'hopeless': 2158, 'receives': 3565, 'aunt': 355, 'minded': 2850, 'daniel': 1111, 'teenagers': 4391, 'morgan': 2905, 'determined': 1221, 'burned': 626, 'showdown': 3955, 'gross': 1978, 'carried': 698, 'gags': 1862, 'props': 3439, 'edie': 1419, 'wondered': 4927, 'attempt': 340, 'wells': 4845, 'montage': 2894, 'titles': 4506, 'strongly': 4231, 'reminiscent': 3621, 'design': 1202, 'ruins': 3752, 'laughably': 2531, '30s': 44, 'technology': 4385, 'speech': 4102, 'ideal': 2214, 'expressed': 1601, 'sir': 4000, 'arthur': 305, 'futuristic': 1857, 'workers': 4943, 'machines': 2694, 'treasure': 4571, 'exposure': 1599, 'nights': 3016, 'reduced': 3579, 'todays': 4509, 'judging': 2425, 'twenty': 4612, 'trek': 4578, 'achievement': 94, 'stopped': 4202, 'builds': 617, 'jim': 2402, 'cary': 706, 'grant': 1956, 'douglas': 1334, 'cole': 873, 'service': 3896, 'ford': 1789, 'learned': 2551, 'stevens': 4183, 'jr': 2423, 'breaking': 570, 'engaged': 1480, 'marry': 2745, 'poem': 3312, 'served': 3894, 'inspiration': 2300, 'racist': 3503, 'makers': 2715, 'effectively': 1430, 'prime': 3395, 'suited': 4286, 'blows': 517, 'mountain': 2917, 'teeth': 4393, 'halloween': 2010, 'mask': 2752, 'haunting': 2051, 'lord': 2652, 'rings': 3699, 'bakshi': 386, 'instance': 2304, 'assault': 324, 'similarities': 3979, 'research': 3644, 'accident': 84, 'heavy': 2070, 'wise': 4903, 'wizard': 4919, 'doom': 1326, 'twice': 4613, 'wears': 4832, 'purple': 3473, 'strangely': 4212, 'sentence': 3881, 'sloppy': 4030, 'visible': 4753, 'dressed': 1358, 'stereotypical': 4180, 'square': 4136, 'everywhere': 1545, 'vaguely': 4706, 'wound': 4960, 'tall': 4362, 'bugs': 613, 'opera': 3116, 'inducing': 2279, 'villain': 4744, 'wearing': 4831, 'pink': 3277, 'alright': 198, 'green': 1971, 'mainly': 2708, 'correct': 1000, 'statement': 4162, 'creative': 1041, 'ups': 4686, 'attempting': 342, 'somebody': 4062, 'infamous': 2284, 'homosexual': 2145, 'information': 2288, 'brooks': 596, 'matched': 2763, 'talks': 4361, 'attacks': 339, 'nancy': 2964, 'sleep': 4024, 'dinner': 1254, 'safe': 3771, 'mexican': 2826, 'ironic': 2355, 'witnesses': 4916, 'widow': 4883, 'ian': 2209, 'leslie': 2574, 'elizabeth': 1445, 'spends': 4107, 'roll': 3728, 'imagine': 2238, 'generation': 1883, 'careers': 687, 'bands': 392, 'bbc': 417, 'pages': 3168, 'escapes': 1519, 'sisters': 4002, 'fatal': 1664, 'responsibility': 3655, 'easier': 1405, 'luck': 2681, 'familys': 1646, 'beloved': 461, 'dialogues': 1235, 'bare': 398, 'responsible': 3656, 'marvelous': 2750, 'bound': 553, 'club': 863, 'dawn': 1127, 'bears': 421, 'grown': 1984, 'caring': 691, '2005': 35, 'gundam': 1997, 'simplistic': 3985, 'emotionally': 1460, 'distinct': 1296, 'suits': 4287, 'soldier': 4053, 'lessons': 2578, 'sacrifice': 3766, 'anime': 243, 'buffs': 612, 'annoyed': 248, 'gory': 1943, 'nicely': 3009, 'bourne': 554, 'super': 4295, 'carries': 699, 'executive': 1567, 'outrageous': 3145, 'rights': 3697, 'seemingly': 3863, 'chair': 742, 'suspenseful': 4331, 'tiresome': 4502, '1990': 24, 'decade': 1144, 'damon': 1101, 'inevitable': 2282, 'agents': 151, 'search': 3841, 'program': 3424, 'heroic': 2090, 'official': 3094, 'illegal': 2229, 'prisoners': 3403, 'allen': 188, 'aid': 160, 'results': 3662, 'miles': 2843, 'stretched': 4222, 'general': 1880, 'fly': 1763, 'location': 2635, 'superhero': 4299, 'warm': 4794, 'grandmother': 1955, 'acts': 107, 'bottle': 550, 'outer': 3143, 'causes': 725, 'torn': 4528, 'jackie': 2374, 'chan': 746, 'advanced': 128, 'antics': 255, 'heaven': 2068, 'smooth': 4041, 'hey': 2095, 'deserve': 1199, 'ear': 1397, 'industry': 2280, 'financial': 1725, 'tales': 4357, '50': 51, 'cameras': 660, 'fox': 1814, 'kirk': 2482, 'standards': 4145, 'regarding': 3589, 'stan': 4142, 'canadian': 667, 'reaction': 3541, 'terrorists': 4414, 'masses': 2755, 'beating': 425, 'snl': 4044, 'commercial': 902, 'cardboard': 682, 'sitcom': 4004, 'lifetime': 2594, 'wrestling': 4966, 'wandering': 4785, 'granted': 1957, 'parker': 3191, 'stone': 4197, 'creators': 1044, 'sport': 4129, 'basketball': 409, 'letter': 2581, 'spoof': 4127, 'delivers': 1172, 'fashioned': 1660, 'appealing': 272, 'witch': 4909, 'hearted': 2065, 'charming': 768, 'carrie': 697, 'sent': 3880, 'price': 3389, 'travel': 4567, 'endearing': 1469, 'previously': 3388, 'memorable': 2802, 'tunes': 4603, 'tiger': 4491, 'lover': 2672, 'jumping': 2431, 'regret': 3591, 'miike': 2837, 'missed': 2867, 'pseudo': 3454, 'merits': 2817, 'johnny': 2410, 'honesty': 2148, 'downright': 1337, 'notably': 3042, 'subjects': 4254, 'ratings': 3530, 'suggest': 4280, 'paying': 3217, 'houses': 2180, 'harder': 2035, 'associated': 327, 'river': 3707, 'graphics': 1959, 'signed': 3971, 'weakest': 4825, 'opportunity': 3121, 'continuity': 972, 'foreign': 1790, 'hills': 2109, 'stunts': 4246, 'heroes': 2089, 'bullets': 621, 'heights': 2073, 'sincere': 3991, 'dear': 1140, 'preview': 3386, 'trial': 4580, 'partly': 3197, 'coherent': 871, 'mistakes': 2873, 'spin': 4112, 'pie': 3271, 'mile': 2842, '1940s': 13, 'greed': 1968, 'moody': 2899, 'neo': 2998, 'strikes': 4225, 'regard': 3588, 'flawed': 1750, 'normal': 3033, 'unlikely': 4671, 'explaining': 1588, 'twilight': 4614, 'zone': 4999, 'dub': 1378, 'audio': 354, 'bathroom': 412, 'ashamed': 312, 'renting': 3629, 'seagal': 3839, 'dogs': 1311, 'simon': 3982, 'domino': 1319, 'gerard': 1895, 'le': 2544, 'excitement': 1562, 'french': 1830, 'subtitles': 4259, 'watchable': 4812, 'fool': 1779, 'barbara': 397, 'snake': 4042, 'nudity': 3059, 'topless': 4527, 'flash': 1745, 'blind': 506, 'post': 3352, 'albert': 174, 'charlotte': 766, 'wake': 4774, 'equivalent': 1512, 'brando': 566, 'sinatra': 3989, 'simmons': 3981, 'proceedings': 3410, 'cuts': 1091, 'drew': 1360, 'musicals': 2948, 'changing': 752, 'manhattan': 2726, 'dolls': 1316, 'legal': 2563, 'focused': 1767, 'complaint': 920, 'trailers': 4555, 'punch': 3466, 'trade': 4547, 'cheated': 775, 'rushed': 3760, 'von': 4765, 'join': 2412, 'sleeping': 4025, 'secretly': 3851, 'underground': 4640, 'target': 4366, 'sides': 3967, 'colonel': 876, 'forces': 1788, 'spy': 4135, 'unpredictable': 4675, 'snow': 4045, 'randomly': 3515, 'counter': 1011, 'max': 2774, 'prevent': 3385, 'assume': 328, 'relies': 3606, 'storytelling': 4209, 'molly': 2884, 'soap': 4047, 'mans': 2730, 'sports': 4130, 'seasons': 3844, 'cabin': 643, 'fever': 1699, 'closer': 856, 'scream': 3826, 'analysis': 224, 'alas': 172, 'unoriginal': 4673, 'pretentious': 3383, 'sequels': 3886, 'argue': 290, 'dying': 1393, 'invisible': 2344, 'virus': 4752, 'hired': 2117, 'neighbors': 2994, 'repeated': 3631, 'hilariously': 2107, '60s': 54, '70s': 56, 'wes': 4851, 'craven': 1034, 'lynch': 2691, 'definition': 1163, 'tracks': 4545, 'below': 462, 'flight': 1757, 'airplane': 166, 'independent': 2272, 'bank': 394, 'ambitious': 211, 'charisma': 762, 'suit': 4284, 'rebel': 3561, 'estate': 1525, 'meeting': 2794, 'master': 2757, 'shallow': 3917, 'population': 3335, 'boxing': 556, 'drinking': 1362, 'destroying': 1215, 'symbolism': 4341, 'glimpse': 1919, 'terrifying': 4410, 'vivid': 4760, 'endings': 1472, 'efforts': 1433, 'largely': 2518, 'contrived': 976, 'hasnt': 2044, 'idiotic': 2219, 'elvis': 1451, 'worthless': 4954, 'mediocre': 2791, 'selling': 3873, 'image': 2233, 'increasingly': 2268, 'progresses': 3426, 'ruby': 3749, 'ashley': 313, 'prize': 3405, 'flies': 1756, 'florida': 1761, 'beach': 419, 'consistent': 953, 'military': 2844, 'choreographed': 801, 'matrix': 2767, 'rex': 3683, 'rick': 3689, 'stereotypes': 4179, 'terribly': 4408, 'exaggerated': 1552, 'lovable': 2668, 'screams': 3828, 'pleasantly': 3303, 'chris': 806, 'cooper': 990, 'fond': 1776, 'cities': 823, 'eerie': 1427, 'atmospheric': 334, 'vulnerable': 4768, 'liners': 2611, 'wave': 4818, 'ah': 158, 'teens': 4392, 'irritating': 2359, 'pan': 3180, 'cleverly': 842, 'greater': 1965, 'fx': 1858, 'knock': 2488, 'calls': 654, 'dry': 1377, 'strength': 4219, 'yesterday': 4983, 'doubts': 1333, 'overcome': 3151, 'mysteries': 2954, 'floating': 1758, 'gradually': 1952, 'walked': 4776, 'distance': 1294, 'smiling': 4037, 'mere': 2814, 'rolling': 3730, 'overwhelming': 3157, 'realise': 3548, 'costs': 1004, 'waters': 4817, 'museum': 2945, 'homeless': 2143, 'daughters': 1122, 'brazil': 568, 'da': 1094, 'blatant': 502, 'alcoholic': 177, 'husbands': 2205, 'tea': 4373, 'shirt': 3937, 'ensues': 1493, 'freddy': 1826, 'imaginative': 2237, 'develops': 1226, 'escaped': 1518, 'forms': 1801, 'psychiatrist': 3455, 'assigned': 325, 'prisoner': 3402, 'paced': 3162, 'notch': 3043, 'stayed': 4167, 'implausible': 2245, 'established': 1524, 'empire': 1464, 'fed': 1682, 'identify': 2216, 'individuals': 2278, 'tons': 4520, 'brains': 563, 'conversation': 980, 'treatment': 4574, 'mountains': 2918, 'unintentionally': 4659, 'lately': 2524, 'flawless': 1751, 'gorgeous': 1942, 'performs': 3234, 'suspects': 4328, 'beer': 439, 'catches': 715, 'reactions': 3542, 'satisfy': 3790, 'corporate': 998, 'briefly': 580, 'ultimate': 4627, 'presumably': 3380, 'countries': 1013, 'sounding': 4083, 'advertising': 132, 'player': 3298, 'outcome': 3142, 'someones': 4065, 'opposed': 3122, 'discuss': 1283, 'board': 522, 'chess': 783, 'fired': 1735, 'performing': 3233, 'standing': 4146, 'strictly': 4223, 'overlooked': 3154, 'obsessed': 3069, 'choices': 798, 'games': 1865, 'hood': 2151, 'growing': 1983, 'wayne': 4821, 'kissing': 2484, 'crimes': 1056, 'panic': 3181, 'jaw': 2384, 'dropping': 1371, 'tongue': 4518, 'crucial': 1068, 'unit': 4663, 'accents': 79, 'speaks': 4096, 'midnight': 2834, 'cable': 644, 'promised': 3431, 'saturday': 3792, 'misery': 2865, 'nomination': 3026, 'shine': 3931, 'contrary': 974, 'depression': 1189, 'poignant': 3315, 'uwe': 4703, 'boll': 529, 'concerns': 934, 'cheating': 776, 'steal': 4170, 'truck': 4595, 'load': 2631, 'toys': 4543, 'dave': 1123, 'chest': 784, 'perspective': 3245, 'themes': 4434, 'faults': 1669, 'accepted': 82, 'memory': 2804, 'ben': 463, 'johnson': 2411, 'relatively': 3600, 'challenge': 743, '1972': 18, 'spirited': 4114, 'stylish': 4251, 'uncomfortable': 4637, 'brand': 565, 'category': 718, 'lived': 2626, 'hollow': 2135, 'foster': 1809, 'dirty': 1268, 'enjoys': 1489, 'summer': 4291, 'answers': 252, 'initially': 2291, 'hunters': 2200, 'summary': 4290, 'miserably': 2864, 'careful': 688, 'resident': 3647, 'medical': 2790, 'practice': 3363, 'greatly': 1967, 'viewed': 4737, 'busy': 635, 'mars': 2746, 'entertained': 1498, 'rat': 3525, 'spider': 4109, 'influence': 2286, 'drugs': 1374, 'sixties': 4011, 'amounts': 220, 'tree': 4576, 'doors': 1329, 'idiots': 2220, 'harvey': 2042, 'chicago': 785, 'emphasis': 1463, 'overdone': 3152, 'li': 2587, 'culture': 1079, 'insult': 2309, 'handle': 2018, 'testament': 4417, 'humanity': 2189, 'disagree': 1269, 'relative': 3599, 'isolated': 2363, 'scale': 3802, 'choreography': 802, 'opinions': 3119, 'harsh': 2040, 'involvement': 2347, 'religious': 3608, 'journalist': 2420, 'disappeared': 1271, 'subplot': 4255, 'conspiracy': 956, 'inane': 2258, 'sheer': 3925, 'settle': 3902, 'friday': 1834, '13th': 5, 'listed': 2618, 'richards': 3687, 'justice': 2438, 'inept': 2281, 'creator': 1043, 'producing': 3417, 'plague': 3285, '2006': 36, 'taylor': 4372, 'useful': 4694, 'partner': 3198, 'cared': 685, 'championship': 745, 'kennedy': 2454, 'grade': 1951, 'commercials': 903, 'pilot': 3276, 'hopefully': 2157, 'corner': 996, 'characterization': 759, 'alcohol': 176, 'downhill': 1336, 'handed': 2016, 'realism': 3549, 'turkey': 4604, 'fay': 1674, 'grim': 1974, 'blockbuster': 509, 'constructed': 959, 'proper': 3436, 'flaw': 1749, 'spite': 4117, 'managed': 2723, 'round': 3742, 'property': 3438, 'priest': 3392, 'walken': 4777, 'block': 508, 'burning': 627, 'lesbian': 2573, 'selfish': 3870, 'vicious': 4728, 'overrated': 3156, 'goofy': 1939, 'behave': 445, 'content': 966, 'gratuitous': 1961, 'angle': 236, 'regardless': 3590, 'struck': 4232, 'polished': 3323, 'universe': 4666, 'urban': 4688, 'stronger': 4230, 'wealthy': 4827, 'spring': 4134, 'del': 1165, 'watches': 4814, 'thrills': 4475, 'throat': 4476, 'demented': 1176, 'exercise': 1568, 'couldve': 1009, 'heroine': 2091, 'seek': 3858, 'chief': 788, 'stones': 4198, 'manipulative': 2727, 'christ': 807, 'sink': 3999, 'conceived': 929, 'photographed': 3258, 'purchased': 3470, 'purchase': 3469, 'examples': 1554, 'accidentally': 85, 'wind': 4893, 'execution': 1566, 'reflect': 3584, 'warn': 4797, 'robbery': 3711, 'survived': 4322, 'unbelievable': 4634, 'moon': 2900, 'liking': 2604, 'link': 2613, 'usa': 4691, 'online': 3109, 'stranger': 4213, 'computer': 927, 'saved': 3795, 'porno': 3337, 'holy': 2140, 'racism': 3502, 'repeatedly': 3632, 'feminist': 1695, 'theyll': 4444, 'nazis': 2978, 'hitting': 2126, 'clumsy': 866, 'controversial': 978, 'coffee': 870, 'glass': 1917, 'abraham': 69, 'shadows': 3913, 'amateurish': 207, 'zombies': 4998, 'north': 3036, 'depiction': 1185, 'petty': 3249, 'crack': 1027, 'lowest': 2678, 'wicked': 4879, 'trick': 4582, 'gene': 1879, 'aimed': 162, 'vampires': 4712, 'attacked': 338, 'sheriff': 3929, 'hospital': 2172, 'thick': 4447, 'folk': 1770, 'tremendous': 4579, 'resources': 3651, 'draws': 1352, 'exceptionally': 1559, 'farm': 1656, 'continued': 970, 'food': 1778, 'shop': 3945, 'basement': 405, 'aint': 163, 'remain': 3609, 'generated': 1882, 'library': 2589, 'removed': 3624, 'prior': 3400, 'initial': 2290, 'stanwyck': 4149, 'trite': 4589, 'wished': 4905, 'passed': 3202, 'rochester': 3719, 'expensive': 1579, 'powell': 3358, 'dedicated': 1153, 'kate': 2446, 'incident': 2260, 'fred': 1825, 'jumped': 2430, 'tonight': 4519, 'witty': 4917, 'claimed': 829, 'slaughter': 4021, 'childish': 791, 'pokemon': 3320, 'rocket': 3721, 'dickens': 1240, 'bath': 411, 'clown': 862, 'express': 1600, 'drink': 1361, 'landscapes': 2514, 'dig': 1250, 'agreed': 156, 'page': 3167, 'cheek': 779, 'wonders': 4931, 'highlights': 2104, 'hunter': 2199, 'officer': 3092, 'shell': 3927, 'ann': 244, 'lit': 2621, 'blacks': 494, 'critic': 1061, 'innocence': 2293, 'attracted': 349, '14': 6, 'grow': 1982, 'defeat': 1157, 'angel': 231, '75': 57, 'nostalgic': 3039, 'wanna': 4786, 'ships': 3935, 'baker': 385, 'caine': 647, 'triumph': 4590, 'accomplished': 87, 'exceptional': 1558, 'confidence': 938, 'complicated': 925, 'faced': 1617, 'teenager': 4390, 'abandoned': 62, 'fitting': 1742, 'advise': 134, 'repetitive': 3633, 'honestly': 2147, 'duty': 1390, 'nostalgia': 3038, 'jonathan': 2417, 'prom': 3429, 'vacation': 4704, 'avoided': 364, 'descent': 1193, 'sidney': 3968, 'alexander': 180, 'consequences': 947, 'subsequent': 4257, 'clothing': 861, 'notion': 3050, 'subplots': 4256, 'tame': 4363, 'ties': 4490, 'altogether': 202, 'bela': 450, 'lugosi': 2686, 'corpse': 999, 'pat': 3208, 'threat': 4467, 'dracula': 1341, 'karloff': 2445, 'inferior': 2285, 'warriors': 4803, 'moronic': 2907, 'splatter': 4118, 'carrying': 701, 'loads': 2633, 'throws': 4482, 'brosnan': 597, 'annie': 247, 'birthday': 487, 'conversations': 981, 'circle': 821, 'elm': 1447, 'tune': 4602, 'heres': 2087, 'string': 4227, 'conflicts': 940, 'cry': 1073, 'melodramatic': 2798, 'montana': 2895, 'sunday': 4293, 'afternoon': 144, 'intimate': 2331, 'shoots': 3944, 'guns': 1998, 'everyones': 1543, '50s': 52, 'paranoia': 3186, 'communist': 907, 'werewolf': 4850, 'kelly': 2452, 'driver': 1366, 'lloyd': 2630, 'shape': 3919, 'sticks': 4186, 'inspiring': 2302, 'university': 4667, 'occurred': 3077, '2002': 32, 'likable': 2598, 'semi': 3874, 'ripped': 3701, 'creep': 1051, 'conventional': 979, 'defend': 1158, 'francis': 1818, 'construction': 960, 'cook': 988, 'obsession': 3070, 'jay': 2386, 'minds': 2852, 'oil': 3097, 'serving': 3897, 'covered': 1023, 'nuts': 3064, 'surfing': 4311, 'respected': 3653, 'devoid': 1230, 'woody': 4936, 'transfer': 4559, '1st': 28, 'italy': 2368, 'cameos': 658, 'calling': 653, 'spoiled': 4122, 'crying': 1074, 'photographer': 3259, 'improved': 2255, 'bonus': 534, 'clint': 850, 'eastwood': 1409, 'harry': 2039, 'odds': 3082, 'captain': 674, 'wives': 4918, 'stiller': 4189, 'jerry': 2396, 'exploration': 1593, 'eager': 1396, 'frequent': 1831, 'closed': 854, 'push': 3477, 'beings': 449, 'threw': 4470, 'weeks': 4839, 'offering': 3089, 'sidekick': 3966, 'babe': 375, 'businessman': 634, 'spooky': 4128, 'rogers': 3725, 'throwing': 4480, 'sinister': 3998, '45': 50, 'described': 1195, 'terry': 4415, 'pays': 3218, 'displays': 1293, 'shy': 3962, 'samurai': 3779, 'seven': 3903, 'lone': 2642, 'wolf': 4920, 'blade': 495, 'reaching': 3539, 'reached': 3537, 'spain': 4091, 'absence': 70, 'trademark': 4548, 'elaborate': 1439, 'guard': 1988, 'attached': 336, 'multi': 2935, 'importance': 2246, 'warrior': 4802, 'kingdom': 2480, 'prequel': 3372, 'exposed': 1598, 'mentioning': 2812, 'report': 3635, 'ancient': 225, 'noticed': 3049, 'met': 2822, 'murders': 2943, 'pulp': 3465, '1970s': 17, 'station': 4164, 'rats': 3531, 'bin': 483, 'aka': 168, 'mixed': 2877, 'freak': 1824, 'earned': 1401, 'recognized': 3570, 'pit': 3278, 'troubles': 4594, 'typically': 4624, 'felix': 1689, 'mitchell': 2875, 'occurs': 3078, 'exploitation': 1592, 'dancers': 1105, 'mentally': 2809, 'thoughtful': 4463, 'propaganda': 3435, 'exact': 1550, 'gangster': 1868, 'handsome': 2021, 'degree': 1164, 'lucy': 2684, 'account': 89, 'conservative': 948, 'alongside': 196, 'drives': 1367, 'thirty': 4456, 'cell': 730, 'sympathy': 4343, 'mini': 2854, '1999': 27, 'asks': 319, 'grab': 1949, 'flynn': 1765, 'sullivan': 4288, 'gift': 1906, 'wrap': 4963, 'clip': 851, 'vampire': 4711, 'erotic': 1515, 'promising': 3433, 'nightmares': 3015, 'drops': 1372, 'chasing': 772, 'hello': 2078, 'maria': 2736, 'attitudes': 347, 'proceeds': 3411, 'miracle': 2860, 'perfection': 3225, 'rolled': 3729, 'hart': 2041, 'australia': 356, 'lights': 2597, 'defined': 1160, 'motivations': 2915, 'useless': 4695, 'fifteen': 1706, 'hamlet': 2013, 'murderous': 2942, 'kicked': 2461, 'letting': 2583, 'protect': 3443, 'trail': 4553, 'ocean': 3079, 'delightful': 1168, 'newspaper': 3006, 'amy': 222, 'assistant': 326, 'generous': 1886, 'mixture': 2878, 'mundane': 2938, 'franchise': 1817, 'staff': 4138, 'arnold': 296, 'replaced': 3634, 'mel': 2796, 'hbo': 2055, 'sid': 3964, 'williams': 4888, 'patients': 3212, 'wendy': 4846, 'dinosaur': 1255, 'walker': 4778, 'trashy': 4566, 'chases': 771, 'measure': 2786, 'commit': 904, 'neil': 2995, 'dawson': 1128, 'namely': 2962, 'dreary': 1356, 'hook': 2152, 'table': 4346, 'formulaic': 1803, 'bone': 533, 'funeral': 1849, 'mill': 2845, 'pulls': 3464, 'opened': 3113, 'paulie': 3215, 'affected': 137, 'ron': 3734, 'credibility': 1047, 'ned': 2986, 'ignorant': 2223, 'burt': 629, 'reynolds': 3684, 'weight': 4840, 'lemmon': 2567, 'wisdom': 4902, 'jesse': 2397, 'cartoons': 705, 'donna': 1323, 'tears': 4380, 'hank': 2024, 'consistently': 954, 'sneak': 4043, 'taught': 4370, 'whatsoever': 4861, 'christians': 809, 'prostitute': 3440, 'connect': 944, 'desired': 1206, 'families': 1644, 'sellers': 3872, 'via': 4726, 'morris': 2908, 'ruth': 3763, 'roman': 3731, 'highest': 2102, 'cards': 683, 'greedy': 1969, 'kitchen': 2485, 'authentic': 358, '3rd': 47, 'damage': 1099, 'catholic': 720, 'complain': 919, 'campy': 664, 'essence': 1521, 'internet': 2327, 'freeman': 1829, 'brad': 560, 'draw': 1349, 'iii': 2227, 'spell': 4104, 'godzilla': 1929, 'formula': 1802, 'gifted': 1907, 'comedian': 887, 'cinematographer': 819, 'paltrow': 3178, 'carol': 693, 'birds': 485, 'millions': 2848, 'lips': 2615, 'causing': 726, 'bite': 489, 'theyd': 4443, 'buff': 611, 'aliens': 184, 'pretend': 3381, 'copies': 992, 'poster': 3353, 'possibility': 3349, 'neighborhood': 2993, 'thrill': 4471, 'concert': 935, 'persona': 3239, 'singers': 3994, 'waitress': 4773, 'boom': 537, 'plant': 3293, 'twin': 4615, 'jenny': 2393, 'craig': 1030, 'broke': 593, 'seventies': 3904, 'considerable': 950, 'shower': 3957, 'jazz': 2387, 'likewise': 2603, 'hop': 2154, 'plight': 3308, 'cox': 1026, 'spielberg': 4110, 'letters': 2582, 'halfway': 2008, 'devils': 1229, 'fury': 1855, 'dragged': 1343, 'contest': 967, 'fancy': 1649, 'winds': 4895, 'spirits': 4115, 'backdrop': 379, 'interaction': 2322, 'pg': 3250, 'disneys': 1290, 'deceased': 1146, 'slick': 4026, 'reflection': 3585, 'hints': 2113, 'reasonably': 3559, 'stellar': 4174, 'farce': 1654, 'versus': 4722, 'loosely': 2651, 'host': 2173, 'firstly': 1737, 'cliche': 843, 'atrocious': 335, 'victoria': 4732, 'intrigue': 2333, 'surrounding': 4319, 'hence': 2083, 'miserable': 2863, 'spread': 4133, 'philip': 3252, 'blunt': 520, 'hearts': 2066, 'text': 4419, 'spike': 4111, 'hip': 2114, '1933': 12, 'fields': 1705, 'directions': 1262, 'dollar': 1314, 'warner': 4799, 'sue': 4274, 'urge': 4689, 'arrived': 301, 'georges': 1894, '1996': 26, 'unsettling': 4679, 'mild': 2839, 'toilet': 4512, 'nyc': 3065, 'dating': 1120, 'lab': 2501, 'vague': 4705, 'persons': 3244, 'relatives': 3601, 'secrets': 3852, 'awfully': 373, 'vice': 4727, 'assumed': 329, 'lumet': 2688, 'finger': 1731, 'button': 639, 'jon': 2416, 'potentially': 3356, 'judy': 2426, 'stargate': 4151, 'delivering': 1171, 'distracting': 1297, 'stunt': 4245, 'precious': 3366, 'bang': 393, 'walls': 4783, 'countryside': 1015, 'chaplin': 756, 'widmark': 4882, 'divorce': 1301, 'daddy': 1096, 'outfit': 3144, 'happily': 2030, 'channels': 754, 'condition': 937, 'alternate': 200, 'eighties': 1437, 'forty': 1807, 'wwii': 4975, 'ho': 2127, 'realizing': 3555, 'banned': 395, 'locked': 2637, 'rangers': 3517, 'apes': 267, 'uninteresting': 4660, 'lying': 2690, 'liberal': 2588, 'kong': 2494, 'september': 3884, 'ken': 2453, '1973': 19, 'iran': 2350, 'sadness': 3770, 'nation': 2969, 'shake': 3914, 'bettie': 473, 'models': 2881, 'portion': 3338, 'cake': 648, 'accompanied': 86, 'painted': 3174, 'chaos': 755, 'poverty': 3357, 'drawing': 1350, 'classes': 834, 'historically': 2120, 'exotic': 1574, 'astaire': 330, 'ginger': 1908, 'notable': 3041, 'understated': 4646, 'term': 4405, 'risk': 3704, 'novels': 3053, 'distant': 1295, 'ignored': 2225, 'currently': 1085, 'techniques': 4384, 'tiny': 4500, 'priceless': 3390, 'lol': 2640, 'eyre': 1614, '1983': 22, 'gothic': 1945, 'dalton': 1098, '18': 10, 'orson': 3132, 'welles': 4844, '2007': 37, 'reed': 3580, 'quit': 3494, 'hugh': 2186, 'giallo': 1904, 'grandfather': 1954, 'hundred': 2195, 'murderer': 2941, 'catching': 716, 'fix': 1744, 'wrapped': 4964, 'clues': 865, 'dancer': 1104, 'britain': 588, 'southern': 4088, 'california': 650, 'blues': 519, 'elephant': 1444, 'illogical': 2231, 'denzel': 1181, 'tooth': 4524, 'hong': 2149, 'maggie': 2702, 'gods': 1928, 'civil': 826, 'jake': 2377, 'lincoln': 2608, 'lust': 2689, 'purposes': 3475, 'oz': 3160, 'basis': 408, 'mass': 2753, 'merit': 2816, 'superbly': 4297, 'matthau': 2771, 'attend': 344, 'helen': 2075, 'blake': 498, 'wholly': 4874, 'wed': 4835, 'solve': 4060, 'sunshine': 4294, 'minimum': 2856, 'junior': 2435, 'hint': 2112, 'kidding': 2465, 'disjointed': 1287, 'row': 3744, 'beast': 422, 'redemption': 3578, 'despair': 1207, 'adequate': 120, 'existed': 1570, 'luke': 2687, 'dressing': 1359, 'cliff': 847, 'doc': 1303, 'savage': 3793, 'holiday': 2134, 'bergman': 466, 'parties': 3196, 'generic': 1885, 'abusive': 75, 'trained': 4557, 'april': 284, 'royal': 3746, 'mail': 2706, 'equipment': 1511, 'alice': 182, 'contained': 963, 'cd': 728, 'revolutionary': 3681, 'gotta': 1946, 'closest': 857, 'map': 2733, 'swear': 4334, 'franco': 1820, '1968': 16, 'broadcast': 591, 'unhappy': 4656, 'bitter': 491, 'unfolds': 4651, 'grasp': 1960, 'relation': 3595, 'aging': 153, 'affect': 136, 'punk': 3468, 'gag': 1861, 'rap': 3520, 'facial': 1619, 'daring': 1114, 'tender': 4401, 'resembles': 3646, 'household': 2179, 'impress': 2250, 'demands': 1175, 'quote': 3496, 'methods': 2825, 'prepared': 3371, 'appreciation': 281, 'st': 4137, 'incompetent': 2266, 'frustration': 1843, 'drunken': 1376, 'smoke': 4039, 'der': 1191, 'leo': 2571, 'allowing': 191, 'iraq': 2351, 'tomatoes': 4515, 'boredom': 542, 'shelf': 3926, 'splendid': 4119, 'goodness': 1938, 'chicks': 787, 'bacall': 377, 'ridiculously': 3694, 'climactic': 848, 'icon': 2211, 'movements': 2924, 'emma': 1457, 'vietnam': 4735, 'jaws': 2385, 'hal': 2006, 'robbins': 3712, 'parallel': 3185, 'concern': 931, 'invasion': 2340, 'depressed': 1187, 'nonsensical': 3031, 'satisfied': 3789, 'orange': 3125, 'rocky': 3723, 'butler': 637, 'plausible': 3295, 'reunion': 3669, 'thru': 4483, 'innovative': 2295, 'politically': 3325, 'ninja': 3018, 'masterful': 2758, 'belong': 459, 'pig': 3274, 'spiritual': 4116, 'blowing': 515, 'nuclear': 3057, 'lane': 2515, 'pamela': 3179, 'lively': 2627, 'march': 2734, 'blob': 507, 'earl': 1398, 'fisher': 1739, 'restored': 3659, 'edition': 1422, 'nicholson': 3011, 'alert': 178, 'streep': 4215, 'cagney': 646, 'reel': 3581, 'holmes': 2139, '1984': 23, 'cure': 1081, 'overacting': 3149, 'ha': 2002, 'styles': 4250, 'sandra': 3782, 'eaten': 1412, 'helicopter': 2076, 'bush': 632, 'dentist': 1180, 'shining': 3933, 'wet': 4855, 'resort': 3650, 'marty': 2749, 'diane': 1238, 'fascinated': 1657, 'atlantis': 332, 'explosions': 1597, 'laura': 2536, 'neck': 2985, 'mouse': 2919, 'rabbit': 3498, 'creativity': 1042, 'cave': 727, 'homer': 2144, 'areas': 287, 'elegant': 1441, 'bride': 577, 'em': 1452, 'dances': 1106, 'specifically': 4100, 'soccer': 4048, 'womens': 4924, 'classical': 836, 'fooled': 1780, 'travesty': 4570, 'unintentional': 4658, 'lily': 2605, 'stinks': 4192, 'olivier': 3103, 'understandable': 4644, 'waves': 4819, 'argument': 291, 'campbell': 663, 'warmth': 4796, 'ramones': 3512, 'principal': 3398, 'swim': 4337, 'che': 773, 'influenced': 2287, '20th': 38, 'abc': 63, 'danes': 1108, 'claire': 831, 'mighty': 2836, 'unreal': 4676, 'darker': 1116, 'shark': 3921, 'garbo': 1871, 'ridden': 3691, 'eg': 1434, 'massacre': 2754, 'fulci': 1845, 'suffered': 4276, 'gadget': 1860, 'checking': 778, 'dust': 1388, 'hanks': 2025, 'cinderella': 815, 'mickey': 2831, 'ticket': 4487, 'gabriel': 1859, 'arrival': 299, 'popularity': 3334, 'dorothy': 1330, 'brooklyn': 595, 'sexually': 3910, 'horrifying': 2167, 'destiny': 1212, 'richardson': 3688, 'shirley': 3936, 'brenda': 575, 'voight': 4764, 'enterprise': 1495, 'suitable': 4285, 'modesty': 2883, 'newly': 3004, 'norman': 3035, 'pitt': 3280, 'feed': 1683, 'willis': 4890, 'motives': 2916, 'robots': 3718, 'educational': 1425, 'bud': 607, 'carl': 692, 'balls': 390, 'remaining': 3610, 'suspicious': 4332, 'fish': 1738, 'chain': 741, 'awe': 370, 'seed': 3856, 'nations': 2971, 'mildred': 2841, 'raising': 3509, 'jeremy': 2394, 'davies': 1125, 'scooby': 3820, 'doo': 1325, 'senseless': 3878, 'hates': 2048, 'health': 2060, 'mummy': 2937, 'hoffman': 2128, 'nicholas': 3010, 'twelve': 4611, 'brady': 561, 'grinch': 1975, 'edgar': 1417, 'magazine': 2701, 'bumbling': 622, 'peters': 3248, 'ritter': 3705, 'viewings': 4741, 'whale': 4857, 'navy': 2976, 'berlin': 467, 'polanski': 3321, 'teachers': 4376, 'carrey': 696}\n"
     ]
    }
   ],
   "source": [
    "print(str(vocabulary))"
   ]
  },
  {
   "cell_type": "markdown",
   "metadata": {},
   "source": [
    "Once you have added the endpoint name to the Lambda function, click on **Save**. Your Lambda function is now up and running. Next we need to create a way for our web app to execute the Lambda function."
   ]
  },
  {
   "cell_type": "markdown",
   "metadata": {},
   "source": [
    "### Setting up API Gateway\n",
    "\n",
    "Now that our Lambda function is set up, it is time to create a new API using API Gateway that will trigger the Lambda function we have just created.\n",
    "\n",
    "Using AWS Console, navigate to **Amazon API Gateway** and then click on **Get started**.\n",
    "\n",
    "On the next page, make sure that **New API** is selected and give the new api a name, for example, `sentiment_analysis_web_app`. Then, click on **Create API**.\n",
    "\n",
    "Now we have created an API, however it doesn't currently do anything. What we want it to do is to trigger the Lambda function that we created earlier.\n",
    "\n",
    "Select the **Actions** dropdown menu and click **Create Method**. A new blank method will be created, select its dropdown menu and select **POST**, then click on the check mark beside it.\n",
    "\n",
    "For the integration point, make sure that **Lambda Function** is selected and click on the **Use Lambda Proxy integration**. This option makes sure that the data that is sent to the API is then sent directly to the Lambda function with no processing. It also means that the return value must be a proper response object as it will also not be processed by API Gateway.\n",
    "\n",
    "Type the name of the Lambda function you created earlier into the **Lambda Function** text entry box and then click on **Save**. Click on **OK** in the pop-up box that then appears, giving permission to API Gateway to invoke the Lambda function you created.\n",
    "\n",
    "The last step in creating the API Gateway is to select the **Actions** dropdown and click on **Deploy API**. You will need to create a new Deployment stage and name it anything you like, for example `prod`.\n",
    "\n",
    "You have now successfully set up a public API to access your SageMaker model. Make sure to copy or write down the URL provided to invoke your newly created public API as this will be needed in the next step. This URL can be found at the top of the page, highlighted in blue next to the text **Invoke URL**."
   ]
  },
  {
   "cell_type": "markdown",
   "metadata": {},
   "source": [
    "## Step 7: Deploying our web app\n",
    "\n",
    "Now that we have a publicly available API, we can start using it in a web app. For our purposes, we have provided a simple static html file which can make use of the public api you created earlier.\n",
    "\n",
    "In the `website` folder there should be a file called `index.html`. Download the file to your computer and open that file up in a text editor of your choice. There should be a line which contains **\\*\\*REPLACE WITH PUBLIC API URL\\*\\***. Replace this string with the url that you wrote down in the last step and then save the file.\n",
    "\n",
    "Now, if you open `index.html` on your local computer, your browser will behave as a local web server and you can use the provided site to interact with your SageMaker model.\n",
    "\n",
    "If you'd like to go further, you can host this html file anywhere you'd like, for example using github or hosting a static site on Amazon's S3. Once you have done this you can share the link with anyone you'd like and have them play with it too!\n",
    "\n",
    "> **Important Note** In order for the web app to communicate with the SageMaker endpoint, the endpoint has to actually be deployed and running. This means that you are paying for it. Make sure that the endpoint is running when you want to use the web app but that you shut it down when you don't need it, otherwise you will end up with a surprisingly large AWS bill."
   ]
  },
  {
   "cell_type": "markdown",
   "metadata": {},
   "source": [
    "### Delete the endpoint\n",
    "\n",
    "Remember to always shut down your endpoint if you are no longer using it. You are charged for the length of time that the endpoint is running so if you forget and leave it on you could end up with an unexpectedly large bill."
   ]
  },
  {
   "cell_type": "code",
   "execution_count": 50,
   "metadata": {},
   "outputs": [],
   "source": [
    "xgb_predictor.delete_endpoint()"
   ]
  },
  {
   "cell_type": "markdown",
   "metadata": {},
   "source": [
    "## Optional: Clean up\n",
    "\n",
    "The default notebook instance on SageMaker doesn't have a lot of excess disk space available. As you continue to complete and execute notebooks you will eventually fill up this disk space, leading to errors which can be difficult to diagnose. Once you are completely finished using a notebook it is a good idea to remove the files that you created along the way. Of course, you can do this from the terminal or from the notebook hub if you would like. The cell below contains some commands to clean up the created files from within the notebook."
   ]
  },
  {
   "cell_type": "code",
   "execution_count": 52,
   "metadata": {},
   "outputs": [],
   "source": [
    "# First we will remove all of the files contained in the data_dir directory\n",
    "!rm $data_dir/*\n",
    "\n",
    "# And then we delete the directory itself\n",
    "!rmdir $data_dir\n",
    "\n",
    "# Similarly we remove the files in the cache_dir directory and the directory itself\n",
    "!rm $cache_dir/*\n",
    "!rmdir $cache_dir"
   ]
  },
  {
   "cell_type": "code",
   "execution_count": null,
   "metadata": {},
   "outputs": [],
   "source": []
  }
 ],
 "metadata": {
  "kernelspec": {
   "display_name": "conda_python3",
   "language": "python",
   "name": "conda_python3"
  },
  "language_info": {
   "codemirror_mode": {
    "name": "ipython",
    "version": 3
   },
   "file_extension": ".py",
   "mimetype": "text/x-python",
   "name": "python",
   "nbconvert_exporter": "python",
   "pygments_lexer": "ipython3",
   "version": "3.6.5"
  }
 },
 "nbformat": 4,
 "nbformat_minor": 2
}
